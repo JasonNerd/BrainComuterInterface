{
 "cells": [
  {
   "cell_type": "markdown",
   "id": "37e7842a",
   "metadata": {
    "deletable": true,
    "editable": true
   },
   "source": [
    "# 步骤2：使用HMMs进行数据标记\n",
    "由于无法实时的获取到T5当前写的字母对应于哪些时间步，因此这里使用隐马尔可夫模型对数据进行标记。"
   ]
  },
  {
   "cell_type": "code",
   "execution_count": 1,
   "id": "cdb25389",
   "metadata": {
    "collapsed": false,
    "deletable": true,
    "editable": true
   },
   "outputs": [],
   "source": [
    "import numpy as np\n",
    "import scipy.io\n",
    "import sys\n",
    "sys.path.append(\"../handwritingBCI/\") # 这样就可以引用其中的py文件\n",
    "import os\n",
    "import datetime\n",
    "from characterDefinitions import getHandwritingCharacterDefinitions\n",
    "from dataLabelingStep import labelDataset, constructRNNTargets\n",
    "\n",
    "rootDir =  '../handwritingBCI/handwritingBCIData/'\n",
    "dataDirs = ['t5.2019.05.08','t5.2019.11.25','t5.2019.12.09','t5.2019.12.11','t5.2019.12.18',\n",
    "            't5.2019.12.20','t5.2020.01.06','t5.2020.01.08','t5.2020.01.13','t5.2020.01.15']\n",
    "res_root = rootDir+\"cache/RNNTrainingSteps/Step2_HMMLabels/\"\n",
    "twc_root = rootDir+'cache/RNNTrainingSteps/Step1_TimeWarping/'\n",
    "hlb_path = rootDir+'cache/RNNTrainingSteps/trainTestPartitions_HeldOutBlocks.mat'\n",
    "hlt_path = rootDir+'cache/RNNTrainingSteps/trainTestPartitions_HeldOutTrials.mat'\n",
    "charDef = getHandwritingCharacterDefinitions()\n",
    "if not os.path.isdir(res_root):\n",
    "    os.makedirs(res_root)  # 注意不使用mkdir, 因为是多层目录"
   ]
  },
  {
   "cell_type": "markdown",
   "id": "0f0576cf",
   "metadata": {
    "deletable": true,
    "editable": true
   },
   "source": [
    "## HMMs Labeling\n",
    "### 1. 数据说明\n",
    "### 1-1. 语句字典\n",
    "`'__header__', '__version__', '__globals__'`: 文件信息。     \n",
    "`'neuralActivityCube'`, 三维数据张量S(sentences) T(time steps) N(electrodes) (102, 10669, 192). 注意它可以从`neuralActivityTimeSeries`完全被重构出来，并且时间步使用用时最多的句子（因此其他的会有冗余），变量`numTimeBinsPerSentence`记录了每个句子的真实时间步数。    \n",
    "`'sentencePrompt'`, 字符串数组。显示在屏幕上的句子，可能包含#>?等等字符  \n",
    "`'intendedText'`, 字符串数组，与`sentencePrompt`相同，除非是#(表停顿，去掉）以及自由书写等等  \n",
    "`'numTimeBinsPerSentence'`, 其中的元素i表示第i个句子持续的时间步数  \n",
    "`'sentenceCondition'`, 表示第i个句子的实验条件，例如提词复写、带随机停顿的提词复写等等  \n",
    "`'sentenceBlockNums'`, 记录句子i时的块号  \n",
    "`'excludedSentences'`, 值为0或者1，为1时表示该句子作废（例如T5错误的拼写，不想写这个，等等），不可用于分析。  \n",
    "`'neuralActivityTimeSeries'`, 对所有192个电极和所有10毫秒时间步的数据进行分组的尖峰计数的时间序列。注意，每当块号发生变化时，时间序列中就会出现不连续的中断(在块之间记录的神经活动没有被保存)。  \n",
    "`'clockTimeSeries'`, 10ms的时间步    \n",
    "`'blockNumsTimeSeries'`, 10ms的时间步，记录对应的块号  \n",
    "`'blockList'`, 可用的块号列表。    \n",
    "`'blockStartDates'`, 每一块的起始时间，精确到秒，可用于计算两个块间隔时长。     \n",
    "`'goCueOnsetTimeBin'`, 第i号元素表示第i次实验中go指令对应的时间步序号。     \n",
    "`'delayCueOnsetTimeBin'`, 停等周期的起始时间步序号。  \n",
    "`'sentenceEndTimeBin'`, T5结束句子书写的时间步号。  \n",
    "`arrayGeometryMap`,   \n",
    "`rnn_charProbTimeSeries`,RNN解码器每10毫秒时间步输出的字符概率的时间序列。在实时解码器未激活的块期间输出等于零。  \n",
    "`rnn_newCharTimeSeries`, RNN解码器每10毫秒时间步输出的新字符信号的时间序列。该信号被设定阈值(阈值= 0.3)，以确定在实时解码过程中何时输出新字符。  \n",
    "`rnn_decodedCharTimes`, 一个矩阵，其中每一行i对应一个被RNN解码的字符。第1列表示该字符被解码时的时间步，第2列表示哪个字符被解码  \n",
    "`rnn_decodedText`,  i号实验的解码结果文本  \n",
    "`rnn_charMapASCII`, 字符映射  \n"
   ]
  },
  {
   "cell_type": "markdown",
   "id": "073fe2eb",
   "metadata": {
    "deletable": true,
    "editable": true
   },
   "source": [
    "`labelDataset()`返回值:    \n",
    "`letterStarts` (matrix : N x 200) 字符起始时间步, 每一行代表个句子  \n",
    "`letterDurations` (matrix : N x 200): 每个字符持续的时间步数，每一行表示一个句子  \n",
    "`neuralCube` (matrix : N x T x E): 一个规则的平滑的神经活动数据 (N = # of sentences, T = # of time steps, E = # of electrodes)   \n",
    "`blankWindows` (list): A nested list of time windows where periods of 'blank' pauses occur in the data. This is used to extract 'blank' snippets for simulating pauses. \n",
    "\n",
    "`constructRNNTargets()`返回值:   \n",
    "`charStartTarget`(matrix : N x T): A matrix containing the character start signal target for each sentence.   \n",
    "`charProbTarget`(matrix : N x T x 31): A matrix of timestep-by-timestep character probability targets for all 31 characters (one-hot encoding)   \n",
    "`gnoreErrorHere`(matrix : N x T): A matrix that specifies which time steps to ignore when training the RNN (1 = ignore). We use this feature to prevent the RNN from being pnealized for errors that occur at the very start of the trial, before T5 has written any character yet (if the HMM has labeled this as a 'blank' state)."
   ]
  },
  {
   "cell_type": "code",
   "execution_count": null,
   "id": "40503a05",
   "metadata": {
    "collapsed": false,
    "deletable": true,
    "editable": true
   },
   "outputs": [
    {
     "name": "stdout",
     "output_type": "stream",
     "text": [
      "Labeling t5.2019.05.08 dataset\n",
      "Labeling 'HeldOutBlocks' partition\n",
      "HMM Iteration 0\n",
      "HMM Iteration 1\n"
     ]
    },
    {
     "name": "stderr",
     "output_type": "stream",
     "text": [
      "C:\\Users\\mrrai\\.conda\\envs\\tf115\\lib\\site-packages\\numpy\\core\\_asarray.py:136: VisibleDeprecationWarning: Creating an ndarray from ragged nested sequences (which is a list-or-tuple of lists-or-tuples-or ndarrays with different lengths or shapes) is deprecated. If you meant to do this, you must specify 'dtype=object' when creating the ndarray\n",
      "  return array(a, dtype, copy=False, order=order, subok=True)\n"
     ]
    },
    {
     "name": "stdout",
     "output_type": "stream",
     "text": [
      "Labeling 'HeldOutTrials' partition\n",
      "HMM Iteration 0\n",
      "HMM Iteration 1\n"
     ]
    },
    {
     "name": "stderr",
     "output_type": "stream",
     "text": [
      "C:\\Users\\mrrai\\.conda\\envs\\tf115\\lib\\site-packages\\numpy\\core\\_asarray.py:136: VisibleDeprecationWarning: Creating an ndarray from ragged nested sequences (which is a list-or-tuple of lists-or-tuples-or ndarrays with different lengths or shapes) is deprecated. If you meant to do this, you must specify 'dtype=object' when creating the ndarray\n",
      "  return array(a, dtype, copy=False, order=order, subok=True)\n"
     ]
    },
    {
     "name": "stdout",
     "output_type": "stream",
     "text": [
      "Total time taken: 2144.131006 seconds\n",
      " \n",
      "Labeling t5.2019.11.25 dataset\n",
      "Labeling 'HeldOutBlocks' partition\n",
      "HMM Iteration 0\n",
      "HMM Iteration 1\n"
     ]
    },
    {
     "name": "stderr",
     "output_type": "stream",
     "text": [
      "C:\\Users\\mrrai\\.conda\\envs\\tf115\\lib\\site-packages\\numpy\\core\\_asarray.py:136: VisibleDeprecationWarning: Creating an ndarray from ragged nested sequences (which is a list-or-tuple of lists-or-tuples-or ndarrays with different lengths or shapes) is deprecated. If you meant to do this, you must specify 'dtype=object' when creating the ndarray\n",
      "  return array(a, dtype, copy=False, order=order, subok=True)\n"
     ]
    },
    {
     "name": "stdout",
     "output_type": "stream",
     "text": [
      "Labeling 'HeldOutTrials' partition\n",
      "HMM Iteration 0\n",
      "HMM Iteration 1\n"
     ]
    },
    {
     "name": "stderr",
     "output_type": "stream",
     "text": [
      "C:\\Users\\mrrai\\.conda\\envs\\tf115\\lib\\site-packages\\numpy\\core\\_asarray.py:136: VisibleDeprecationWarning: Creating an ndarray from ragged nested sequences (which is a list-or-tuple of lists-or-tuples-or ndarrays with different lengths or shapes) is deprecated. If you meant to do this, you must specify 'dtype=object' when creating the ndarray\n",
      "  return array(a, dtype, copy=False, order=order, subok=True)\n"
     ]
    },
    {
     "name": "stdout",
     "output_type": "stream",
     "text": [
      "Total time taken: 4936.452962 seconds\n",
      " \n",
      "Labeling t5.2019.12.09 dataset\n",
      "Labeling 'HeldOutBlocks' partition\n",
      "HMM Iteration 0\n",
      "HMM Iteration 1\n"
     ]
    },
    {
     "name": "stderr",
     "output_type": "stream",
     "text": [
      "C:\\Users\\mrrai\\.conda\\envs\\tf115\\lib\\site-packages\\numpy\\core\\_asarray.py:136: VisibleDeprecationWarning: Creating an ndarray from ragged nested sequences (which is a list-or-tuple of lists-or-tuples-or ndarrays with different lengths or shapes) is deprecated. If you meant to do this, you must specify 'dtype=object' when creating the ndarray\n",
      "  return array(a, dtype, copy=False, order=order, subok=True)\n"
     ]
    },
    {
     "name": "stdout",
     "output_type": "stream",
     "text": [
      "Labeling 'HeldOutTrials' partition\n",
      "HMM Iteration 0\n",
      "HMM Iteration 1\n"
     ]
    },
    {
     "name": "stderr",
     "output_type": "stream",
     "text": [
      "C:\\Users\\mrrai\\.conda\\envs\\tf115\\lib\\site-packages\\numpy\\core\\_asarray.py:136: VisibleDeprecationWarning: Creating an ndarray from ragged nested sequences (which is a list-or-tuple of lists-or-tuples-or ndarrays with different lengths or shapes) is deprecated. If you meant to do this, you must specify 'dtype=object' when creating the ndarray\n",
      "  return array(a, dtype, copy=False, order=order, subok=True)\n"
     ]
    },
    {
     "name": "stdout",
     "output_type": "stream",
     "text": [
      "Total time taken: 1397.336474 seconds\n",
      " \n",
      "Labeling t5.2019.12.11 dataset\n",
      "Labeling 'HeldOutBlocks' partition\n",
      "HMM Iteration 0\n",
      "HMM Iteration 1\n"
     ]
    },
    {
     "name": "stderr",
     "output_type": "stream",
     "text": [
      "C:\\Users\\mrrai\\.conda\\envs\\tf115\\lib\\site-packages\\numpy\\core\\_asarray.py:136: VisibleDeprecationWarning: Creating an ndarray from ragged nested sequences (which is a list-or-tuple of lists-or-tuples-or ndarrays with different lengths or shapes) is deprecated. If you meant to do this, you must specify 'dtype=object' when creating the ndarray\n",
      "  return array(a, dtype, copy=False, order=order, subok=True)\n"
     ]
    },
    {
     "name": "stdout",
     "output_type": "stream",
     "text": [
      "Labeling 'HeldOutTrials' partition\n",
      "HMM Iteration 0\n",
      "HMM Iteration 1\n"
     ]
    },
    {
     "name": "stderr",
     "output_type": "stream",
     "text": [
      "C:\\Users\\mrrai\\.conda\\envs\\tf115\\lib\\site-packages\\numpy\\core\\_asarray.py:136: VisibleDeprecationWarning: Creating an ndarray from ragged nested sequences (which is a list-or-tuple of lists-or-tuples-or ndarrays with different lengths or shapes) is deprecated. If you meant to do this, you must specify 'dtype=object' when creating the ndarray\n",
      "  return array(a, dtype, copy=False, order=order, subok=True)\n"
     ]
    },
    {
     "name": "stdout",
     "output_type": "stream",
     "text": [
      "Total time taken: 1089.029927 seconds\n",
      " \n",
      "Labeling t5.2019.12.18 dataset\n",
      "Labeling 'HeldOutBlocks' partition\n",
      "HMM Iteration 0\n",
      "HMM Iteration 1\n"
     ]
    },
    {
     "name": "stderr",
     "output_type": "stream",
     "text": [
      "C:\\Users\\mrrai\\.conda\\envs\\tf115\\lib\\site-packages\\numpy\\core\\_asarray.py:136: VisibleDeprecationWarning: Creating an ndarray from ragged nested sequences (which is a list-or-tuple of lists-or-tuples-or ndarrays with different lengths or shapes) is deprecated. If you meant to do this, you must specify 'dtype=object' when creating the ndarray\n",
      "  return array(a, dtype, copy=False, order=order, subok=True)\n"
     ]
    },
    {
     "name": "stdout",
     "output_type": "stream",
     "text": [
      "Labeling 'HeldOutTrials' partition\n",
      "HMM Iteration 0\n",
      "HMM Iteration 1\n"
     ]
    },
    {
     "name": "stderr",
     "output_type": "stream",
     "text": [
      "C:\\Users\\mrrai\\.conda\\envs\\tf115\\lib\\site-packages\\numpy\\core\\_asarray.py:136: VisibleDeprecationWarning: Creating an ndarray from ragged nested sequences (which is a list-or-tuple of lists-or-tuples-or ndarrays with different lengths or shapes) is deprecated. If you meant to do this, you must specify 'dtype=object' when creating the ndarray\n",
      "  return array(a, dtype, copy=False, order=order, subok=True)\n"
     ]
    },
    {
     "name": "stdout",
     "output_type": "stream",
     "text": [
      "Total time taken: 1176.388896 seconds\n",
      " \n",
      "Labeling t5.2019.12.20 dataset\n",
      "Labeling 'HeldOutBlocks' partition\n",
      "HMM Iteration 0\n",
      "HMM Iteration 1\n"
     ]
    },
    {
     "name": "stderr",
     "output_type": "stream",
     "text": [
      "C:\\Users\\mrrai\\.conda\\envs\\tf115\\lib\\site-packages\\numpy\\core\\_asarray.py:136: VisibleDeprecationWarning: Creating an ndarray from ragged nested sequences (which is a list-or-tuple of lists-or-tuples-or ndarrays with different lengths or shapes) is deprecated. If you meant to do this, you must specify 'dtype=object' when creating the ndarray\n",
      "  return array(a, dtype, copy=False, order=order, subok=True)\n"
     ]
    },
    {
     "name": "stdout",
     "output_type": "stream",
     "text": [
      "Labeling 'HeldOutTrials' partition\n",
      "HMM Iteration 0\n",
      "HMM Iteration 1\n"
     ]
    },
    {
     "name": "stderr",
     "output_type": "stream",
     "text": [
      "C:\\Users\\mrrai\\.conda\\envs\\tf115\\lib\\site-packages\\numpy\\core\\_asarray.py:136: VisibleDeprecationWarning: Creating an ndarray from ragged nested sequences (which is a list-or-tuple of lists-or-tuples-or ndarrays with different lengths or shapes) is deprecated. If you meant to do this, you must specify 'dtype=object' when creating the ndarray\n",
      "  return array(a, dtype, copy=False, order=order, subok=True)\n"
     ]
    },
    {
     "name": "stdout",
     "output_type": "stream",
     "text": [
      "Total time taken: 1088.006955 seconds\n",
      " \n",
      "Labeling t5.2020.01.06 dataset\n",
      "Labeling 'HeldOutBlocks' partition\n",
      "HMM Iteration 0\n",
      "HMM Iteration 1\n"
     ]
    },
    {
     "name": "stderr",
     "output_type": "stream",
     "text": [
      "C:\\Users\\mrrai\\.conda\\envs\\tf115\\lib\\site-packages\\numpy\\core\\_asarray.py:136: VisibleDeprecationWarning: Creating an ndarray from ragged nested sequences (which is a list-or-tuple of lists-or-tuples-or ndarrays with different lengths or shapes) is deprecated. If you meant to do this, you must specify 'dtype=object' when creating the ndarray\n",
      "  return array(a, dtype, copy=False, order=order, subok=True)\n"
     ]
    },
    {
     "name": "stdout",
     "output_type": "stream",
     "text": [
      "Labeling 'HeldOutTrials' partition\n",
      "HMM Iteration 0\n",
      "HMM Iteration 1\n"
     ]
    },
    {
     "name": "stderr",
     "output_type": "stream",
     "text": [
      "C:\\Users\\mrrai\\.conda\\envs\\tf115\\lib\\site-packages\\numpy\\core\\_asarray.py:136: VisibleDeprecationWarning: Creating an ndarray from ragged nested sequences (which is a list-or-tuple of lists-or-tuples-or ndarrays with different lengths or shapes) is deprecated. If you meant to do this, you must specify 'dtype=object' when creating the ndarray\n",
      "  return array(a, dtype, copy=False, order=order, subok=True)\n"
     ]
    },
    {
     "name": "stdout",
     "output_type": "stream",
     "text": [
      "Total time taken: 789.429435 seconds\n",
      " \n",
      "Labeling t5.2020.01.08 dataset\n",
      "Labeling 'HeldOutBlocks' partition\n",
      "HMM Iteration 0\n",
      "HMM Iteration 1\n"
     ]
    },
    {
     "name": "stderr",
     "output_type": "stream",
     "text": [
      "C:\\Users\\mrrai\\.conda\\envs\\tf115\\lib\\site-packages\\numpy\\core\\_asarray.py:136: VisibleDeprecationWarning: Creating an ndarray from ragged nested sequences (which is a list-or-tuple of lists-or-tuples-or ndarrays with different lengths or shapes) is deprecated. If you meant to do this, you must specify 'dtype=object' when creating the ndarray\n",
      "  return array(a, dtype, copy=False, order=order, subok=True)\n"
     ]
    },
    {
     "name": "stdout",
     "output_type": "stream",
     "text": [
      "Labeling 'HeldOutTrials' partition\n",
      "HMM Iteration 0\n",
      "HMM Iteration 1\n"
     ]
    },
    {
     "name": "stderr",
     "output_type": "stream",
     "text": [
      "C:\\Users\\mrrai\\.conda\\envs\\tf115\\lib\\site-packages\\numpy\\core\\_asarray.py:136: VisibleDeprecationWarning: Creating an ndarray from ragged nested sequences (which is a list-or-tuple of lists-or-tuples-or ndarrays with different lengths or shapes) is deprecated. If you meant to do this, you must specify 'dtype=object' when creating the ndarray\n",
      "  return array(a, dtype, copy=False, order=order, subok=True)\n"
     ]
    },
    {
     "name": "stdout",
     "output_type": "stream",
     "text": [
      "Total time taken: 875.16205 seconds\n",
      " \n",
      "Labeling t5.2020.01.13 dataset\n",
      "Labeling 'HeldOutBlocks' partition\n",
      "HMM Iteration 0\n",
      "HMM Iteration 1\n"
     ]
    },
    {
     "name": "stderr",
     "output_type": "stream",
     "text": [
      "C:\\Users\\mrrai\\.conda\\envs\\tf115\\lib\\site-packages\\numpy\\core\\_asarray.py:136: VisibleDeprecationWarning: Creating an ndarray from ragged nested sequences (which is a list-or-tuple of lists-or-tuples-or ndarrays with different lengths or shapes) is deprecated. If you meant to do this, you must specify 'dtype=object' when creating the ndarray\n",
      "  return array(a, dtype, copy=False, order=order, subok=True)\n"
     ]
    },
    {
     "name": "stdout",
     "output_type": "stream",
     "text": [
      "Labeling 'HeldOutTrials' partition\n",
      "HMM Iteration 0\n",
      "HMM Iteration 1\n"
     ]
    },
    {
     "name": "stderr",
     "output_type": "stream",
     "text": [
      "C:\\Users\\mrrai\\.conda\\envs\\tf115\\lib\\site-packages\\numpy\\core\\_asarray.py:136: VisibleDeprecationWarning: Creating an ndarray from ragged nested sequences (which is a list-or-tuple of lists-or-tuples-or ndarrays with different lengths or shapes) is deprecated. If you meant to do this, you must specify 'dtype=object' when creating the ndarray\n",
      "  return array(a, dtype, copy=False, order=order, subok=True)\n"
     ]
    },
    {
     "name": "stdout",
     "output_type": "stream",
     "text": [
      "Total time taken: 292.62443 seconds\n",
      " \n",
      "Labeling t5.2020.01.15 dataset\n",
      "Labeling 'HeldOutBlocks' partition\n",
      "HMM Iteration 0\n",
      "HMM Iteration 1\n"
     ]
    },
    {
     "name": "stderr",
     "output_type": "stream",
     "text": [
      "C:\\Users\\mrrai\\.conda\\envs\\tf115\\lib\\site-packages\\numpy\\core\\_asarray.py:136: VisibleDeprecationWarning: Creating an ndarray from ragged nested sequences (which is a list-or-tuple of lists-or-tuples-or ndarrays with different lengths or shapes) is deprecated. If you meant to do this, you must specify 'dtype=object' when creating the ndarray\n",
      "  return array(a, dtype, copy=False, order=order, subok=True)\n"
     ]
    },
    {
     "name": "stdout",
     "output_type": "stream",
     "text": [
      "Labeling 'HeldOutTrials' partition\n",
      "HMM Iteration 0\n",
      "HMM Iteration 1\n",
      "Total time taken: 331.43229 seconds\n",
      " \n"
     ]
    },
    {
     "name": "stderr",
     "output_type": "stream",
     "text": [
      "C:\\Users\\mrrai\\.conda\\envs\\tf115\\lib\\site-packages\\numpy\\core\\_asarray.py:136: VisibleDeprecationWarning: Creating an ndarray from ragged nested sequences (which is a list-or-tuple of lists-or-tuples-or ndarrays with different lengths or shapes) is deprecated. If you meant to do this, you must specify 'dtype=object' when creating the ndarray\n",
      "  return array(a, dtype, copy=False, order=order, subok=True)\n"
     ]
    }
   ],
   "source": [
    "def run():\n",
    "    for dataDir in dataDirs:\n",
    "        timeStart = datetime.datetime.now()\n",
    "        print('Labeling ' + dataDir + ' dataset')\n",
    "        #load sentences, single letter, time-warped files, and train/test partitions\n",
    "        sentenceDat = scipy.io.loadmat(rootDir+'Datasets/'+dataDir+'/sentences.mat')\n",
    "        singleLetterDat = scipy.io.loadmat(rootDir+'Datasets/'+dataDir+'/singleLetters.mat')\n",
    "        twCubes = scipy.io.loadmat(twc_root+dataDir+'_warpedCubes.mat')\n",
    "        cvPart_heldOutBlocks = scipy.io.loadmat(hlb_path)\n",
    "        cvPart_heldOutTrials = scipy.io.loadmat(hlt_path)\n",
    "        cvParts = [cvPart_heldOutBlocks, cvPart_heldOutTrials]\n",
    "        # 去掉句子中的#号\n",
    "        for x in range(sentenceDat['sentencePrompt'].shape[0]):\n",
    "            sentenceDat['sentencePrompt'][x,0][0] = sentenceDat['sentencePrompt'][x,0][0].replace('#','')\n",
    "        cvFolderNames = ['HeldOutBlocks', 'HeldOutTrials']\n",
    "        sentences = sentenceDat['sentencePrompt'][:,0]\n",
    "        sentenceLens = sentenceDat['numTimeBinsPerSentence'][:,0]\n",
    "        # 对每一个实验部分进行标记\n",
    "        for cvPart, cvFolder in zip(cvParts, cvFolderNames):\n",
    "            print(\"Labeling '\" + cvFolder + \"' partition\")\n",
    "            trainPartitionIdx = cvPart[dataDir+'_train']\n",
    "            testPartitionIdx = cvPart[dataDir+'_test']\n",
    "            llb = labelDataset(sentenceDat, singleLetterDat, twCubes, \n",
    "                               trainPartitionIdx, testPartitionIdx, charDef)\n",
    "            letterStarts, letterDurations, blankWindows = llb\n",
    "            cci = constructRNNTargets(letterStarts, letterDurations, \n",
    "                                      sentenceDat['neuralActivityCube'].shape[1], \n",
    "                                      sentences, charDef)\n",
    "            charStartTarget, charProbTarget, ignoreErrorHere = cci\n",
    "            saveDict = {}\n",
    "            saveDict['letterStarts'] = letterStarts\n",
    "            saveDict['letterDurations'] = letterDurations\n",
    "            saveDict['charStartTarget'] = charStartTarget.astype(np.float32)\n",
    "            saveDict['charProbTarget'] = charProbTarget.astype(np.float32)\n",
    "            saveDict['ignoreErrorHere'] = ignoreErrorHere.astype(np.float32)\n",
    "            saveDict['blankWindows'] = blankWindows\n",
    "            saveDict['timeBinsPerSentence'] = sentenceDat['numTimeBinsPerSentence']\n",
    "            if not os.path.isdir(res_root+cvFolder):\n",
    "                os.mkdir(res_root+cvFolder)\n",
    "            scipy.io.savemat(res_root+cvFolder+'/'+dataDir+'_timeSeriesLabels.mat', saveDict)\n",
    "        timeEnd = datetime.datetime.now()\n",
    "        print('Total time taken: ' + str((timeEnd - timeStart).total_seconds()) + ' seconds')\n",
    "        print(' ')\n",
    "run()"
   ]
  },
  {
   "cell_type": "code",
   "execution_count": 6,
   "id": "8f98cc37",
   "metadata": {
    "collapsed": false,
    "deletable": true,
    "editable": true
   },
   "outputs": [
    {
     "name": "stdout",
     "output_type": "stream",
     "text": [
      "Labeling t5.2019.05.08 dataset\n"
     ]
    }
   ],
   "source": [
    "sdt, twc, cvp = run()"
   ]
  },
  {
   "cell_type": "code",
   "execution_count": 16,
   "id": "7169dcad",
   "metadata": {
    "collapsed": false,
    "deletable": true,
    "editable": true
   },
   "outputs": [
    {
     "data": {
      "image/png": "[encoded data removed]",
      "text/plain": [
       "<Figure size 720x216 with 1 Axes>"
      ]
     },
     "metadata": {},
     "output_type": "display_data"
    }
   ],
   "source": [
    "import matplotlib.pyplot as plt\n",
    "st1el1_ = sdt['neuralActivityCube'][0, :100,0]\n",
    "plt.figure(figsize=(10, 3))\n",
    "plt.plot(list(range(len(st1el1_))), st1el1_)\n",
    "plt.show()"
   ]
  },
  {
   "cell_type": "code",
   "execution_count": 22,
   "id": "eab8979b",
   "metadata": {
    "collapsed": false,
    "deletable": true,
    "editable": true
   },
   "outputs": [
    {
     "data": {
      "text/plain": [
       "((102, 1), array(['thanks>so>much,>honey~'], dtype='<U22'))"
      ]
     },
     "execution_count": 22,
     "metadata": {},
     "output_type": "execute_result"
    }
   ],
   "source": [
    "sdt[\"sentencePrompt\"].shape, sdt[\"sentencePrompt\"][0, 0]"
   ]
  },
  {
   "cell_type": "code",
   "execution_count": 23,
   "id": "79e4504e",
   "metadata": {
    "collapsed": false,
    "deletable": true,
    "editable": true
   },
   "outputs": [
    {
     "data": {
      "text/plain": [
       "((102, 1), array(['thanks>so>much,>honey~'], dtype='<U22'))"
      ]
     },
     "execution_count": 23,
     "metadata": {},
     "output_type": "execute_result"
    }
   ],
   "source": [
    "sdt[\"intendedText\"].shape, sdt[\"intendedText\"][0, 0]"
   ]
  },
  {
   "cell_type": "code",
   "execution_count": 24,
   "id": "d0c9aec3",
   "metadata": {
    "collapsed": false,
    "deletable": true,
    "editable": true
   },
   "outputs": [
    {
     "data": {
      "text/plain": [
       "((102, 1), 1961)"
      ]
     },
     "execution_count": 24,
     "metadata": {},
     "output_type": "execute_result"
    }
   ],
   "source": [
    "sdt[\"numTimeBinsPerSentence\"].shape, sdt[\"numTimeBinsPerSentence\"][0, 0]"
   ]
  },
  {
   "cell_type": "code",
   "execution_count": 25,
   "id": "4c37dc72",
   "metadata": {
    "collapsed": false,
    "deletable": true,
    "editable": true
   },
   "outputs": [
    {
     "data": {
      "text/plain": [
       "((102, 1), array(['OL Copy'], dtype='<U7'))"
      ]
     },
     "execution_count": 25,
     "metadata": {},
     "output_type": "execute_result"
    }
   ],
   "source": [
    "sdt[\"sentenceCondition\"].shape, sdt[\"sentenceCondition\"][0, 0]"
   ]
  },
  {
   "cell_type": "code",
   "execution_count": 27,
   "id": "f9597991",
   "metadata": {
    "collapsed": false,
    "deletable": true,
    "editable": true
   },
   "outputs": [
    {
     "data": {
      "text/plain": [
       "((102, 1), 6)"
      ]
     },
     "execution_count": 27,
     "metadata": {},
     "output_type": "execute_result"
    }
   ],
   "source": [
    "sdt[\"sentenceBlockNums\"].shape, sdt[\"sentenceBlockNums\"][0, 0]"
   ]
  },
  {
   "cell_type": "code",
   "execution_count": 28,
   "id": "67bc764f",
   "metadata": {
    "collapsed": false,
    "deletable": true,
    "editable": true
   },
   "outputs": [
    {
     "data": {
      "text/plain": [
       "((102, 1), 0)"
      ]
     },
     "execution_count": 28,
     "metadata": {},
     "output_type": "execute_result"
    }
   ],
   "source": [
    "sdt[\"excludedSentences\"].shape, sdt[\"excludedSentences\"][0, 0]"
   ]
  },
  {
   "cell_type": "code",
   "execution_count": 29,
   "id": "18c6494e",
   "metadata": {
    "collapsed": false,
    "deletable": true,
    "editable": true
   },
   "outputs": [
    {
     "data": {
      "text/plain": [
       "(599319, 192)"
      ]
     },
     "execution_count": 29,
     "metadata": {},
     "output_type": "execute_result"
    }
   ],
   "source": [
    "sdt[\"neuralActivityTimeSeries\"].shape"
   ]
  },
  {
   "cell_type": "code",
   "execution_count": 34,
   "id": "c3ec9fed",
   "metadata": {
    "collapsed": false,
    "deletable": true,
    "editable": true
   },
   "outputs": [
    {
     "data": {
      "text/plain": [
       "((102, 1), 2734)"
      ]
     },
     "execution_count": 34,
     "metadata": {},
     "output_type": "execute_result"
    }
   ],
   "source": [
    "sdt[\"goCueOnsetTimeBin\"].shape, sdt[\"goCueOnsetTimeBin\"][0, 0]"
   ]
  },
  {
   "cell_type": "code",
   "execution_count": 39,
   "id": "ba21e211",
   "metadata": {
    "collapsed": false,
    "deletable": true,
    "editable": true
   },
   "outputs": [
    {
     "data": {
      "text/plain": [
       "array([[ 0,  1,  2,  3,  4,  5,  6,  7,  8,  9, 10, 11, 13, 14, 15, 16,\n",
       "        17, 18, 19, 20, 21, 22, 23, 24, 25, 26, 27, 28, 30, 31, 32, 33,\n",
       "        34, 35, 36, 37, 38, 39, 40, 41, 42, 43, 44, 45, 46, 47, 48, 49]])"
      ]
     },
     "execution_count": 39,
     "metadata": {},
     "output_type": "execute_result"
    }
   ],
   "source": [
    "cvp[0][\"t5.2019.11.25_train\"]"
   ]
  },
  {
   "cell_type": "code",
   "execution_count": 40,
   "id": "529d0518",
   "metadata": {
    "collapsed": false,
    "deletable": true,
    "editable": true
   },
   "outputs": [
    {
     "data": {
      "text/plain": [
       "array([[ 0,  1,  2,  3,  4,  6,  7,  8,  9, 10, 11, 13, 14, 15, 16, 17,\n",
       "        18, 19, 20, 22, 23, 24, 25, 26, 27, 28, 30, 32, 35, 36, 37, 38,\n",
       "        40, 41, 42, 43, 44, 45, 46, 47, 48, 49, 57, 59, 60, 62, 63, 64,\n",
       "        65, 66, 67, 68, 69, 70, 71, 73, 74, 75, 76]])"
      ]
     },
     "execution_count": 40,
     "metadata": {},
     "output_type": "execute_result"
    }
   ],
   "source": [
    "cvp[1][\"t5.2019.11.25_train\"]"
   ]
  },
  {
   "cell_type": "code",
   "execution_count": 48,
   "id": "a704b07c",
   "metadata": {
    "collapsed": false,
    "deletable": true,
    "editable": true
   },
   "outputs": [
    {
     "name": "stdout",
     "output_type": "stream",
     "text": [
      "Labeling 'HeldOutBlocks' partition\n",
      "[[ 0  1  2  3  4  5  6  7  8  9 10 11 13 14 15 16 17 18 19 20 21 22 23 24\n",
      "  25 26 27 28 30 31 32 33 34 35 36 37 38 39 40 41 42 43 44 45 46 47 48 49]]\n",
      "Labeling 'HeldOutTrials' partition\n",
      "[[ 0  1  2  3  4  6  7  8  9 10 11 13 14 15 16 17 18 19 20 22 23 24 25 26\n",
      "  27 28 30 32 35 36 37 38 40 41 42 43 44 45 46 47 48 49 57 59 60 62 63 64\n",
      "  65 66 67 68 69 70 71 73 74 75 76]]\n"
     ]
    }
   ],
   "source": [
    "for cvPrt, cvFld in zip(cvp, ['HeldOutBlocks', 'HeldOutTrials']):\n",
    "    print(\"Labeling '\" + cvFld + \"' partition\")\n",
    "    print(cvPrt[\"t5.2019.11.25_train\"])"
   ]
  },
  {
   "cell_type": "code",
   "execution_count": 51,
   "id": "2505fd76",
   "metadata": {
    "collapsed": false,
    "deletable": true,
    "editable": true
   },
   "outputs": [
    {
     "name": "stdout",
     "output_type": "stream",
     "text": [
      "HMM Iteration 0\n",
      "HMM Iteration 1\n"
     ]
    }
   ],
   "source": [
    "dd = \"t5.2019.05.08\"\n",
    "std = scipy.io.loadmat(rootDir+'Datasets/'+dd+'/sentences.mat')\n",
    "sld = scipy.io.loadmat(rootDir+'Datasets/'+dd+'/singleLetters.mat')\n",
    "twcb = scipy.io.loadmat(twc_root+dd+'_warpedCubes.mat')\n",
    "trpi = cvp[0][dd+'_train']\n",
    "tepi = cvp[0][dd+'_test']\n",
    "ls, ld, bw = labelDataset(std, sld, twcb, trpi, tepi, charDef)"
   ]
  },
  {
   "cell_type": "code",
   "execution_count": 64,
   "id": "8f057e36",
   "metadata": {
    "collapsed": false,
    "deletable": true,
    "editable": true
   },
   "outputs": [
    {
     "data": {
      "text/plain": [
       "((102, 200), array([ 44., 159., 209., 304., 379.]))"
      ]
     },
     "execution_count": 64,
     "metadata": {},
     "output_type": "execute_result"
    }
   ],
   "source": [
    "ls.shape, ls[0, :5]"
   ]
  },
  {
   "cell_type": "code",
   "execution_count": 65,
   "id": "b47367fa",
   "metadata": {
    "collapsed": false,
    "deletable": true,
    "editable": true
   },
   "outputs": [
    {
     "data": {
      "text/plain": [
       "((102, 200),\n",
       " array([70.56428571, 50.25      , 79.28571429, 36.4       , 71.31428571]))"
      ]
     },
     "execution_count": 65,
     "metadata": {},
     "output_type": "execute_result"
    }
   ],
   "source": [
    "ld.shape, ld[0, :5]"
   ]
  },
  {
   "cell_type": "code",
   "execution_count": 67,
   "id": "72492dc7",
   "metadata": {
    "collapsed": false,
    "deletable": true,
    "editable": true
   },
   "outputs": [],
   "source": [
    "sentences = std['sentencePrompt'][:,0]\n",
    "cci = constructRNNTargets(ls, ld, std['neuralActivityCube'].shape[1], \n",
    "                          sentences, charDef)\n",
    "cstar, cptar, ieher = cci"
   ]
  },
  {
   "cell_type": "code",
   "execution_count": 72,
   "id": "8461d351",
   "metadata": {
    "collapsed": false,
    "deletable": true,
    "editable": true
   },
   "outputs": [
    {
     "data": {
      "image/png": "[encoded data removed]",
      "text/plain": [
       "<Figure size 1440x216 with 1 Axes>"
      ]
     },
     "metadata": {},
     "output_type": "display_data"
    }
   ],
   "source": [
    "st1el1_ = cstar[0, :400]\n",
    "plt.figure(figsize=(20, 3))\n",
    "plt.plot(list(range(len(st1el1_))), st1el1_)\n",
    "plt.show()"
   ]
  },
  {
   "cell_type": "code",
   "execution_count": 75,
   "id": "f4888f5c",
   "metadata": {
    "collapsed": false,
    "deletable": true,
    "editable": true
   },
   "outputs": [
    {
     "data": {
      "text/plain": [
       "((102, 10669, 31),\n",
       " array([0., 0., 0., 0., 0., 0., 0., 0., 0., 0., 0., 0., 0., 0., 0., 0., 0.,\n",
       "        0., 0., 1., 0., 0., 0., 0., 0., 0., 0., 0., 0., 0., 0.]))"
      ]
     },
     "execution_count": 75,
     "metadata": {},
     "output_type": "execute_result"
    }
   ],
   "source": [
    "cptar.shape, cptar[0, 0, :]"
   ]
  },
  {
   "cell_type": "code",
   "execution_count": null,
   "id": "bdeee03a",
   "metadata": {
    "collapsed": true,
    "deletable": true,
    "editable": true
   },
   "outputs": [],
   "source": []
  }
 ],
 "metadata": {
  "kernelspec": {
   "display_name": "Python 3",
   "language": "python",
   "name": "python3"
  },
  "language_info": {
   "codemirror_mode": {
    "name": "ipython",
    "version": 3
   },
   "file_extension": ".py",
   "mimetype": "text/x-python",
   "name": "python",
   "nbconvert_exporter": "python",
   "pygments_lexer": "ipython3",
   "version": "3.6.13"
  }
 },
 "nbformat": 4,
 "nbformat_minor": 5
}
