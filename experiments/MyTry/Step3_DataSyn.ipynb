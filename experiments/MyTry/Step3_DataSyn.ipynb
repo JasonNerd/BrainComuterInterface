{
 "cells": [
  {
   "cell_type": "markdown",
   "id": "28bf1391",
   "metadata": {
    "deletable": true,
    "editable": true
   },
   "source": [
    "# 第三步、对已有数据进行综合\n",
    "在得到每一个字符的起始时间步与持续时间及对应标签后，就可以把他们从连续的时间流中分割出来得到一个个的片段组成库，那么就可以从这样的一个库中随机选择多个字符组成一个句子作为训练目标（仿真得到更多句子）。  \n",
    "`generateCharacterSequences`:  \n",
    "```git\n",
    "Generates synthetic data by taking character snippets from a library and arranging them into random sentences.\n",
    "Args:\n",
    "    args (dict): An arguments dictionary with the following entries:  \n",
    "    charDef (dict): A definition of character names and lengths (see characterDefinitions.py)  \n",
    "    snippetFile (str): A file name pointing to a snippet library file (created in Step 2)  \n",
    "    nSentences (int): Number of sentences to generate  \n",
    "    nSteps (int): Number of time steps to generate per sentence  \n",
    "    binSize (int): Optionally bin the data if binSize>1  \n",
    "    saveFile (str): Name of the .tfrecord file we will save the synthetic data to  \n",
    "    wordListFile (str): A list of valid words to use when randomly generating sentences  \n",
    "    rareWordFile (str): Name of a file containing a list of indices pointing to the words in 'wordList' that contain rare letters ('x','z','q','j'). Can set to 'None' to turn off this feature.  \n",
    "    accountForPenState (bool): If true, attempt to respect pen transition movements by choosing character snippets that end with the pen in the correct place to begin the next character.  \n",
    "\n",
    "Returns:\n",
    "    synthNeuralBinned (matrix : N x T x E): A tensor of synthetic neural data (N = # of sentences, T = # of time bins, E = # of electrodes)       \n",
    "    synthTargetsBinned (matrix : N x T x C+1): A tensor of character probability targets and character start signal targets (last column) (N = # of sentences, T = # of time bins, C = # of characters)       \n",
    "```"
   ]
  },
  {
   "cell_type": "markdown",
   "id": "c42f1e7c",
   "metadata": {},
   "source": [
    "## extractCharacterSnippets\n",
    "```git\n",
    "    Generates synthetic data by taking character snippets from the library 'charSnippets' and arrnaging them into random sentences.\n",
    "Args:\n",
    "    charDef (dict): A definition of character names and lengths (see characterDefinitions.py)\n",
    "    charSnippets (dict): A library of neural data snippets that correspond to single characters. These can be arranged into random synthetic sentences. \n",
    "    nSentences (int): Number of sentences to generate\n",
    "    nSteps (int): Number of time steps to generate per sentence\n",
    "    wordList (list): A list of valid words to use when randomly generating sentences\n",
    "    blankProb (float): Probability of generating a 'blank' period that simulates the user taking a brief pause \n",
    "    accountForPenState (bool): If true, attempt to respect pen transition movements by choosing character snippets that end with the pen in the correct place to begin the next character.\n",
    "    rareLetterIncrease (bool): If true, increases the frequency of words with rare letters by choosing from 'rareWordList' more often.\n",
    "    rareWordList (list): A list of indices pointing to the words in 'wordList' that contain rare letters ('x','z','q','j')                        \n",
    "Returns:\n",
    "    synthNeural (matrix : N x T x E): A tensor of synthetic neural data (N = # of sentences, T = # of time steps, E = # of electrodes)      \n",
    "    synthCharProb (matrix : N x T x C): A tensor of character probability targets (N = # of sentences, T = # of time steps, C = # of characters)             \n",
    "    synthCharStart (matrix : N x T): A tensor of character start signal targets (N = # of sentences, T = # of time steps)        \n",
    "```"
   ]
  },
  {
   "cell_type": "markdown",
   "id": "7137294c",
   "metadata": {},
   "source": [
    "## addSingleLetterSnippets\n",
    "```git\n",
    "Implements a simple heuristic for randomly choosing which word to place next in the sentence. Each word is chosen independently of the previous words; the motivation was to prevent the RNN from learning a language model that extends beyond single words. \n",
    "Args:\n",
    "    wordList (list): A list of possible words.\n",
    "    rareLetterIncrease (bool): If true, increases the frequency of words with rare letters by choosing from 'rareWordList' more often.\n",
    "    rareWordList (list): A list of indices pointing to the words in 'wordList' that contain rare letters ('x','z','q','j')\n",
    "\n",
    "Returns:\n",
    "    nextWord (str): A string containing the randomly chosen word. \n",
    "```\n"
   ]
  },
  {
   "cell_type": "code",
   "execution_count": 2,
   "id": "d625bc97",
   "metadata": {
    "collapsed": false
   },
   "outputs": [
    {
     "data": {
      "text/plain": [
       "'C:\\\\Users\\\\mrrai\\\\Desktop\\\\BrainComuterInterface\\\\experiments\\\\MyTry'"
      ]
     },
     "execution_count": 2,
     "metadata": {},
     "output_type": "execute_result"
    }
   ],
   "source": [
    "import os\n",
    "os.getcwd()"
   ]
  },
  {
   "cell_type": "code",
   "execution_count": null,
   "id": "1f526a9c",
   "metadata": {
    "collapsed": true
   },
   "outputs": [],
   "source": []
  }
 ],
 "metadata": {
  "kernelspec": {
   "display_name": "Python 3",
   "language": "python",
   "name": "python3"
  },
  "language_info": {
   "codemirror_mode": {
    "name": "ipython",
    "version": 3
   },
   "file_extension": ".py",
   "mimetype": "text/x-python",
   "name": "python",
   "nbconvert_exporter": "python",
   "pygments_lexer": "ipython3",
   "version": "3.6.13"
  }
 },
 "nbformat": 4,
 "nbformat_minor": 5
}
