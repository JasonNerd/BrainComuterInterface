{
 "cells": [
  {
   "cell_type": "markdown",
   "id": "dbfeb1d8",
   "metadata": {},
   "source": [
    "# Time warpping PCA\n",
    "step1: time-warping the single letter data to initialize the data-labeling HMM. results saved in Step1_TimeWarping folder. \n",
    "也即把PCA后的实验数据进行时间对齐，因为整体书写时间不相等（尽管书写出来的字符是大体类似的）"
   ]
  },
  {
   "cell_type": "code",
   "execution_count": 3,
   "id": "9c1c3df1",
   "metadata": {
    "collapsed": false
   },
   "outputs": [],
   "source": [
    "\n",
    "import os\n",
    "os.environ[\"CUDA_VISIBLE_DEVICES\"]=\"-1\"  # GPU显存不够，故禁用\n",
    "import tensorflow as tf\n",
    "tf.compat.v1.logging.set_verbosity(tf.compat.v1.logging.ERROR)  # 禁用warnings 输出\n",
    "import numpy as np\n",
    "import scipy.io\n",
    "import scipy.ndimage.filters\n",
    "import matplotlib.pyplot as plt\n",
    "from twpca import TWPCA\n",
    "from twpca.regularizers import curvature\n",
    "import sys\n",
    "sys.path.append(\"../handwritingBCI/\") # 这样就可以引用其中的py文件\n",
    "from characterDefinitions import getHandwritingCharacterDefinitions\n",
    "# 数据根目录和11个session的文件夹名（位于dataset目录下）\n",
    "rootDir =  '../handwritingBCI/handwritingBCIData/'\n",
    "dataDirs = ['t5.2019.05.08','t5.2019.11.25','t5.2019.12.09','t5.2019.12.11','t5.2019.12.18',\n",
    "            't5.2019.12.20','t5.2020.01.06','t5.2020.01.08','t5.2020.01.13','t5.2020.01.15']\n",
    "# 创建结果存放文件夹, 存放在cache目录下(以root-dir为根目录)\n",
    "res_dir = rootDir+\"cache/RNNTrainingSteps/Step1_TimeWarping/\"\n",
    "if not os.path.isdir(res_dir):\n",
    "    os.makedirs(res_dir)  # 注意不使用mkdir, 因为是多层目录"
   ]
  },
  {
   "cell_type": "markdown",
   "id": "6982296d",
   "metadata": {},
   "source": [
    "## 字符集\n",
    "接下来是字符集的读取，包含31个字符，也即26个小写字母和(>,'~?)其中>被用于空格. `charDef`是一个字典，包含的键值为`dict_keys(['charList', 'charListAbbr', 'charLen', 'penStart', 'strToCharIdx', 'kaldiOrder', 'idxToKaldi'])`，它们每一个都是长度为31(32)的列表或数组或字典.\n",
    "1. charList是字符列表，其中>等非字母符号使用单词表示，例如greaterThan  \n",
    "2. charListAbbr是字符缩写列表，其中非字母符号直接表示，例如>  \n",
    "3. charLen是**字符长度**array数组，均为整数，范围区间[68, 132]，理解为笔尖书写该字母时走过的轨迹长度，也可以理解为书写该字母的整体用时，这是手工定义的  \n",
    "4. penStart是指书写这一字母时笔尖起始位置列表，从[0, 0.25, 0.5, 1.0]中取，值越小起始位置月接近底部线  \n",
    "5. strToCharIdx是一个字典，他把a,>?b等等字符映射为0到30的index  \n",
    "6. kaldiOrder是一个字符列表，长度32，称为语料，用于语言模型（例如kaldi），'<ctc>'表示未定义，也即不在这31个字符中的所有字符将映射为'<ctc>'\n",
    "7. idxToKaldi是一个array数组，长度32，由于语料列表字符顺序不同于charList，故这里也专门定义一个index列表"
   ]
  },
  {
   "cell_type": "code",
   "execution_count": 28,
   "id": "3dbcc2cd",
   "metadata": {
    "collapsed": false
   },
   "outputs": [
    {
     "data": {
      "text/plain": [
       "('apostrophe', \"'\")"
      ]
     },
     "execution_count": 28,
     "metadata": {},
     "output_type": "execute_result"
    }
   ],
   "source": [
    "charDef = getHandwritingCharacterDefinitions()\n",
    "charDef['charList'][charDef['idxToKaldi'][2]], charDef['kaldiOrder'][2]"
   ]
  },
  {
   "cell_type": "markdown",
   "id": "b80921d5",
   "metadata": {},
   "source": [
    "## 单字符数据集的读取与处理\n",
    "loadmat读取的mat文件以dict类型进行存储，键值包含:  \n",
    "1. `'__header__', '__version__', '__globals__'`: 文件头信息\n",
    "2. `neuralActivityCube_xxx'`系列，包括doNothing以及charList列出的31个字符  \n",
    "3. `'neuralActivityTimeSeries'`:\n",
    "4. `'clockTimeSeries'`:\n",
    "5. `'blockNumsTimeSeries'`:\n",
    "6. `'blockList'`:\n",
    "7. `'blockStartDates'`:\n",
    "8. `'goPeriodOnsetTimeBin'`: 864x1的数组，其中第i个元素表示第i次实验在给出go指令的时间步号\n",
    "9. `'delayPeriodOnsetTimeBin'`:\n",
    "10. `'characterCues'`: 864x1的数组，其中第i个元素表示第i次实验的字符\n",
    "11. `'meansPerBlock'`: \n",
    "12. `'stdAcrossAllData'`:\n",
    "13. `'arrayGeometryMap'`:\n",
    "### dat['neuralActivityCube_a']\n",
    "1. `dat['neuralActivityCube_a'].shape = (27, 201, 192)`, 对于单个字符进行了27次实验(dim=0), 一共201个bin，192个电极  \n",
    "2. `dat['neuralActivityCube_a'][0][:, 0]`表示在针对字符a进行的27次实验中的第一次实验的第一个电极测得的神经活动时间序列，包含201个时间bin，一个为10ms，每一个bin内的值表示该bin内神经信号曲线穿过阈值的次数。因而这已经是将原始神经信号波形（振荡）曲线处理后得到的输入，并且可以理解为相对值（而不是绝对的神经信号值）。"
   ]
  },
  {
   "cell_type": "code",
   "execution_count": 54,
   "id": "428e87db",
   "metadata": {
    "collapsed": false
   },
   "outputs": [
    {
     "name": "stdout",
     "output_type": "stream",
     "text": [
      "Warping dataset: t5.2019.05.08\n",
      "(864, 1)\n"
     ]
    }
   ],
   "source": [
    "for dataDir in dataDirs:\n",
    "    print('Warping dataset: ' + dataDir)\n",
    "    dat = scipy.io.loadmat(rootDir+'Datasets/'+dataDir+'/singleLetters.mat')\n",
    "    for char in charDef['charList']:\n",
    "        neuralCube = dat['neuralActivityCube_'+char].astype(np.float64)\n",
    "        # 获取所有该字符的实验编号, 32x27, len(trlIdx)=27\n",
    "        trlIdx = []\n",
    "        for t in range(dat['characterCues'].shape[0]):\n",
    "            if dat['characterCues'][t,0]==char:\n",
    "                trlIdx.append(t)\n",
    "        # \n",
    "        print((dat['goPeriodOnsetTimeBin']))\n",
    "        break\n",
    "    break"
   ]
  },
  {
   "cell_type": "code",
   "execution_count": null,
   "id": "c8ac6d26",
   "metadata": {
    "collapsed": true
   },
   "outputs": [],
   "source": []
  }
 ],
 "metadata": {
  "kernelspec": {
   "display_name": "Python 3",
   "language": "python",
   "name": "python3"
  },
  "language_info": {
   "codemirror_mode": {
    "name": "ipython",
    "version": 3
   },
   "file_extension": ".py",
   "mimetype": "text/x-python",
   "name": "python",
   "nbconvert_exporter": "python",
   "pygments_lexer": "ipython3",
   "version": "3.6.13"
  }
 },
 "nbformat": 4,
 "nbformat_minor": 5
}
