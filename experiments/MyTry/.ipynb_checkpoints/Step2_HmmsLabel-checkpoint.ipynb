{
 "cells": [
  {
   "cell_type": "markdown",
   "id": "787e099d",
   "metadata": {},
   "source": [
    "# 步骤2：使用HMMs进行数据标记\n",
    "由于无法实时的获取到T5当前写的字母对应于哪些时间步，因此这里使用隐马尔可夫模型对数据进行标记。"
   ]
  },
  {
   "cell_type": "code",
   "execution_count": 4,
   "id": "4aa332be",
   "metadata": {
    "collapsed": false
   },
   "outputs": [],
   "source": [
    "import numpy as np\n",
    "import scipy.io\n",
    "import sys\n",
    "sys.path.append(\"../handwritingBCI/\") # 这样就可以引用其中的py文件\n",
    "import os\n",
    "import datetime\n",
    "from characterDefinitions import getHandwritingCharacterDefinitions\n",
    "from dataLabelingStep import labelDataset, constructRNNTargets\n",
    "\n",
    "rootDir =  '../handwritingBCI/handwritingBCIData/'\n",
    "dataDirs = ['t5.2019.05.08','t5.2019.11.25','t5.2019.12.09','t5.2019.12.11','t5.2019.12.18',\n",
    "            't5.2019.12.20','t5.2020.01.06','t5.2020.01.08','t5.2020.01.13','t5.2020.01.15']\n",
    "res_root = rootDir+\"cache/RNNTrainingSteps/Step2_HMMLabels/\"\n",
    "twc_root = rootDir+'cache/RNNTrainingSteps/Step1_TimeWarping/'\n",
    "hlb_path = rootDir+'cache/RNNTrainingSteps/trainTestPartitions_HeldOutBlocks.mat'\n",
    "hlt_path = rootDir+'cache/RNNTrainingSteps/trainTestPartitions_HeldOutTrials.mat'\n",
    "charDef = getHandwritingCharacterDefinitions()\n",
    "if not os.path.isdir(res_dir):\n",
    "    os.makedirs(res_dir)  # 注意不使用mkdir, 因为是多层目录"
   ]
  },
  {
   "cell_type": "markdown",
   "id": "db3ae5fb",
   "metadata": {},
   "source": [
    "## HMMs Labeling\n",
    "### 1. 数据说明\n",
    "### 1-1. 语句字典\n",
    "`'__header__', '__version__', '__globals__'`: 文件信息。     \n",
    "`'neuralActivityCube'`, 三维数据张量S(sentences) T(time steps) N(electrodes) (102, 10669, 192). 注意它可以从`neuralActivityTimeSeries`完全被重构出来，并且时间步使用用时最多的句子（因此其他的会有冗余），变量`numTimeBinsPerSentence`记录了每个句子的真实时间步数。    \n",
    "`'sentencePrompt'`, 字符串数组。显示在屏幕上的句子，可能包含#>?等等字符  \n",
    "`'intendedText'`, 字符串数组，与`sentencePrompt`相同，除非是#(表停顿，去掉）以及自由书写等等  \n",
    "`'numTimeBinsPerSentence'`, 其中的元素i表示第i个句子持续的时间步数  \n",
    "`'sentenceCondition'`, 表示第i个句子的实验条件，例如提词复写、带随机停顿的提词复写等等  \n",
    "`'sentenceBlockNums'`, 记录句子i时的块号  \n",
    "`'excludedSentences'`, 值为0或者1，为1时表示该句子作废（例如T5错误的拼写，不想写这个，等等），不可用于分析。  \n",
    "`'neuralActivityTimeSeries'`, 对所有192个电极和所有10毫秒时间步的数据进行分组的尖峰计数的时间序列。注意，每当块号发生变化时，时间序列中就会出现不连续的中断(在块之间记录的神经活动没有被保存)。  \n",
    "`'clockTimeSeries'`, 10ms的时间步    \n",
    "`'blockNumsTimeSeries'`, 10ms的时间步，记录对应的块号  \n",
    "`'blockList'`, 可用的块号列表。    \n",
    "`'blockStartDates'`, 每一块的起始时间，精确到秒，可用于计算两个块间隔时长。     \n",
    "`'goCueOnsetTimeBin'`, 第i号元素表示第i次实验中go指令对应的时间步序号。     \n",
    "`'delayCueOnsetTimeBin'`, 停等周期的起始时间步序号。  \n",
    "`'sentenceEndTimeBin'`, T5结束句子书写的时间步号。  \n",
    "`arrayGeometryMap`,   \n",
    "`rnn_charProbTimeSeries`,RNN解码器每10毫秒时间步输出的字符概率的时间序列。在实时解码器未激活的块期间输出等于零。  \n",
    "`rnn_newCharTimeSeries`, RNN解码器每10毫秒时间步输出的新字符信号的时间序列。该信号被设定阈值(阈值= 0.3)，以确定在实时解码过程中何时输出新字符。  \n",
    "`rnn_decodedCharTimes`, 一个矩阵，其中每一行i对应一个被RNN解码的字符。第1列表示该字符被解码时的时间步，第2列表示哪个字符被解码  \n",
    "`rnn_decodedText`,  i号实验的解码结果文本  \n",
    "`rnn_charMapASCII`, 字符映射  \n"
   ]
  },
  {
   "cell_type": "markdown",
   "id": "c4fe0dfd",
   "metadata": {},
   "source": [
    "`labelDataset`  \n",
    "`letterStarts` (matrix : N x 200) 字符起始时间步, 每一行代表个句子  \n",
    "`letterDurations` (matrix : N x 200): A matrix of character durations, each row corresponds to a single sentence.\n",
    "        neuralCube (matrix : N x T x E): A normalized, smooth neural activity cube (N = # of sentences, T = # of time steps, \n",
    "                                         E = # of electrodes)\n",
    "        blankWindows (list): A nested list of time windows where periods of 'blank' pauses occur in the data. This is used to extract\n",
    "                             'blank' snippets for simulating pauses. "
   ]
  },
  {
   "cell_type": "code",
   "execution_count": 5,
   "id": "63e7ccd1",
   "metadata": {
    "collapsed": true
   },
   "outputs": [],
   "source": [
    "def run():\n",
    "    for dataDir in dataDirs:\n",
    "        timeStart = datetime.datetime.now()\n",
    "        print('Labeling ' + dataDir + ' dataset')\n",
    "        #load sentences, single letter, time-warped files, and train/test partitions\n",
    "        sentenceDat = scipy.io.loadmat(rootDir+'Datasets/'+dataDir+'/sentences.mat')\n",
    "        singleLetterDat = scipy.io.loadmat(rootDir+'Datasets/'+dataDir+'/singleLetters.mat')\n",
    "        twCubes = scipy.io.loadmat(twc_root+dataDir+'_warpedCubes.mat')\n",
    "        cvPart_heldOutBlocks = scipy.io.loadmat(hlb_path)\n",
    "        cvPart_heldOutTrials = scipy.io.loadmat(hlt_path)\n",
    "        cvParts = [cvPart_heldOutBlocks, cvPart_heldOutTrials]\n",
    "        # 去掉句子中的#号\n",
    "        for x in range(sentenceDat['sentencePrompt'].shape[0]):\n",
    "            sentenceDat['sentencePrompt'][x,0][0] = sentenceDat['sentencePrompt'][x,0][0].replace('#','')\n",
    "        cvFolderNames = ['HeldOutBlocks', 'HeldOutTrials']\n",
    "        sentences = sentenceDat['sentencePrompt'][:,0]\n",
    "        sentenceLens = sentenceDat['numTimeBinsPerSentence'][:,0]\n",
    "        # 对每一个实验部分进行标记\n",
    "        for cvPart, cvFolder in zip(cvParts, cvFolderNames):\n",
    "            print(\"Labeling '\" + cvFolder + \"' partition\")\n",
    "            trainPartitionIdx = cvPart[dataDir+'_train']\n",
    "            testPartitionIdx = cvPart[dataDir+'_test']\n",
    "            llb = labelDataset(sentenceDat, singleLetterDat, twCubes, \n",
    "                               trainPartitionIdx, testPartitionIdx, charDef)\n",
    "            letterStarts, letterDurations, blankWindows = llb\n",
    "            cci = constructRNNTargets(letterStarts, letterDurations, \n",
    "                                      sentenceDat['neuralActivityCube'].shape[1], \n",
    "                                      sentences, charDef)\n",
    "            charStartTarget, charProbTarget, ignoreErrorHere = cci\n",
    "    "
   ]
  },
  {
   "cell_type": "code",
   "execution_count": 6,
   "id": "7112895d",
   "metadata": {
    "collapsed": false
   },
   "outputs": [
    {
     "name": "stdout",
     "output_type": "stream",
     "text": [
      "Labeling t5.2019.05.08 dataset\n"
     ]
    }
   ],
   "source": [
    "sdt, twc, cvp = run()"
   ]
  },
  {
   "cell_type": "code",
   "execution_count": 16,
   "id": "174b24f7",
   "metadata": {
    "collapsed": false
   },
   "outputs": [
    {
     "data": {
      "image/png": "[encoded data removed]",
      "text/plain": [
       "<Figure size 720x216 with 1 Axes>"
      ]
     },
     "metadata": {},
     "output_type": "display_data"
    }
   ],
   "source": [
    "import matplotlib.pyplot as plt\n",
    "st1el1_ = sdt['neuralActivityCube'][0, :100,0]\n",
    "plt.figure(figsize=(10, 3))\n",
    "plt.plot(list(range(len(st1el1_))), st1el1_)\n",
    "plt.show()"
   ]
  },
  {
   "cell_type": "code",
   "execution_count": 22,
   "id": "d47b572b",
   "metadata": {
    "collapsed": false
   },
   "outputs": [
    {
     "data": {
      "text/plain": [
       "((102, 1), array(['thanks>so>much,>honey~'], dtype='<U22'))"
      ]
     },
     "execution_count": 22,
     "metadata": {},
     "output_type": "execute_result"
    }
   ],
   "source": [
    "sdt[\"sentencePrompt\"].shape, sdt[\"sentencePrompt\"][0, 0]"
   ]
  },
  {
   "cell_type": "code",
   "execution_count": 23,
   "id": "c54afe7c",
   "metadata": {
    "collapsed": false
   },
   "outputs": [
    {
     "data": {
      "text/plain": [
       "((102, 1), array(['thanks>so>much,>honey~'], dtype='<U22'))"
      ]
     },
     "execution_count": 23,
     "metadata": {},
     "output_type": "execute_result"
    }
   ],
   "source": [
    "sdt[\"intendedText\"].shape, sdt[\"intendedText\"][0, 0]"
   ]
  },
  {
   "cell_type": "code",
   "execution_count": 24,
   "id": "11f5f8de",
   "metadata": {
    "collapsed": false
   },
   "outputs": [
    {
     "data": {
      "text/plain": [
       "((102, 1), 1961)"
      ]
     },
     "execution_count": 24,
     "metadata": {},
     "output_type": "execute_result"
    }
   ],
   "source": [
    "sdt[\"numTimeBinsPerSentence\"].shape, sdt[\"numTimeBinsPerSentence\"][0, 0]"
   ]
  },
  {
   "cell_type": "code",
   "execution_count": 25,
   "id": "40ff25b6",
   "metadata": {
    "collapsed": false
   },
   "outputs": [
    {
     "data": {
      "text/plain": [
       "((102, 1), array(['OL Copy'], dtype='<U7'))"
      ]
     },
     "execution_count": 25,
     "metadata": {},
     "output_type": "execute_result"
    }
   ],
   "source": [
    "sdt[\"sentenceCondition\"].shape, sdt[\"sentenceCondition\"][0, 0]"
   ]
  },
  {
   "cell_type": "code",
   "execution_count": 27,
   "id": "6d365f70",
   "metadata": {
    "collapsed": false
   },
   "outputs": [
    {
     "data": {
      "text/plain": [
       "((102, 1), 6)"
      ]
     },
     "execution_count": 27,
     "metadata": {},
     "output_type": "execute_result"
    }
   ],
   "source": [
    "sdt[\"sentenceBlockNums\"].shape, sdt[\"sentenceBlockNums\"][0, 0]"
   ]
  },
  {
   "cell_type": "code",
   "execution_count": 28,
   "id": "615328e3",
   "metadata": {
    "collapsed": false
   },
   "outputs": [
    {
     "data": {
      "text/plain": [
       "((102, 1), 0)"
      ]
     },
     "execution_count": 28,
     "metadata": {},
     "output_type": "execute_result"
    }
   ],
   "source": [
    "sdt[\"excludedSentences\"].shape, sdt[\"excludedSentences\"][0, 0]"
   ]
  },
  {
   "cell_type": "code",
   "execution_count": 29,
   "id": "26962732",
   "metadata": {
    "collapsed": false
   },
   "outputs": [
    {
     "data": {
      "text/plain": [
       "(599319, 192)"
      ]
     },
     "execution_count": 29,
     "metadata": {},
     "output_type": "execute_result"
    }
   ],
   "source": [
    "sdt[\"neuralActivityTimeSeries\"].shape"
   ]
  },
  {
   "cell_type": "code",
   "execution_count": 34,
   "id": "0eb16d5a",
   "metadata": {
    "collapsed": false
   },
   "outputs": [
    {
     "data": {
      "text/plain": [
       "((102, 1), 2734)"
      ]
     },
     "execution_count": 34,
     "metadata": {},
     "output_type": "execute_result"
    }
   ],
   "source": [
    "sdt[\"goCueOnsetTimeBin\"].shape, sdt[\"goCueOnsetTimeBin\"][0, 0]"
   ]
  },
  {
   "cell_type": "code",
   "execution_count": 39,
   "id": "46b0b0bb",
   "metadata": {
    "collapsed": false
   },
   "outputs": [
    {
     "data": {
      "text/plain": [
       "array([[ 0,  1,  2,  3,  4,  5,  6,  7,  8,  9, 10, 11, 13, 14, 15, 16,\n",
       "        17, 18, 19, 20, 21, 22, 23, 24, 25, 26, 27, 28, 30, 31, 32, 33,\n",
       "        34, 35, 36, 37, 38, 39, 40, 41, 42, 43, 44, 45, 46, 47, 48, 49]])"
      ]
     },
     "execution_count": 39,
     "metadata": {},
     "output_type": "execute_result"
    }
   ],
   "source": [
    "cvp[0][\"t5.2019.11.25_train\"]"
   ]
  },
  {
   "cell_type": "code",
   "execution_count": 40,
   "id": "627ea05f",
   "metadata": {
    "collapsed": false
   },
   "outputs": [
    {
     "data": {
      "text/plain": [
       "array([[ 0,  1,  2,  3,  4,  6,  7,  8,  9, 10, 11, 13, 14, 15, 16, 17,\n",
       "        18, 19, 20, 22, 23, 24, 25, 26, 27, 28, 30, 32, 35, 36, 37, 38,\n",
       "        40, 41, 42, 43, 44, 45, 46, 47, 48, 49, 57, 59, 60, 62, 63, 64,\n",
       "        65, 66, 67, 68, 69, 70, 71, 73, 74, 75, 76]])"
      ]
     },
     "execution_count": 40,
     "metadata": {},
     "output_type": "execute_result"
    }
   ],
   "source": [
    "cvp[1][\"t5.2019.11.25_train\"]"
   ]
  },
  {
   "cell_type": "code",
   "execution_count": 48,
   "id": "5195d599",
   "metadata": {
    "collapsed": false
   },
   "outputs": [
    {
     "name": "stdout",
     "output_type": "stream",
     "text": [
      "Labeling 'HeldOutBlocks' partition\n",
      "[[ 0  1  2  3  4  5  6  7  8  9 10 11 13 14 15 16 17 18 19 20 21 22 23 24\n",
      "  25 26 27 28 30 31 32 33 34 35 36 37 38 39 40 41 42 43 44 45 46 47 48 49]]\n",
      "Labeling 'HeldOutTrials' partition\n",
      "[[ 0  1  2  3  4  6  7  8  9 10 11 13 14 15 16 17 18 19 20 22 23 24 25 26\n",
      "  27 28 30 32 35 36 37 38 40 41 42 43 44 45 46 47 48 49 57 59 60 62 63 64\n",
      "  65 66 67 68 69 70 71 73 74 75 76]]\n"
     ]
    }
   ],
   "source": [
    "for cvPrt, cvFld in zip(cvp, ['HeldOutBlocks', 'HeldOutTrials']):\n",
    "    print(\"Labeling '\" + cvFld + \"' partition\")\n",
    "    print(cvPrt[\"t5.2019.11.25_train\"])"
   ]
  },
  {
   "cell_type": "code",
   "execution_count": null,
   "id": "812d86d4",
   "metadata": {
    "collapsed": false
   },
   "outputs": [
    {
     "name": "stdout",
     "output_type": "stream",
     "text": [
      "HMM Iteration 0\n"
     ]
    }
   ],
   "source": [
    "dd = \"t5.2019.05.08\"\n",
    "std = scipy.io.loadmat(rootDir+'Datasets/'+dd+'/sentences.mat')\n",
    "sld = scipy.io.loadmat(rootDir+'Datasets/'+dd+'/singleLetters.mat')\n",
    "twcb = scipy.io.loadmat(twc_root+dd+'_warpedCubes.mat')\n",
    "trpi = cvp[0][dd+'_train']\n",
    "tepi = cvp[0][dd+'_test']\n",
    "ls, ld, bw = labelDataset(std, sld, twcb, trpi, tepi, charDef)"
   ]
  },
  {
   "cell_type": "code",
   "execution_count": null,
   "id": "7b18db06",
   "metadata": {
    "collapsed": true
   },
   "outputs": [],
   "source": []
  }
 ],
 "metadata": {
  "kernelspec": {
   "display_name": "Python 3",
   "language": "python",
   "name": "python3"
  },
  "language_info": {
   "codemirror_mode": {
    "name": "ipython",
    "version": 3
   },
   "file_extension": ".py",
   "mimetype": "text/x-python",
   "name": "python",
   "nbconvert_exporter": "python",
   "pygments_lexer": "ipython3",
   "version": "3.6.13"
  }
 },
 "nbformat": 4,
 "nbformat_minor": 5
}
