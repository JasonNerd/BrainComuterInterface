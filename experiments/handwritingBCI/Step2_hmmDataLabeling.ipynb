{
 "cells": [
  {
   "cell_type": "code",
   "execution_count": 1,
   "metadata": {
    "collapsed": true,
    "deletable": true,
    "editable": true
   },
   "outputs": [],
   "source": [
    "#This notebook uses forced-alginment HMMs to label ALL datasets and BOTH of the \n",
    "#train/test partitions ('HeldOutBlocks' and 'HeldOutTrials').\n",
    "\n",
    "#For a walkthrough of how the data labeling step works see 'Step2_hmmDataLabeling_walkthrough', which steps \n",
    "#through a single example sentence while visualizing the key variables."
   ]
  },
  {
   "cell_type": "code",
   "execution_count": 3,
   "metadata": {
    "collapsed": false,
    "deletable": true,
    "editable": true
   },
   "outputs": [],
   "source": [
    "import numpy as np\n",
    "import scipy.io\n",
    "from characterDefinitions import getHandwritingCharacterDefinitions\n",
    "from dataLabelingStep import labelDataset, constructRNNTargets\n",
    "import os\n",
    "import datetime\n",
    "\n",
    "#point this towards the top level dataset directory\n",
    "rootDir = './handwritingBCIData/'\n",
    "dataDirs = ['t5.2019.05.08','t5.2019.11.25','t5.2019.12.09','t5.2019.12.11','t5.2019.12.18',\n",
    "            't5.2019.12.20','t5.2020.01.06','t5.2020.01.08','t5.2020.01.13','t5.2020.01.15']\n",
    "charDef = getHandwritingCharacterDefinitions()\n",
    "resDir = rootDir+'RNNTrainingSteps/Step2_HMMLabels'"
   ]
  },
  {
   "cell_type": "code",
   "execution_count": 4,
   "metadata": {
    "collapsed": false,
    "deletable": true,
    "editable": true
   },
   "outputs": [
    {
     "name": "stdout",
     "output_type": "stream",
     "text": [
      "Labeling t5.2019.05.08 dataset\n",
      "Labeling 'HeldOutBlocks' partition\n",
      "HMM Iteration 0\n",
      "HMM Iteration 1\n"
     ]
    },
    {
     "name": "stderr",
     "output_type": "stream",
     "text": [
      "C:\\Users\\mrrai\\.conda\\envs\\tf115\\lib\\site-packages\\numpy\\core\\_asarray.py:136: VisibleDeprecationWarning: Creating an ndarray from ragged nested sequences (which is a list-or-tuple of lists-or-tuples-or ndarrays with different lengths or shapes) is deprecated. If you meant to do this, you must specify 'dtype=object' when creating the ndarray\n",
      "  return array(a, dtype, copy=False, order=order, subok=True)\n"
     ]
    },
    {
     "name": "stdout",
     "output_type": "stream",
     "text": [
      "Labeling 'HeldOutTrials' partition\n",
      "HMM Iteration 0\n",
      "HMM Iteration 1\n"
     ]
    },
    {
     "name": "stderr",
     "output_type": "stream",
     "text": [
      "C:\\Users\\mrrai\\.conda\\envs\\tf115\\lib\\site-packages\\numpy\\core\\_asarray.py:136: VisibleDeprecationWarning: Creating an ndarray from ragged nested sequences (which is a list-or-tuple of lists-or-tuples-or ndarrays with different lengths or shapes) is deprecated. If you meant to do this, you must specify 'dtype=object' when creating the ndarray\n",
      "  return array(a, dtype, copy=False, order=order, subok=True)\n"
     ]
    },
    {
     "name": "stdout",
     "output_type": "stream",
     "text": [
      "Total time taken: 2169.393496 seconds\n",
      " \n",
      "Labeling t5.2019.11.25 dataset\n",
      "Labeling 'HeldOutBlocks' partition\n",
      "HMM Iteration 0\n",
      "HMM Iteration 1\n"
     ]
    },
    {
     "name": "stderr",
     "output_type": "stream",
     "text": [
      "C:\\Users\\mrrai\\.conda\\envs\\tf115\\lib\\site-packages\\numpy\\core\\_asarray.py:136: VisibleDeprecationWarning: Creating an ndarray from ragged nested sequences (which is a list-or-tuple of lists-or-tuples-or ndarrays with different lengths or shapes) is deprecated. If you meant to do this, you must specify 'dtype=object' when creating the ndarray\n",
      "  return array(a, dtype, copy=False, order=order, subok=True)\n"
     ]
    },
    {
     "name": "stdout",
     "output_type": "stream",
     "text": [
      "Labeling 'HeldOutTrials' partition\n",
      "HMM Iteration 0\n",
      "HMM Iteration 1\n"
     ]
    },
    {
     "name": "stderr",
     "output_type": "stream",
     "text": [
      "C:\\Users\\mrrai\\.conda\\envs\\tf115\\lib\\site-packages\\numpy\\core\\_asarray.py:136: VisibleDeprecationWarning: Creating an ndarray from ragged nested sequences (which is a list-or-tuple of lists-or-tuples-or ndarrays with different lengths or shapes) is deprecated. If you meant to do this, you must specify 'dtype=object' when creating the ndarray\n",
      "  return array(a, dtype, copy=False, order=order, subok=True)\n"
     ]
    },
    {
     "name": "stdout",
     "output_type": "stream",
     "text": [
      "Total time taken: 1515.339841 seconds\n",
      " \n",
      "Labeling t5.2019.12.09 dataset\n",
      "Labeling 'HeldOutBlocks' partition\n",
      "HMM Iteration 0\n",
      "HMM Iteration 1\n"
     ]
    },
    {
     "name": "stderr",
     "output_type": "stream",
     "text": [
      "C:\\Users\\mrrai\\.conda\\envs\\tf115\\lib\\site-packages\\numpy\\core\\_asarray.py:136: VisibleDeprecationWarning: Creating an ndarray from ragged nested sequences (which is a list-or-tuple of lists-or-tuples-or ndarrays with different lengths or shapes) is deprecated. If you meant to do this, you must specify 'dtype=object' when creating the ndarray\n",
      "  return array(a, dtype, copy=False, order=order, subok=True)\n"
     ]
    },
    {
     "name": "stdout",
     "output_type": "stream",
     "text": [
      "Labeling 'HeldOutTrials' partition\n",
      "HMM Iteration 0\n",
      "HMM Iteration 1\n"
     ]
    },
    {
     "name": "stderr",
     "output_type": "stream",
     "text": [
      "C:\\Users\\mrrai\\.conda\\envs\\tf115\\lib\\site-packages\\numpy\\core\\_asarray.py:136: VisibleDeprecationWarning: Creating an ndarray from ragged nested sequences (which is a list-or-tuple of lists-or-tuples-or ndarrays with different lengths or shapes) is deprecated. If you meant to do this, you must specify 'dtype=object' when creating the ndarray\n",
      "  return array(a, dtype, copy=False, order=order, subok=True)\n"
     ]
    },
    {
     "name": "stdout",
     "output_type": "stream",
     "text": [
      "Total time taken: 1449.711763 seconds\n",
      " \n",
      "Labeling t5.2019.12.11 dataset\n",
      "Labeling 'HeldOutBlocks' partition\n",
      "HMM Iteration 0\n",
      "HMM Iteration 1\n"
     ]
    },
    {
     "name": "stderr",
     "output_type": "stream",
     "text": [
      "C:\\Users\\mrrai\\.conda\\envs\\tf115\\lib\\site-packages\\numpy\\core\\_asarray.py:136: VisibleDeprecationWarning: Creating an ndarray from ragged nested sequences (which is a list-or-tuple of lists-or-tuples-or ndarrays with different lengths or shapes) is deprecated. If you meant to do this, you must specify 'dtype=object' when creating the ndarray\n",
      "  return array(a, dtype, copy=False, order=order, subok=True)\n"
     ]
    },
    {
     "name": "stdout",
     "output_type": "stream",
     "text": [
      "Labeling 'HeldOutTrials' partition\n",
      "HMM Iteration 0\n",
      "HMM Iteration 1\n"
     ]
    },
    {
     "name": "stderr",
     "output_type": "stream",
     "text": [
      "C:\\Users\\mrrai\\.conda\\envs\\tf115\\lib\\site-packages\\numpy\\core\\_asarray.py:136: VisibleDeprecationWarning: Creating an ndarray from ragged nested sequences (which is a list-or-tuple of lists-or-tuples-or ndarrays with different lengths or shapes) is deprecated. If you meant to do this, you must specify 'dtype=object' when creating the ndarray\n",
      "  return array(a, dtype, copy=False, order=order, subok=True)\n"
     ]
    },
    {
     "name": "stdout",
     "output_type": "stream",
     "text": [
      "Total time taken: 1117.781947 seconds\n",
      " \n",
      "Labeling t5.2019.12.18 dataset\n",
      "Labeling 'HeldOutBlocks' partition\n",
      "HMM Iteration 0\n",
      "HMM Iteration 1\n"
     ]
    },
    {
     "name": "stderr",
     "output_type": "stream",
     "text": [
      "C:\\Users\\mrrai\\.conda\\envs\\tf115\\lib\\site-packages\\numpy\\core\\_asarray.py:136: VisibleDeprecationWarning: Creating an ndarray from ragged nested sequences (which is a list-or-tuple of lists-or-tuples-or ndarrays with different lengths or shapes) is deprecated. If you meant to do this, you must specify 'dtype=object' when creating the ndarray\n",
      "  return array(a, dtype, copy=False, order=order, subok=True)\n"
     ]
    },
    {
     "name": "stdout",
     "output_type": "stream",
     "text": [
      "Labeling 'HeldOutTrials' partition\n",
      "HMM Iteration 0\n",
      "HMM Iteration 1\n"
     ]
    },
    {
     "name": "stderr",
     "output_type": "stream",
     "text": [
      "C:\\Users\\mrrai\\.conda\\envs\\tf115\\lib\\site-packages\\numpy\\core\\_asarray.py:136: VisibleDeprecationWarning: Creating an ndarray from ragged nested sequences (which is a list-or-tuple of lists-or-tuples-or ndarrays with different lengths or shapes) is deprecated. If you meant to do this, you must specify 'dtype=object' when creating the ndarray\n",
      "  return array(a, dtype, copy=False, order=order, subok=True)\n"
     ]
    },
    {
     "name": "stdout",
     "output_type": "stream",
     "text": [
      "Total time taken: 1224.654599 seconds\n",
      " \n",
      "Labeling t5.2019.12.20 dataset\n",
      "Labeling 'HeldOutBlocks' partition\n",
      "HMM Iteration 0\n",
      "HMM Iteration 1\n"
     ]
    },
    {
     "name": "stderr",
     "output_type": "stream",
     "text": [
      "C:\\Users\\mrrai\\.conda\\envs\\tf115\\lib\\site-packages\\numpy\\core\\_asarray.py:136: VisibleDeprecationWarning: Creating an ndarray from ragged nested sequences (which is a list-or-tuple of lists-or-tuples-or ndarrays with different lengths or shapes) is deprecated. If you meant to do this, you must specify 'dtype=object' when creating the ndarray\n",
      "  return array(a, dtype, copy=False, order=order, subok=True)\n"
     ]
    },
    {
     "name": "stdout",
     "output_type": "stream",
     "text": [
      "Labeling 'HeldOutTrials' partition\n",
      "HMM Iteration 0\n",
      "HMM Iteration 1\n"
     ]
    },
    {
     "name": "stderr",
     "output_type": "stream",
     "text": [
      "C:\\Users\\mrrai\\.conda\\envs\\tf115\\lib\\site-packages\\numpy\\core\\_asarray.py:136: VisibleDeprecationWarning: Creating an ndarray from ragged nested sequences (which is a list-or-tuple of lists-or-tuples-or ndarrays with different lengths or shapes) is deprecated. If you meant to do this, you must specify 'dtype=object' when creating the ndarray\n",
      "  return array(a, dtype, copy=False, order=order, subok=True)\n"
     ]
    },
    {
     "name": "stdout",
     "output_type": "stream",
     "text": [
      "Total time taken: 1121.366424 seconds\n",
      " \n",
      "Labeling t5.2020.01.06 dataset\n",
      "Labeling 'HeldOutBlocks' partition\n",
      "HMM Iteration 0\n",
      "HMM Iteration 1\n"
     ]
    },
    {
     "name": "stderr",
     "output_type": "stream",
     "text": [
      "C:\\Users\\mrrai\\.conda\\envs\\tf115\\lib\\site-packages\\numpy\\core\\_asarray.py:136: VisibleDeprecationWarning: Creating an ndarray from ragged nested sequences (which is a list-or-tuple of lists-or-tuples-or ndarrays with different lengths or shapes) is deprecated. If you meant to do this, you must specify 'dtype=object' when creating the ndarray\n",
      "  return array(a, dtype, copy=False, order=order, subok=True)\n"
     ]
    },
    {
     "name": "stdout",
     "output_type": "stream",
     "text": [
      "Labeling 'HeldOutTrials' partition\n",
      "HMM Iteration 0\n",
      "HMM Iteration 1\n"
     ]
    },
    {
     "name": "stderr",
     "output_type": "stream",
     "text": [
      "C:\\Users\\mrrai\\.conda\\envs\\tf115\\lib\\site-packages\\numpy\\core\\_asarray.py:136: VisibleDeprecationWarning: Creating an ndarray from ragged nested sequences (which is a list-or-tuple of lists-or-tuples-or ndarrays with different lengths or shapes) is deprecated. If you meant to do this, you must specify 'dtype=object' when creating the ndarray\n",
      "  return array(a, dtype, copy=False, order=order, subok=True)\n"
     ]
    },
    {
     "name": "stdout",
     "output_type": "stream",
     "text": [
      "Total time taken: 810.711709 seconds\n",
      " \n",
      "Labeling t5.2020.01.08 dataset\n",
      "Labeling 'HeldOutBlocks' partition\n",
      "HMM Iteration 0\n",
      "HMM Iteration 1\n"
     ]
    },
    {
     "name": "stderr",
     "output_type": "stream",
     "text": [
      "C:\\Users\\mrrai\\.conda\\envs\\tf115\\lib\\site-packages\\numpy\\core\\_asarray.py:136: VisibleDeprecationWarning: Creating an ndarray from ragged nested sequences (which is a list-or-tuple of lists-or-tuples-or ndarrays with different lengths or shapes) is deprecated. If you meant to do this, you must specify 'dtype=object' when creating the ndarray\n",
      "  return array(a, dtype, copy=False, order=order, subok=True)\n"
     ]
    },
    {
     "name": "stdout",
     "output_type": "stream",
     "text": [
      "Labeling 'HeldOutTrials' partition\n",
      "HMM Iteration 0\n",
      "HMM Iteration 1\n"
     ]
    },
    {
     "name": "stderr",
     "output_type": "stream",
     "text": [
      "C:\\Users\\mrrai\\.conda\\envs\\tf115\\lib\\site-packages\\numpy\\core\\_asarray.py:136: VisibleDeprecationWarning: Creating an ndarray from ragged nested sequences (which is a list-or-tuple of lists-or-tuples-or ndarrays with different lengths or shapes) is deprecated. If you meant to do this, you must specify 'dtype=object' when creating the ndarray\n",
      "  return array(a, dtype, copy=False, order=order, subok=True)\n"
     ]
    },
    {
     "name": "stdout",
     "output_type": "stream",
     "text": [
      "Total time taken: 916.433498 seconds\n",
      " \n",
      "Labeling t5.2020.01.13 dataset\n",
      "Labeling 'HeldOutBlocks' partition\n",
      "HMM Iteration 0\n",
      "HMM Iteration 1\n"
     ]
    },
    {
     "name": "stderr",
     "output_type": "stream",
     "text": [
      "C:\\Users\\mrrai\\.conda\\envs\\tf115\\lib\\site-packages\\numpy\\core\\_asarray.py:136: VisibleDeprecationWarning: Creating an ndarray from ragged nested sequences (which is a list-or-tuple of lists-or-tuples-or ndarrays with different lengths or shapes) is deprecated. If you meant to do this, you must specify 'dtype=object' when creating the ndarray\n",
      "  return array(a, dtype, copy=False, order=order, subok=True)\n"
     ]
    },
    {
     "name": "stdout",
     "output_type": "stream",
     "text": [
      "Labeling 'HeldOutTrials' partition\n",
      "HMM Iteration 0\n",
      "HMM Iteration 1\n"
     ]
    },
    {
     "name": "stderr",
     "output_type": "stream",
     "text": [
      "C:\\Users\\mrrai\\.conda\\envs\\tf115\\lib\\site-packages\\numpy\\core\\_asarray.py:136: VisibleDeprecationWarning: Creating an ndarray from ragged nested sequences (which is a list-or-tuple of lists-or-tuples-or ndarrays with different lengths or shapes) is deprecated. If you meant to do this, you must specify 'dtype=object' when creating the ndarray\n",
      "  return array(a, dtype, copy=False, order=order, subok=True)\n"
     ]
    },
    {
     "name": "stdout",
     "output_type": "stream",
     "text": [
      "Total time taken: 302.618278 seconds\n",
      " \n",
      "Labeling t5.2020.01.15 dataset\n",
      "Labeling 'HeldOutBlocks' partition\n",
      "HMM Iteration 0\n",
      "HMM Iteration 1\n"
     ]
    },
    {
     "name": "stderr",
     "output_type": "stream",
     "text": [
      "C:\\Users\\mrrai\\.conda\\envs\\tf115\\lib\\site-packages\\numpy\\core\\_asarray.py:136: VisibleDeprecationWarning: Creating an ndarray from ragged nested sequences (which is a list-or-tuple of lists-or-tuples-or ndarrays with different lengths or shapes) is deprecated. If you meant to do this, you must specify 'dtype=object' when creating the ndarray\n",
      "  return array(a, dtype, copy=False, order=order, subok=True)\n"
     ]
    },
    {
     "name": "stdout",
     "output_type": "stream",
     "text": [
      "Labeling 'HeldOutTrials' partition\n",
      "HMM Iteration 0\n",
      "HMM Iteration 1\n",
      "Total time taken: 336.62948 seconds\n",
      " \n"
     ]
    },
    {
     "name": "stderr",
     "output_type": "stream",
     "text": [
      "C:\\Users\\mrrai\\.conda\\envs\\tf115\\lib\\site-packages\\numpy\\core\\_asarray.py:136: VisibleDeprecationWarning: Creating an ndarray from ragged nested sequences (which is a list-or-tuple of lists-or-tuples-or ndarrays with different lengths or shapes) is deprecated. If you meant to do this, you must specify 'dtype=object' when creating the ndarray\n",
      "  return array(a, dtype, copy=False, order=order, subok=True)\n"
     ]
    }
   ],
   "source": [
    "for dataDir in dataDirs:\n",
    "    timeStart = datetime.datetime.now()\n",
    "    print('Labeling ' + dataDir + ' dataset')\n",
    "    \n",
    "    #load sentences, single letter, time-warped files, and train/test partitions\n",
    "    sentenceDat = scipy.io.loadmat(rootDir+'Datasets/'+dataDir+'/sentences.mat')\n",
    "    singleLetterDat = scipy.io.loadmat(rootDir+'Datasets/'+dataDir+'/singleLetters.mat')\n",
    "    twCubes = scipy.io.loadmat(rootDir+'RNNTrainingSteps/Step1_TimeWarping/'+dataDir+'_warpedCubes.mat')\n",
    "\n",
    "    cvPart_heldOutBlocks = scipy.io.loadmat(rootDir+'RNNTrainingSteps/trainTestPartitions_HeldOutBlocks.mat')\n",
    "    cvPart_heldOutTrials = scipy.io.loadmat(rootDir+'RNNTrainingSteps/trainTestPartitions_HeldOutTrials.mat')\n",
    "    cvParts = [cvPart_heldOutBlocks, cvPart_heldOutTrials]\n",
    "    \n",
    "    #the last two sessions have hashmarks (#) to indicate that T5 should take a brief pause\n",
    "    #here we remove these from the sentence prompts, otherwise the code below will get confused (because # isn't a character)\n",
    "    for x in range(sentenceDat['sentencePrompt'].shape[0]):\n",
    "        sentenceDat['sentencePrompt'][x,0][0] = sentenceDat['sentencePrompt'][x,0][0].replace('#','')\n",
    "    \n",
    "    cvFolderNames = ['HeldOutBlocks', 'HeldOutTrials']\n",
    "    \n",
    "    sentences = sentenceDat['sentencePrompt'][:,0]\n",
    "    sentenceLens = sentenceDat['numTimeBinsPerSentence'][:,0]\n",
    "    \n",
    "    #construct separate labels for each training partition\n",
    "    for cvPart, cvFolder in zip(cvParts, cvFolderNames):\n",
    "        print(\"Labeling '\" + cvFolder + \"' partition\")\n",
    "        trainPartitionIdx = cvPart[dataDir+'_train']\n",
    "        testPartitionIdx = cvPart[dataDir+'_test']\n",
    "        \n",
    "        #label the data with an iterative forced alignmnet HMM\n",
    "        letterStarts, letterDurations, blankWindows = labelDataset(sentenceDat, \n",
    "                                                                   singleLetterDat, \n",
    "                                                                   twCubes,\n",
    "                                                                   trainPartitionIdx, \n",
    "                                                                   testPartitionIdx, \n",
    "                                                                   charDef)\n",
    "        \n",
    "        #construct targets for supervised learning\n",
    "        charStartTarget, charProbTarget, ignoreErrorHere = constructRNNTargets(letterStarts, \n",
    "                                                                               letterDurations, \n",
    "                                                                               sentenceDat['neuralActivityCube'].shape[1], \n",
    "                                                                               sentences, \n",
    "                                                                               charDef)\n",
    "        \n",
    "        saveDict = {}\n",
    "        saveDict['letterStarts'] = letterStarts\n",
    "        saveDict['letterDurations'] = letterDurations\n",
    "        saveDict['charStartTarget'] = charStartTarget.astype(np.float32)\n",
    "        saveDict['charProbTarget'] = charProbTarget.astype(np.float32)\n",
    "        saveDict['ignoreErrorHere'] = ignoreErrorHere.astype(np.float32)\n",
    "        saveDict['blankWindows'] = blankWindows\n",
    "        saveDict['timeBinsPerSentence'] = sentenceDat['numTimeBinsPerSentence']\n",
    "        \n",
    "        if not os.path.isdir(rootDir + 'RNNTrainingSteps/Step2_HMMLabels/'+cvFolder):\n",
    "            os.mkdir(rootDir + 'RNNTrainingSteps/Step2_HMMLabels/'+cvFolder)\n",
    "            \n",
    "        scipy.io.savemat(rootDir + 'RNNTrainingSteps/Step2_HMMLabels/'+cvFolder+'/'+dataDir+'_timeSeriesLabels.mat', saveDict)\n",
    "        \n",
    "    timeEnd = datetime.datetime.now()\n",
    "    print('Total time taken: ' + str((timeEnd - timeStart).total_seconds()) + ' seconds')\n",
    "    print(' ')\n"
   ]
  },
  {
   "cell_type": "code",
   "execution_count": null,
   "metadata": {
    "collapsed": true,
    "deletable": true,
    "editable": true
   },
   "outputs": [],
   "source": []
  }
 ],
 "metadata": {
  "kernelspec": {
   "display_name": "Python 3",
   "language": "python",
   "name": "python3"
  },
  "language_info": {
   "codemirror_mode": {
    "name": "ipython",
    "version": 3
   },
   "file_extension": ".py",
   "mimetype": "text/x-python",
   "name": "python",
   "nbconvert_exporter": "python",
   "pygments_lexer": "ipython3",
   "version": "3.6.13"
  }
 },
 "nbformat": 4,
 "nbformat_minor": 2
}
