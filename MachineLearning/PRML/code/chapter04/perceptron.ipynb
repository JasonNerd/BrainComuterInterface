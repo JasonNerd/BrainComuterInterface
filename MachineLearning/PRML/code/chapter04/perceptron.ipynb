{
 "cells": [
  {
   "cell_type": "markdown",
   "metadata": {},
   "source": [
    "# The Perceptron"
   ]
  },
  {
   "cell_type": "markdown",
   "metadata": {},
   "source": [
    "The perceptron algorithm belongs to a set of what are known as **discriminative models**. These models construct a function $f: \\mathbb{R}^n \\to \\{C_k\\}_{k=1}^K$. Under this class of models, probabilities play no role. The purpose of these models, in a linear sense, is to find a hyperplane that best separates the data."
   ]
  }
 ],
 "metadata": {
  "kernelspec": {
   "display_name": "Python 3",
   "language": "python",
   "name": "python3"
  },
  "language_info": {
   "codemirror_mode": {
    "name": "ipython",
    "version": 3
   },
   "file_extension": ".py",
   "mimetype": "text/x-python",
   "name": "python",
   "nbconvert_exporter": "python",
   "pygments_lexer": "ipython3",
   "version": "3.6.8"
  }
 },
 "nbformat": 4,
 "nbformat_minor": 2
}
