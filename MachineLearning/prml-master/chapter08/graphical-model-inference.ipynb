{
 "cells": [
  {
   "cell_type": "markdown",
   "metadata": {},
   "source": [
    "# Inference in Graphical Models\n",
    "\n",
    "The marginal inference of a graphical model is seeked to answer a question about a random variable of the graph. More specifically,\n",
    "\n",
    "$$\n",
    "    p(y\\in D) = \\sum_{x_1}\\sum_{x_2}\\cdots\\sum_{x_N}p(y\\in D, x_1, x_2, \\ldots, x_N)\n",
    "$$\n",
    "\n",
    "* Inference is often an NP-hard problem\n",
    "* Tractability of the inference is dependent on the structure of the graph that describs that probability"
   ]
  },
  {
   "cell_type": "markdown",
   "metadata": {},
   "source": [
    "----\n",
    "\n",
    "## Variable Elimination on a Chain\n",
    "Consider a Markov Random Field with discrete random variables $\\{x_n\\}_{n=1}^N$ taking $K$ elements each. The join probability of this"
   ]
  },
  {
   "cell_type": "code",
   "execution_count": 1,
   "metadata": {},
   "outputs": [
    {
     "data": {
      "image/png": "[encoded data removed]",
      "text/plain": [
       "<Figure size 432x288 with 1 Axes>"
      ]
     },
     "metadata": {
      "image/png": {
       "height": 302,
       "width": 446
      }
     },
     "output_type": "display_data"
    }
   ],
   "source": [
    "import numpy as np\n",
    "import networkx as nx\n",
    "import matplotlib.pyplot as plt\n",
    "\n",
    "%config InlineBackend.figure_format = \"retina\"\n",
    "\n",
    "G = nx.Graph()\n",
    "G.add_node(\"x1\")\n",
    "G.add_node(\"x2\")\n",
    "G.add_node(\"x3\")\n",
    "G.add_node(\"x4\")\n",
    "G.add_node(\"x5\")\n",
    "\n",
    "G.add_edges_from([(\"x1\", \"x2\"), (\"x2\", \"x3\"), (\"x3\", \"x4\"), (\"x4\", \"x5\")])\n",
    "nx.draw(G, labels={node:node for node in G.nodes})"
   ]
  },
  {
   "cell_type": "markdown",
   "metadata": {},
   "source": [
    "Each of the elements in the following dictionary represent the potential functions $\\psi_C({\\bf x_C})$ for each maximal clique $C$ which, in this case, is given by any two consecutive nodes"
   ]
  },
  {
   "cell_type": "code",
   "execution_count": 2,
   "metadata": {},
   "outputs": [],
   "source": [
    "potentials = {\n",
    "    (1,2): np.array([\n",
    "        [0.7, 0.8],\n",
    "        [0.1, 0.3]\n",
    "    ]),\n",
    "    (2, 3): np.array([\n",
    "        [0.2, 0.5],\n",
    "        [0.5, 0.3]\n",
    "    ]),\n",
    "    (3, 4): np.array([\n",
    "        [0.9, 0.9],\n",
    "        [0.5, 0.7]\n",
    "    ]),\n",
    "    (4, 5): np.array([\n",
    "        [0.7, 0.1],\n",
    "        [0.7, 0.8]\n",
    "    ])\n",
    "}"
   ]
  },
  {
   "cell_type": "markdown",
   "metadata": {},
   "source": [
    "### Computing $p(x_3)$\n",
    "#### The Inefficient Way\n",
    "\n",
    "$$\n",
    "    p(x_j = i) = \\sum_{x_1}\\cdots\\sum_{x_j-1}\\sum_{x_j+1}\\cdots\\sum_{x_N}p(x_1, x_2, \\ldots, x_N)\n",
    "$$"
   ]
  },
  {
   "cell_type": "code",
   "execution_count": 3,
   "metadata": {},
   "outputs": [],
   "source": [
    "from itertools import product"
   ]
  },
  {
   "cell_type": "code",
   "execution_count": 4,
   "metadata": {},
   "outputs": [
    {
     "data": {
      "text/plain": [
       "2.528200000000001"
      ]
     },
     "execution_count": 4,
     "metadata": {},
     "output_type": "execute_result"
    }
   ],
   "source": [
    "Z = 0\n",
    "vals = [0, 1]\n",
    "for x1, x2, x3, x4, x5 in product(*[vals] * 5):\n",
    "    Z += (potentials[1,2][x1, x2] * potentials[2, 3][x2, x3] * \n",
    "          potentials[3, 4][x3, x4] * potentials[4, 5][x4, x5])\n",
    "Z"
   ]
  },
  {
   "cell_type": "code",
   "execution_count": 5,
   "metadata": {},
   "outputs": [],
   "source": [
    "px3 = []\n",
    "for x3 in vals:\n",
    "    px3_i = 0\n",
    "    for x1, x2, x4, x5 in product(*[vals] * 4):\n",
    "        px3_i += (potentials[1, 2][x1, x2] * potentials[2, 3][x2, x3] * \n",
    "                  potentials[3, 4][x3, x4] * potentials[4, 5][x4, x5])\n",
    "    px3_i /= Z\n",
    "    px3.append(px3_i)"
   ]
  },
  {
   "cell_type": "code",
   "execution_count": 6,
   "metadata": {},
   "outputs": [
    {
     "data": {
      "text/plain": [
       "0.9999999999999996"
      ]
     },
     "execution_count": 6,
     "metadata": {},
     "output_type": "execute_result"
    }
   ],
   "source": [
    "sum(px3)"
   ]
  },
  {
   "cell_type": "code",
   "execution_count": 7,
   "metadata": {},
   "outputs": [
    {
     "data": {
      "text/plain": [
       "[0.5813226801677082, 0.41867731983229145]"
      ]
     },
     "execution_count": 7,
     "metadata": {},
     "output_type": "execute_result"
    }
   ],
   "source": [
    "px3"
   ]
  },
  {
   "cell_type": "markdown",
   "metadata": {},
   "source": [
    "#### The forward/backward - passing way\n",
    "\n",
    "**Forward-passing equations**  \n",
    "$\\sum_{x_{j-1}} \\psi_{j-1, j}(x_{j-1}, x_j) =$  `potentials[j - 1, j].sum(axis=0)`\n",
    "\n",
    "**Backward-passing equations**  \n",
    "$\\sum_{x_{j+1}} \\psi_{j, j+1}(x_j, x_{j+1}) =$  `potentials[j, j + 1].sum(axis=1)`"
   ]
  },
  {
   "cell_type": "code",
   "execution_count": 8,
   "metadata": {},
   "outputs": [
    {
     "data": {
      "text/plain": [
       "array([0.71, 0.73])"
      ]
     },
     "execution_count": 8,
     "metadata": {},
     "output_type": "execute_result"
    }
   ],
   "source": [
    "# Forward-passing message\n",
    "mu_alpha = potentials[1,2].sum(axis=0, keepdims=True).T \n",
    "mu_alpha = (potentials[2,3] * mu_alpha).sum(axis=0)\n",
    "mu_alpha"
   ]
  },
  {
   "cell_type": "code",
   "execution_count": 9,
   "metadata": {},
   "outputs": [
    {
     "data": {
      "text/plain": [
       "array([2.07, 1.45])"
      ]
     },
     "execution_count": 9,
     "metadata": {},
     "output_type": "execute_result"
    }
   ],
   "source": [
    "# Backward-passing message\n",
    "mu_beta = potentials[4, 5].sum(axis=1)\n",
    "mu_beta = (potentials[3, 4] * mu_beta).sum(axis=1)\n",
    "mu_beta"
   ]
  },
  {
   "cell_type": "code",
   "execution_count": 10,
   "metadata": {},
   "outputs": [
    {
     "data": {
      "text/plain": [
       "0.9999999999999998"
      ]
     },
     "execution_count": 10,
     "metadata": {},
     "output_type": "execute_result"
    }
   ],
   "source": [
    "px3 = mu_alpha * mu_beta / Z\n",
    "px3.sum()"
   ]
  },
  {
   "cell_type": "code",
   "execution_count": 11,
   "metadata": {},
   "outputs": [
    {
     "data": {
      "text/plain": [
       "array([0.58132268, 0.41867732])"
      ]
     },
     "execution_count": 11,
     "metadata": {},
     "output_type": "execute_result"
    }
   ],
   "source": [
    "px3"
   ]
  },
  {
   "cell_type": "code",
   "execution_count": 12,
   "metadata": {},
   "outputs": [],
   "source": [
    "def forward_pass(potential_vals, limit):\n",
    "    mu_alpha = 1.0\n",
    "    for i in range(limit - 1):\n",
    "        xi, xj = i + 1, i + 2\n",
    "        mu_alpha  = (potential_vals[xi, xj] * mu_alpha).sum(axis=0, keepdims=True).T\n",
    "    return mu_alpha"
   ]
  },
  {
   "cell_type": "code",
   "execution_count": 13,
   "metadata": {},
   "outputs": [
    {
     "data": {
      "text/plain": [
       "2.5282"
      ]
     },
     "execution_count": 13,
     "metadata": {},
     "output_type": "execute_result"
    }
   ],
   "source": [
    "# An alternate way to compute Z\n",
    "forward_pass(potentials, 5).sum()"
   ]
  }
 ],
 "metadata": {
  "kernelspec": {
   "display_name": "Python 3",
   "language": "python",
   "name": "python3"
  },
  "language_info": {
   "codemirror_mode": {
    "name": "ipython",
    "version": 3
   },
   "file_extension": ".py",
   "mimetype": "text/x-python",
   "name": "python",
   "nbconvert_exporter": "python",
   "pygments_lexer": "ipython3",
   "version": "3.7.4"
  }
 },
 "nbformat": 4,
 "nbformat_minor": 2
}
