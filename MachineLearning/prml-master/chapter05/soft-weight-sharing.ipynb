{
 "cells": [
  {
   "cell_type": "code",
   "execution_count": 1,
   "metadata": {},
   "outputs": [],
   "source": [
    "from ipywidgets import interact, FloatSlider\n",
    "import numpy as np\n",
    "from scipy.stats import norm\n",
    "import matplotlib.pyplot as plt"
   ]
  },
  {
   "cell_type": "markdown",
   "metadata": {},
   "source": [
    "For $M$ Gaussians, its mixture would be given by\n",
    "\n",
    "$$\n",
    "    p(w_i) = \\sum_{j=1}^M \\pi_j \\mathcal{N}(w_i | \\mu_j, \\sigma_j^2)\n",
    "$$"
   ]
  },
  {
   "cell_type": "code",
   "execution_count": 9,
   "metadata": {},
   "outputs": [
    {
     "data": {
      "application/vnd.jupyter.widget-view+json": {
       "model_id": "cd986f7f0e3148d5bdef0b00c193ba27",
       "version_major": 2,
       "version_minor": 0
      },
      "text/plain": [
       "interactive(children=(FloatSlider(value=0.0, description='m1', max=2.0, min=-2.0), FloatSlider(value=0.0, desc…"
      ]
     },
     "metadata": {},
     "output_type": "display_data"
    }
   ],
   "source": [
    "@interact(m1=FloatSlider(min=-2, max=2, value=0),\n",
    "          m2=FloatSlider(min=-2, max=2, value=0),\n",
    "          s1=FloatSlider(min=0.1, max=1, value=1),\n",
    "          s2=FloatSlider(min=0.1, max=1, value=1),\n",
    "          p1=FloatSlider(min=0, max=1, value=0.5))\n",
    "def mixture(m1, m2, s1, s2, p1):\n",
    "    x = np.linspace(-4, 4, 100)\n",
    "    p2 = 1 - p1\n",
    "    N1 = norm.pdf(x, loc=m1, scale=s1)\n",
    "    N2 = norm.pdf(x, loc=m2, scale=s2)\n",
    "    D = p1 * N1 + p2 * N2\n",
    "    plt.plot(x, N1, alpha=0.5)\n",
    "    plt.plot(x, N2, alpha=0.5)\n",
    "    plt.plot(x, D, label=\"Mixture\")\n",
    "    plt.legend()"
   ]
  }
 ],
 "metadata": {
  "kernelspec": {
   "display_name": "Python 3",
   "language": "python",
   "name": "python3"
  },
  "language_info": {
   "codemirror_mode": {
    "name": "ipython",
    "version": 3
   },
   "file_extension": ".py",
   "mimetype": "text/x-python",
   "name": "python",
   "nbconvert_exporter": "python",
   "pygments_lexer": "ipython3",
   "version": "3.7.3"
  },
  "widgets": {
   "application/vnd.jupyter.widget-state+json": {
    "state": {
     "0075ef13f48e45b08022d2db089efda7": {
      "model_module": "@jupyter-widgets/controls",
      "model_module_version": "1.5.0",
      "model_name": "FloatSliderModel",
      "state": {
       "description": "p1",
       "layout": "IPY_MODEL_883f43d6d1064138a0635265b335bd73",
       "max": 1,
       "step": 0.1,
       "style": "IPY_MODEL_14536d795e1a4c8da14850425e07bfef",
       "value": 0.8
      }
     },
     "015a60e3fb6941f38775c23e906df98a": {
      "model_module": "@jupyter-widgets/output",
      "model_module_version": "1.0.0",
      "model_name": "OutputModel",
      "state": {
       "layout": "IPY_MODEL_9bfb188b53e7480eb230cfc64490027c",
       "outputs": [
        {
         "data": {
          "image/png": "iVBORw0KGgoAAAANSUhEUgAAAXQAAAD4CAYAAAD8Zh1EAAAABHNCSVQICAgIfAhkiAAAAAlwSFlzAAALEgAACxIB0t1+/AAAADh0RVh0U29mdHdhcmUAbWF0cGxvdGxpYiB2ZXJzaW9uMy4xLjAsIGh0dHA6Ly9tYXRwbG90bGliLm9yZy+17YcXAAAgAElEQVR4nOzdd3yc1ZXw8d+drjLq1ZJsyZYrrmDamt7Ngp2QbGJeEgiEEBK8kJAQnCWhOAUScBICJAGTwLIbYAnVCSYQ002z5YJxtyzJtppHvU6f+/7xaIQsq8xI03W/fPhY5ZlnjtrR1bn3niuklCiKoijxTxftABRFUZTQUAldURQlQaiEriiKkiBUQlcURUkQKqEriqIkCEO0njgnJ0eWlpZG6+kVRVHi0pYtW5qllLlDvS9qCb20tJSKiopoPb2iKEpcEkIcGu59quSiKIqSIFRCVxRFSRAqoSuKoiSIqNXQFUWZuNxuN7W1tTgcjmiHErMsFgvFxcUYjcaAH6MSuqIoEVdbW4vVaqW0tBQhRLTDiTlSSlpaWqitraWsrCzgx6mSi6IoEedwOMjOzlbJfBhCCLKzs4P+C0YldEVRokIl85GN5fOjSi5K1Nk6HRxps5OZbCQrxUSaxYhOp37YFSVYaoSuRNWR1l6eqzjCe/ubeGV7PU98UMNTH9Vgd3mjHZqS4IQQfP3rX+9/3ePxkJuby2WXXQbAunXruO+++0a8x5NPPkl9fX1Y4wyGSuhK1Bxp7eWV7XWkJRn5xr+V8tWTSzhvVh6dDg+v72pEHb6ihFNKSgo7d+7EbrcD8K9//YuioqL+9y9btoxVq1aNeI+xJHSPxxN8sAFSCV2Jitq2z5P5l04sJjPFxKSMJBaUZHDOzFyqm3vYVN0a7TCVBLd06VJeffVVAJ555hmuvPLK/vc9+eSTrFy5EoDly5fz1FNPAfDoo49y1VVX8fzzz1NRUcFVV13FwoULsdvtlJaW0tzcDEBFRQXnnHMOAHfffTc33HADF110EVdffTVer5fbbruNk08+mfnz5/Poo4+G5ONRNXQl4nw+yRu7jpJqNvClE4tJMR/7bTivKJ36djsfVbUwKSOJkqzkKEWqRMKvNv2Kva17Q3rPWVmzuP2U20e9bsWKFaxevZrLLruMHTt2cN111/H+++8fd91jjz3GkiVLKCsrY82aNXz88cdkZWXx8MMP88ADD7B48eJRn2vLli1s3LiRpKQkHnvsMdLT09m8eTNOp5MlS5Zw0UUXBbVEcShqhK5E3L6jXXTY3ZwxPfe4ZA5abfO8WflkpZh4bWcDbq8vClEqE8H8+fOpqanhmWee4dJLLx32uvz8fFavXs25557LmjVryMrKCvq5li1bRlJSEgBvvPEGTz31FAsXLuTUU0+lpaWFAwcOjPnj8FMjdCWipJRU1LSSk2piWm7KsNeZDDrOm5XH3ypq2dfYxdyi9AhGqURSICPpcFq2bBk//OEPeeedd2hpaRn2us8++4zs7OwRa+YGgwGfTxuADF5DnpLy+fe7lJKHHnqIiy++eJzRH0uN0JWIqmruobnbxeLSrFHX2RZlJJFjNbP9SLuaIFXC5rrrruPOO+9k3rx5w16zadMmXnvtNbZt28YDDzxAdXU1AFarla6urv7rSktL2bJlCwAvvPDCsPe7+OKL+eMf/4jb7QZg//799PT0jPtjUQldiRgpJZuqW0lLMjIz3zrq9UIIFhSn09TlpKFD9fxQwqO4uJhbbrll2Pc7nU6+9a1v8Ze//IVJkyaxZs0arrvuOqSUfOMb3+DGG2/snxS96667uOWWWzjzzDPR6/XD3vP6669nzpw5nHjiicydO5dvf/vbIVn9IqI18lm8eLFUB1xMLEdae3l+Sy3nz85jfnFGQI9xeXysfb+KqTkpLJ1XGOYIlUjZs2cPs2fPjnYYMW+oz5MQYouUcshZWDVCVyJmy6E2Usx65hSmBfwYk0HHCZPSOGDrpscZvvW7ipIIVEJXIsLu8nKopZcTJqVj0Af3bbegOAOvT7KzriNM0SlKYlAJXYmIquZufFJSnpca9GMzU0xMyU7ms7oOfD41OZoo1ET3yMby+VEJXYmISls3aUlG8qzmMT1+blE6XQ4P9R32EEemRIPFYqGlpUUl9WH4+6FbLJagHqfWoSth5/Ro5ZYFJRljbpk6JTsZvU5Q1dRDcabaORrviouLqa2tpampKdqhxCz/iUXBUAldCbua5l68vrGVW/zMBj3FmUlUN/dw1ozcEEanRIPRaBz3NnfleKrkooTdAVsXKWY9k9KD+/NxsLKcFFp7XLT3ukIUmaIkloASuhDiEiHEPiFEpRBiyH6SQoivCCF2CyF2CSGeDm2YSrxye33UNPdQnpc67hNqpuZoI/yq5vHvqFOURDRqQhdC6IFHgKXAHOBKIcScQddMB34MLJFSngB8LwyxKnHoUEsvbq+kPHf0naGjSU82kp1qoqpJJXRFGUogI/RTgEopZZWU0gU8CywfdM23gEeklG0AUkpbaMNU4lWlrQuLUU9RZlJI7jc1J5W6NjsOtzrRSFEGCyShFwFHBrxe2/e2gWYAM4QQHwghPhZCXDLUjYQQNwghKoQQFWp2O/FJKalu7qUsJwV9iM4ILctNwSclh1t7Q3I/RUkkgST0oX4SBy8eNQDTgXOAK4HHhRDHNeuQUj4mpVwspVycm6tWKiS6pm4nDreXySE8oKIwzYLFqFdlF0UZQiAJvRYoGfB6MTC4IXAt8IqU0i2lrAb2oSV4ZQI70qptAirJCk25BUCnE5TlJFPT0qN2jSrKIIEk9M3AdCFEmRDCBKwA1g265mXgXAAhRA5aCaYqlIEq8ae2rZeMZCNWizGk9y3LScXu8nK0S7XUVZSBRk3oUkoPsBJ4HdgDPCel3CWEWC2EWNZ32etAixBiN/A2cJuUcvijP5SE5/NJ6trtlIRhV2dx3wRrXZtqA6AoAwW0U1RKuR5YP+htdw54WQK39v2vKDR1O3G6fWE54DnFbCArxURdu53Rj+ZVlIlD7RRVwuJI3yqU4hAtVxysKCOJuna7qqMrygAqoSthUdtmJzvVRIo5PO2CijKTcLp9NPc4w3J/RYlHKqErIeftq5+Ha3QO9G9UmjB1dGcXNO6EtkOgWs4qw1DdFpWQs3U5cHl8YZkQ9UuzGElLMlLXbmfR5MywPU9USQmHPwbbLugesBHPmg8lp0HuLNCpMZnyOZXQlZDzrz8Pd9/yoowkDrX0IKUcd+OvmCMl7H8d6rdBRglMOxcypkB3IxzZBLtfgYytMH8F6NWPsaJR3wlKyB1p7SXHaibJpA/r8xRnJrGnoZO2XjdZKaawPldEDUzmk0+DqeeA/xdWWiEULoSG7bDvn7DvVZi97PP3KxOa+ntNCSmfT9LQEd76uV9RRoLW0Q+8oSXzKacfm8z9hIBJi2Dq2XB0N9RsjEaUSgxSCV0JqeZuJ26vZFJ6+BN6RrKRFLOeuvYEatTVXAl1W6HkFCg7e+SR9+TToWCeltCP7opcjErMUgldCamGDm07fsE4TycKhBCCooxkahNlhO71QOUGSM4eemQ+mBAwc6lWY9//OrgS6BebMiYqoSsh1dDhIMWsJ80SmemZoswkuhweOuzuiDxfWB35BOxtMP1C0AU4/6DTw/SLweuCwx+GNz4l5qmEroRUY4edgvSkiK06mZRh6XveOG/UZW/XEnLuTMgK8vDk1Fyt9FK3VbuPMmGphK6EjN3lpa3XTWEEyi1+OSlmjHpBQ0ecl10OvqX9W37+2B5feiYgoPq9kIWkxB+V0JWQaezsq5+nRS6h63SCPKuFo51xPELvbICmfdokpyV9bPewpEHxYm1ytKsxtPEpcUMldCVkGjrsCAH5EUzoAPnpFmydTrzx2qirrgL0RigaZ+/IyaeD0QJV74YmLiXuqISuhExjh4OcVDMmQ2S/rQrSLHh8kpbuOGzU5ewG2x4omK8l4/EwWqDkVGitgp7m0MSnxBWV0JWQkFLS2OmIaP3cz79EsjEeyy71W8Hn1coloVC4QFv5Ur8tNPdT4opK6EpItPa4cLp9EVl/PliaxUCySR9/K128Hi3xZpdDclZo7mlK0VbKNH4GHldo7qnEDZXQlZDwbygqjMAO0cGEEBSkW+JvhG7brW0GCtXo3G/SIvA4tfsrE4pK6EpINHY4MBt1ZCaH9kDoQOWnWbS/EjzeqDx/0KSE2s2QkgOZpaG9d3qJdl9VdplwVEJXQqKhr34erTa2BWkWpARbZ5xMjHbWQ7dNG52H+nMmBEw6UVu+2Fkf2nsrMU0ldGXcXB4fLd3OiC9XHCjuJkZtu0FngNzZ4bl/wVxtKaQapU8oASV0IcQlQoh9QohKIcSqId7/DSFEkxBie9//14c+VCVWNXU7kTLy688Hshj1ZCYb42Ni1OfTEnr2tPEvVRyOwQz5J2jPoyZHJ4xRE7oQQg88AiwF5gBXCiHmDHHp/0kpF/b9/3iI41RimH+XZjQTOmij9LjYMdpWrU2G5p8Q3ufJP0FbSdNyILzPo8SMQEbopwCVUsoqKaULeBZYHt6wlHhi63SSajaQao7uAVj5aRa6HB66HDHeedG2WxtBZ00L7/Okl4A5Vdu4pEwIgST0IuDIgNdr+9422JeEEDuEEM8LIUqGupEQ4gYhRIUQoqKpqWmoS5Q4ZOtykJdmjnYY/XX0mB6le91a35bcWeE/C1QIrUbfWgXuGP6cKCETSEIfagp+cNOMvwOlUsr5wAbgv4e6kZTyMSnlYinl4tzc3OAiVWKSy+OjtcdFnjW65RaAnFQzOiFie6VLS6WW1POHqlqGQd4sbSeqKrtMCIEk9Fpg4Ii7GDhmLZSUskVK6f8pWgucFJrwlFjnnxCNhRG6Ua8jK9WErSuGE/rRXVoZJH1yZJ4vrUjrxKjKLhNCIAl9MzBdCFEmhDABK4B1Ay8QQhQOeHUZoL57JohYmRD1y7OasXU5kDIGOy+67Vr5I2826CK0YlgIrbzTWq09v5LQRv2uklJ6gJXA62iJ+jkp5S4hxGohxLK+y24WQuwSQnwK3Ax8I1wBK7HF1ukkxayP+oSoX57VTI/TS48rBneMNh/Qyh95ESq3+OXNAemD5v2RfV4l4gL6KZRSrgfWD3rbnQNe/jHw49CGpsQDW5cjZkbnAHl9sdg6HaTmpkY5mkFaDmjlFmvh6NeGkrUAkjK0skvhgsg+txJRaqeoMmb+CdFca/Tr5365qWaEgKOxNjHq9Whlj+zpod/qPxohtDJP2yFVdklwKqErYxYLO0QHMxl0ZKWYsHXF2DK9thptdUvO9Og8f/Z0rezSWhWd51ciQiV0ZcxsMTYh6pdnNdMUaytdWg5ovVUypkTn+dMmgSlZq+MrCUsldGXMjsbYhKhfrlXbMdrr8kQ7FI2UWiLNmhr+zUTDEUI7SKO1SpuYVRKSSujKmMXahKhfXl9NP2Y2GHXWg6sHcmZEN47scu3gi47a6MahhI1K6MqYxOKEqJ8/ppjZYNRyAIRO664YTZml2nmjLZXRjUMJG5XQlTFp9u8QjYEt/4NZjHoyko2x09Ol+QCkF4Mx8sfzHcNghozJKqEnMJXQlTHxTzrGwpb/oeRZLbExQu9thZ7m6Jdb/LKnazH1tkY7EiUMVEJXxsTW5cRi1GONsQlRv/w0M512Nw53lCcA/csEo11u8fPHoUbpCUkldGVMmrqc5FnNUTtDdDT+UlDUJ0ZbqyApE5KzohuHX1KGdoC0SugJSSV0JWhen6S52xmTE6J+/lJQVDcYeT3QfkhbrhhLssuh/YjqkZ6AVEJXgtba48LrkzFbPwdtYtRqMUS3jt5xREvqMZfQp2m7RtsPRTsSJcRUQleC5h/1xuIKl4Hy0izR3THaWqUtE8yIUO/zQKUVgcGk9ZZREopK6ErQbF1OjHpBRpIx2qGMKDfVTFuvC5fHF50AWqu0cz0Npug8/3B0eq0FQWuVtotVSRgqoStBa+rS6uc6XWxOiPrlWs3arvvuKIzSHZ3acsVYK7f4ZZWBowPsbdGORAkhldCVoEgp+xN6rPPX+KNSdvEvV8wqi/xzByKzLy5VdkkoKqErQemwu3F5fDFfPwewmg1YjProTIy2VmmHWaTE6GHoyVnacso2ldATiUroSlD8yTEeRuhCiOi00vX5tP7nWVMjf5hFMLLKtDhV98WEoRK6EpSmLic6IchOibGJvmHkWs00dzvx+iI4+ddVr3U1jNX6uV9mmXbohuq+mDBUQleCYutykJVqwqCPj2+dXKsZr0/S2uOK3JO2Vmsj88zSyD3nWGRO0bpAqrJLwoiPn0olZvi3/MeL/t7okdwx2lYDqfnR7644GoMZ0ovUxGgCCSihCyEuEULsE0JUCiFWjXDdl4UQUgixOHQhKrGi2+mhx+mNi/q5X2ayCaNeRK6O7nFqB1rE+ujcL7MMuhq1AziUuDdqQhdC6IFHgKXAHOBKIcScIa6zAjcDn4Q6SCU29LfMjaOErtMJclIjODHafkTbVh8vCd2/rLJNtQFIBIGM0E8BKqWUVVJKF/AssHyI634G/BpQHX8SlP9Q6HgaoYMWb1O3ExmJXZFtNaAzaDtE40FqgVZ6UX1dEkIgCb0IODLg9dq+t/UTQiwCSqSU/xjpRkKIG4QQFUKIiqampqCDVaKrqdtJRrIRs0Ef7VCCkme14HT76LRH4NDotmrtdKJoHQYdLJ1O6zXTVhPtSJQQCCShD7WQtn+oI4TQAb8FfjDajaSUj0kpF0spF+fmxuiGC2VYts742CE6WG6kJkad3dp2/3gpt/hlloG9XbUBSACBJPRaYODfj8VA/YDXrcBc4B0hRA1wGrBOTYwmFofbS4fdHRc7RAfLTjWhExGYGPWPcuMuoU/R/lWj9LgXSELfDEwXQpQJIUzACmCd/51Syg4pZY6UslRKWQp8DCyTUlaEJWIlKvwNruJxhG7U68hKMYa/BUD7ITBatCWL8SQ5W2tToCZG496oCV1K6QFWAq8De4DnpJS7hBCrhRDLwh2gEhtscbjCZaBca5h7o0upjXAzpmh16Xji3wTVfki1041zAc3cSCnXA+sHve3OYa49Z/xhKbGmqctJillPSoweCj2aXKuZPQ2d9Dg94fkY7G1ay9zJp4f+3pGQMQUad0K3Daxx9heG0i/OhhJKtNjipGXucD7fMRqmUbp/+3y81c/9/HGr5YtxTSV0ZVQer4/WbldcToj6+X8Zha3s0lYDlnStJW08sqRptXQ1MRrXVEJXRtXS48InZVyP0C1GPelJxvAsXZQS2g/3NbuK4Xa5o8mcon0cqp1u3FIJXRlVPG75H0peWphaAHQfBbdDq0PHs8xSrZ1uZ120I1HGSCV0ZVS2Lgcmg470GD8UejS5qWbae9043CEegfqX+2XGeULPmKz9haGWL8YtldCVUfnPEBXxXE4A8tK0OYCQHxrdVtO3ltsa2vtGmjEJUvPUxGgcUwldGZHPFz+HQo8mLCtdfF7oOBK/q1sGyyzV2v963dGORBkDldCVEbXb3bi9Mu7r5wApZgMpZn1o6+j+5Bfv5Ra/jCmf/5JS4o5K6MqI/KtCEmGEDlrnxZCO0NsPaXXnjMmhu2c0pZf0HUunyi7xSCV0ZUS2TicGnSA7JVESupnWbhcery80N2w7pNWdY/24uUAZTJA2SdXR45RK6MqIbF1Ocqxm9LrITYiG8yCKXKsZn5S0hOLQaP8Sv0Spn/tlTtGOpXOrs2riTXw25lAiQkqJrcvBzPzwrt5498i7/LPmnxzuPExNZw0AF5VexGVTL2NR3iJ0InTjDv9uV1unk/y0ce587Tii1Zvjff35YBlToOYDbZNR7oxoR6MEQSV0ZVgddjdOt2/8iW+4+zs7uHfTvbxa9SrZlmzKM8u5pPQSejw9vFr1Ks/vf56p6VN54OwHmJ45PSTPmZZkwGzU9c0NpI/vZm2HtHpzvBw3F6i0Iu3EpfZDKqHHGZXQlWGFs2XuR/Uf8V8b/4t2RzvfXfBdrp9/PUbd5xuXet29bDi8gd9u+S1fW/817jvzPs6dfO64n1cIEbqJ0bYard5sMI3/XrFE33cmqurrEndUDV0Z1tFOB3qdIDs1tAl9V/Mubn7rZjLMGTxz2TN8Z+F3jknmAMnGZJZNW8az//4sZell3PL2LazdsTYk9fX8NDPNXU68vnHcy23XtvwnWv3cL2OKdpyeszvakShBUAldGZat00l2qimkE6KNPY2sfGslWZYs1l60lllZs0a8Pj8lnycveZKlZUv5/bbf89c9fx13DHlWCx6fpKVnHKP09iNaU65EWX8+mP/jUqtd4opK6MqQtAlRJ/khbJnb6+5l5ZsrsXvsPHz+w+Qk5QT0OIvBwr1n3st5Jedxf8X9bKzbOK448tP6dox2jiOht9VopYm0onHFErNSC8BgVuvR44xK6MqQOh0eHG4veWmhK7f89IOfcqD9wJgmOXVCx71n3sv0jOnc9u5tVLVXjTmO9CQjZqOOo53jWJbXfgjSJ4NOP/Z7xDKdTtssperocUUldGVItr5kF6pDLd498i5vHHqDlQtXckbRGWO6R7IxmYfOewiz3sxNb95Ep6tzTPcZ98Sos0urLydqucUvswwcHdrxekpcUAldGZKty4lOCHJSx7+Cw+6xc++me5maPpVvnPCNcd2rMLWQ3537Oxp6GvjVpl+N+T7jmhj1lyESbf35YP5fWGqUHjcCSuhCiEuEEPuEEJVCiFVDvP9GIcRnQojtQoiNQog5oQ9ViSRbl4PsVBMG/fh/5z/+2ePUddfxk9N+glE//p7qC/MWct3c61h3cB1vH357TPfonxgdSyvd9kNgtEBqgh+mnJwN5lRVR48jo/60CiH0wCPAUmAOcOUQCftpKeU8KeVC4NfAb0IeqRIxUkpsnc6QrD+v6ajhiZ1PcNnUyzi54OQQRKf5zoLvMCNzBvd8dA/tjvagH98/MRps2UVKbcSaMVmrMycyIbS/QtpqtI9biXmBfEeeAlRKKauklC7gWWD5wAuklAOLmSmA+urHsS6nh16Xt/9AiPG4b9N9WPQWfrD4ByGI7HNGvZFfnvFLOlwd/PKTXwb9+DFPjNrbwNGZuOvPB8ss7Vtzb4t2JEoAAknoRcDA5si1fW87hhDiJiHEQbQR+s2hCU+JBv9yvvGO0LfZtvFB/QfcMP+GgJcoBmNm1kxunH8jr9W8xluH3wrqsWOeGPWvy84oDe5x8cr/i0utR48LgST0oXaVHDcCl1I+IqWcBtwO/GTIGwlxgxCiQghR0dTUFFykSsQc7XSgE2LcPdAf/fRRsixZfGXmV0IU2fGum3cd5Rnl/GrTr+h19wb12Py+Q6ODmhhtq9HqyslZwQUaryxp2seqJkbjQiAJvRYY2H2oGKgf4fpngS8M9Q4p5WNSysVSysW5ubmBR6lEVGOHgxyrCeM4JkR3NO3gg/oPuOaEa0g2JocwumMZdUZ+ctpPqO+pZ+1na4N6bJ7VgjeYiVEptQnCzDKtvjxRZJZqnRd9IT5cWwm5QH5iNwPThRBlQggTsAJYN/ACIcTAXSL/DhwIXYhKJEkpOdrloGCc9fNHdzxKhjmDFTNXhCiy4Z2UfxLLpi3jyV1PUtUR+IajoCdGuxq1enIE6+fN9mb2tOxhu207mxo2Ud890lgqTDKm9PV+j8JzK0EZtduilNIjhFgJvA7ogb9IKXcJIVYDFVLKdcBKIcQFgBtoA64JZ9BK+LT3jr9l7q6WXbxX+x43L7o5rKPzgW496VbePvI2v/z4l6y9aC0igBH0wInRuUUBtNL1lx3CnNDbHG28UfMG66vXs9W29bj3l2eUc07JOVw+7XKmpk8NayyAth5diL7VPQnWKjjBBNQ+V0q5Hlg/6G13Dnj5lhDHpURJY9+qj4L0sSf0Rz99FKvJypWzrgxVWKPKTsrmlkW38PNPfs5r1a9x6dRLR32MEIJ8q6X/Yx5VWzWk5mo19DBw+9z87+7/5Q/b/4DD62Bq+lS+u/C7zMyciVlvxqgzsqd1D+8ceYcndj7Bkzuf5Nq51/LtBd/GrA/jEYHGJLAWaB9/2Znhex5l3FQ/dOUYjZ0OTAYdWclj2yF6qPMQbx95mxsX3EiqKTyJbzhfnvFlXqx8kTUVazin5JyA/jooTLewuaYNt9c38pyB1w0dtVB0Yggj/tyOph3c89E97G/bzzkl57By4UpmZM447i+NUwpP4ZoTrqHF3sJvtvyGtZ+t5Y1Db3DPv93DSfknhSU2QJs3OPyxdiydMTwHnijjl+A7I5RgHe1wkGs1oxtjy9xn9j6DQWfgqzO/GuLIRqfX6fnxKT/GZrfx6I5HA3pMfroFX19nyRH5j5vLLAtBpMd6es/TfP21r9PubOd35/6Oh857iJlZM0csG2UnZfOLM37BYxc+htfn5fo3rmfDoQ0hj61fZilInzY5qsQsldCVfl6fpKnLOeYJ0R53Dy9XvszFpReHZd15IBbmLWT5tOU8tfspqjuqR72+sK+01NhhH/nC1mqts2LG5FCECYDX5+XeT+7l3k33clbRWbyy/BXOn3x+UPc4fdLp/N/l/8ec7Dn88N0f8veDfw9ZfMdILwa9USu7KDFLJXSlX3O3E49Pjrl+/krlK/S4e7hq1lUhjiw43zvpe1j0Fn616VejnnCUbDKQlmSksWOUEXpbzedJLQTsHjs3v30zT+99mqvnXM3vzv3dmEtUaaY01l64lpPyT+KOjXfwt/1/C0mMx9DptdUurSqhxzKV0JV+jR3a5OBYVrj4pI9n9j7DvJx5zMudF+rQgpKTlMNNC2/ig/oPAtpBWphuoWGkEbqzW9v6HqLVLQ6Pg/986z95v/Z9fnraT7nt5NvQj7OverIxmUfOf4QlRUv4+cc/54O6D0IS6zGyyrTWB6qdbsxSCV3pd7TTQbJJT5ol+Lnyj+o/oqazhv83+/+FIbLgrZi1ghmZM7h30730uHtGvDY/zUKXw0OP0zP0Bf5t7yFI6A6Pg5vfuplNDZv4xRm/COkuWovBwpqz11CeUc5t793G4c4Q17v98wdq12jMUgld6Xe000FBuiWgNdyD/XXPX8lJyuHiKReHIbLgGVZ3Ap8AACAASURBVHQGfnraT7H12vjD9j+MeK2/jt7QMczyxdbqvna5BeOKyel1csvbt/Bxw8f8bMnPuHza5eO631CSjck8eO6D6IWem9+6edRfZsHdPAvMVlV2iWEqoSsAOD1eWnpcYzqhqLarlo11G/nyjC+HpN95qCzMW8iXZ3yZv+75K3tb9w57Xa7VjE6IoTsvSqlNBGaWjqtdrtfn5fb3bufD+g+559/uYXn58tEfNEbF1mLuP/t+ajpr+MnGn4w6jxAwIbSyS1sN+HyhuacSUiqhK4DWYVHKsW0oevHAiwgh+NL0L4UhsvG55cRbSDens/qj1XiH6UVi1OvItZqHHqF327Qaeta0MccgpeRnH/+MNw+/yapTVvHF6V8c870CdVrhaXz/pO+z4fAGXq58OXQ3ziwDjxO6GkJ3TyVkVEJXgAE7RIOcEPX4PLxS+QpLJi2hIGV8JYlwSDen86OTf8RnzZ/x7L5nh72uIN3M0U4HvsGdF1v7esNkjX39+e+3/Z4XDrzADfNv4KrZkVsB9PU5X2dx/mJ+vfnXNPY0huammaV9bQBU2SUWqYSuAFDfbicrxUSSKbjVFu/Xvo/NbuNLM2JvdO53admlnFl0Jr/d8luq2odu3lWQloTL46O113XsO1qrIDVPqx2PwVO7nuLxzx7nP2b8BysXrhzTPcZKJ3SsXrIar/Ry14d3hab0YkrW2gC0Bt4ETYkcldAVpJTUtzv6JweD8cKBF8hJyuGs4rPCEFloCCFYvWQ1yYZkVr2/CrfXfdw1Bf0bjAaUXTxObbt/1tgaYK07uI77K+7nwikXcsepd4xpsnm8Sqwl/OCkH/Bh/Yc8f+D50Nw0a5rWedEVXP95JfxUQldo7XHhcHuZlJEU1OMaexp5v+59vlD+BYy62JkMHUpOUg53nX4Xe1r38MdP/3jc+zOTtc6LxyT0thptu3t28PXzd468w50f3Mmphady35n3jXud+Xh8ZeZXOK3wNB7Y/ABHe46O/4bZ0z6fLFZiikroSv9kYLAJ/eXKl/FJH1eUXxGOsELu/Cnn84XyL/DnnX9m69Fj29IKIY7fYNRaBQYTpB134uKINjdu5ofv/pBZWbN48NwHMenH1ugsVIQQ3HX6XXh8HtZsWTP+G1oLtdJLy8Hx30sJKZXQFerb7SSZ9GQmBz7K9kkfLx14iVMLT6UkLX56ZK86ZRVFqUV8/53vU9ddd8z7JqUn0dyt/bWClFpCzyzVtr0HaFPDJm568yaKU4v5wwV/IMWYEuKPYGyKrcV8c943ea36NTY3bh7fzYTQVru0VqnlizFGJXSF+nY7hUFuKPqk4RPqe+pjcqniSFKMKTx8/sO4fW5u2nATna7O/vcVZWp/odS126GnGRydQS1X/KThE2568yYmpUzi8YsfJ8sSW+eOXjf3OopSi/jlJ7/E7Tt+HiEo2dO005vU8sWYohL6BNfr8tDW6x5TucVqsnLe5PPCFFn4TE2fyoPnPsihrkPc+s6t/cmtIM2CXieob7cPWK4Y2IToe7XvsfLNlRRbi/nzxX+OWrfJkVgMFm47+TYq2yv5v73/N76b+c9VbVVll1iiEvoEV98efP2809XJm4ff5NKyS8N7Uk4YnVxwMneffjefNHzC7e/djt1jx6DXkZ9m7kvoByElRzv1fgRSSp7c+SQr31xJaXopj1/0ONlJ2RH6KIJ3Xsl5LClawiPbH6HF3jL2G5mSIW2SqqPHGJXQJ7iGDjt6nSDfGnhi/mf1P3F6nXyxPPw7HsNpeflyblt8GxsObeDaf16LrddGUUYyze2deNsOQ3b5iI93ep3csfEO1mxZwwVTLuC/L/nvmE7moE2Q/ujkH2H32PnTp38a382ypmkHZzu7QxOcMm4qoU9w9e128tPMGEY6fm2QlytfpjyjnDnZc8IYWWRcfcLV/P6831PdUc2V/7iSdt8+rD2H6ba7IGf6kI+RUrLh0Aa+8PIX+HvV37lp4U2sOXtNxA7EHq+p6VP58owv8/z+56npqBn7jfzLOdXyxZihEvoE5vH6ONrppDA98HLLwfaDfNb8GV8s/2JUNsqEwzkl5/DU0qcw6Az8+OMbeaHz97xtb0amFh5zXZeri7cPv811r1/H99/5PhaDhbUXreXGBTfG3efixgU3YtKbeHDrg2O/SWq+dmB284HQBaaMS0CNr4UQlwAPAnrgcSnlfYPefytwPeABmoDrpJSHQhyrEmJHu5x4fTKo+vnLlS9jEAYum3ZZGCOLvJlZM3lx+Ys8v+9vPL7lEX7a/Ta/+du55CXnkZOcQ6ezk10tu/BJH5nmTH562k+5YvoVGHTxec56TlIO1869lke2P8I22zYW5S0K/iZCQPZ0OLoTvB7Qx+fnIpGM+hUQQuiBR4ALgVpgsxBinZRy94DLtgGLpZS9QojvAL8GIn9KsBKU+nZtE82kjMC2/Lt9btYdXMdZxWfF3JK8UEgxpnDNpLM5ffde/qy3klToocXeTJO9CbPezLfmfYtTC09lfu78uJ0MHujqOVfz3L7nWFOxhv9Z+j9j+ysjZzrUb9N21eaMPOeghF8gv1JPASqllFUAQohngeVAf0KXUr494PqPga+FMkglPGrbeslJNZFsCmxktbF2I62OVr5Q/oUwRxZFLZVkpqQwyfAFrpw7jbwxHpgdD5KNydy08Cbu/uhu3jr8FudPCe6AakA7Z9RggpYDKqHHgEBq6EXAkQGv1/a9bTjfBF4b6h1CiBuEEBVCiIqmpqbAo1RCzuuT1LXZKc4KfCLv5cqXybJkcUbxGWGMLIqkhOYDpBaU49MZqW0f4ZzRBLG8fDmlaaU8tO2hYfvFj0hv0Fa7NO9Xu0ZjQCAJfai/w4bswymE+BqwGLh/qPdLKR+TUi6WUi7Ozc0NPEol5Bo67Li9kpLMwBJ6i72F92rfY9m0ZTHfiGvMeprA0UFS4SzSkoz9JalEZtAZWLloJQc7DrK+ev3YbpIzXeu82FUf2uCUoAWS0GuBgc06ioHjvnJCiAuAO4BlUkpnaMJTwuVIqx0hoDgzsAnRV6texSM9iV1u8a/WyJ5OcWYStW320B3fFsMunHIhs7Nm88j2R4ZsLTyqrGlav5vm/aEPTglKIAl9MzBdCFEmhDABK4B1Ay8QQiwCHkVL5rbQh6mE2pG2XvKsFizG0RtPSSl5qfIl5uXMY1rG2I9ii3ktByCtEMypTM5Kxu7yYutK/LGJTui4+cSbqeuu44UDLwR/A6MFMiZrvxAnwC/AWDZqQpdSeoCVwOvAHuA5KeUuIcRqIcSyvsvuB1KBvwkhtgsh1g1zOyUGuDw+GjsclGQFNjrf3bKbyvbKxB6d29uhswFyZwEwuW9u4XDrxDjEYcmkJZyYdyKP7niUXvcYPuac6dDbCr3jaCegjFtAG4uklOullDOklNOklL/oe9udUsp1fS9fIKXMl1Iu7Pt/2ch3VKKpocOO1xd4/fylypcw680sLVsa5siiqGmv9m/uTABSzAZyrGYOt0yMhC6E4HsnfY9me/OIZ68OK7tvV60qu0SV2ik6AR1u7UWvEwFtKHJ6nayvXs/5k8/HahrbuZpxwbZHOyszKbP/TZOzkqlvt+P2TozVG4vyFnFG0Rn8Zedf6HYF2Z/FkqY16/L/YlSiQiX0CehIq52CdAsmw+hf/jcPvUmXqyvByy1tWpOpvNnHvHlKVjIen5wQq138Vi5aSYezg//Z/T/BPzhvDnQdhR5VdokWldAnGIfbi63LEXC55YUDL1CUWsSphaeGObIoatqn/dtXP/eblJGEXic4NEHKLgAnZJ/ABZMv4L93/zftjvbgHpw7U2sH0LQnPMEpo1IJfYLRluIR0ITo4c7DbGrcxBXTr0AnEvhbxbZHW92SlHHMm00GHYXplgkzMep308Kb6HX38sSuJ4J7oCUN0kvg6G612iVKEvinVBnK4dYejHoRUIfFFw+8iE7oErvc0tuqlVtyZw/57inZKTR1Oel1eSIcWPSUZ5Zz6dRLeXrP0zTbm4N7cN5sbaVLt1q9HA0qoU8gUkqqmnqYnJ2CXjdyIya3z80rB1/hrKKzyEvOi1CEUdBfbpk55Lsn2vJFv+8u+C5un5u1O9YG98DcWSB0YNs9+rVKyKmEPoE0d7vocniYmjP6SfTv1b5Hs72ZL82Ir0Ogg9a0R1udMajc4pdnNWMx6ifM8kW/yWmT+eL0L/Lc/ueo7w5iS78pGTJLtTKWKrtEnEroE0h1cw8ApQEk9BcPvEheUh5nFCVoIy7QygJdR7XVGcPQ6QQlWUkcaumdEG0ABvr2/G+jQ8cfP/1jcA/Mmw2ODuhUvV0iTSX0CaS6uZv8NAup5pHb5Tb2NLKxbiPLy5fH7QEOAWn8TOtBkn/CiJdNzUml2+nhaGfitwEYqCClgBWzVrDu4DqqOqoCf2DODO3zalOrXSJNJfQJotfloaHDQVkAo/Pn9z+PlJIrpl8RgciixOeFo7u0czFNIy/hnJqbgk4IDjZNvMOQr593PRa9hYe3PRz4g4wW7YBt2y7t86xEjEroE0R1cw9SwrTckRO62+vm+f3Pc2bxmRRbiyMUXRS0VoOrBwrmj3qpxainKDNpQib0TEsm15xwDf869C92tewK/IGFC7SWui2V4QtOOY5K6BNEdXMPqWYDudaRj07bcHgDLY4WVsxcEaHIoqRxhzYyz5oa0OXTclNo6XbR1uMKc2Cx5+o5V5NhzuB3W34X+IMyy8BshYZPwxeYchyV0CcAr09yqKWXspyUUc+NfHbvs5RYS1hStCRC0UWBf+SYf4JW6w3A1NxUgAk5Sk81pfLt+d/m44aP+bDuw8AepNNBwTxorQJHZ3gDVPqphD4B1Lb14vL4KBul3LKvdR9bbVv56syvJv7OUJ83oHKLX3qSkbw0M1VNPWEMLHZ9ZeZXKEot4jdbfoNPBtisrHC+tnSx8bPwBqf0S+CfWsWvqqkHg070b5IZzjN7n8GsNyf2zlDQyi3WfEgNbsPUtNxU6jvs9Dgnzq5RP5PexM2LbmZf2z5erXo1sAclZULmFO3zPcGWfEaLSugJzueTHLB1UZqTglE//Je709XJ+ur1XFp2Kenm9AhGGGGd9dpW/4IFQT90am4KUn6+nn+iuaTsEuZkz+GhbQ/h9Aa4hLNgvnZ4SPuh8AanACqhJ7wjbb30OL3MKhi5l/lLB17C7rGzYlaCT4bWVoDBBAVzg35obqqZtCTjhKyjg3ZU3a0n3UpDTwNP73k6sAflzgSDWU2ORohK6Alub2MXJoNuxPXnbq+bp3Y/xckFJzMne/hdk3HP2a0dwFAwX0syQRJCUJ6XyqGWXhzuibm++tTCUzmr+Cwe3fFoYI279EZtcrRpHzi7wh/gBKcSegJze31U2rqZnpeKYYRyy2s1r2HrtXHtCddGMLooaNiuTYYWnTTmW8wusOL1SfY1TtzkdNvi23B6nIFvNio6CaQP6raGNzBFJfREVtPcg8vjY1ZB2rDXSCl5YucTlGeUJ3bfFp8X6rdp686Ts8Z8m1yrmRyrmd0NE3cpXml6Kf9v9v/jxQMvsqclgO39yVnaztH6reB1hz/ACUwl9AS2p7GLFLOe4szhe59vrNtIZXsl1869dtQ16nGtaZ9WcilePK7bCCGYU2ilscNB6wTcZOT37QXfJsOcwX2b7gusaVnJKeB2qCWMYRZQQhdCXCKE2CeEqBRCrBri/WcJIbYKITxCiC+HPkwlWA63l5rmHmbkW9GN0Pv8yV1Pkpecx9LSpRGMLgrqKrSRYoA7Q0cyqyANnRDsrp+4o/Q0UxorF61kq20rr9e8PvoD0ku0paK1FWoJYxiNmtCFEHrgEWApMAe4UggxeObsMPANIMCpbyXcKm3deH2S2YXDl1t2Ne9iU+Mmrp5zNUa9MYLRRVj7Eeio02q5IfgrJMVsYEp2MnsbO/H5Jm5y+tL0LzEraxa/3vxrulyjzCkIAcWnaKcZtQbRuVEJSiAj9FOASilllZTSBTwLLB94gZSyRkq5AwhwC5kSbrvrO8lMNpI3Qu+WP336J6wmK1+anuCHWNRsBFOK1jAqROZMSqPL4eFI28Q6+GIgvU7PnafdSbO9mYe2PTT6A/JmgzkVjnwS/uAmqEASehFwZMDrtX1vC5oQ4gYhRIUQoqKpqWkst1ACYOt0UNduZ15xxrB18R1NO3in9h2uPeFaUk2pEY4wgjpqoa0GSk7VltCFyNScFMxGHXsm8OQowLzceayYtYJn9z7LzuadI1+s02uj9LZD0H44MgFOMIEk9KEywpj+zpRSPialXCylXJybmzuWWygB2HakHZNBxwmThi+3PLTtIbIsWVw1+6oIRhYFNRu1roqTFoX0tga9jpn5Vipt3dhdE3NNut9/LvpPcpNyueeje/D4RmmLUHSiNkqvfk/V0sMgkIReC5QMeL0YUGdLxahel4f9jV3MLrRiMQ7dSXBz42Y+bviYb879JsnGkfu7xLWOOq3vecmp2u7QEFtQkoHbK9lR2x7ye8cTq8nK7afczt7Wvfx1z19HvlhvhMn/ps1rtFVHJsAJJJCEvhmYLoQoE0KYgBXAuvCGpYzVzrpOPD7JguKhDz2WUvLQtofIS8rjKzO/EuHoIqxmIxiTYNKJYbl9TqqZ0pxkPq1tx+Od2NNHF065kHNKzuH3W3/PwfaDI19cuAAsaWqUHgajJnQppQdYCbwO7AGek1LuEkKsFkIsAxBCnCyEqAX+A3hUCBHE0SZKqPh82mhxclYy2alDT4ZurNvINts2bph/AxaDJcIRRlDbIW01RZhG534nTc6ix+ll7wTeOQra+vy7Tr+LFGMK/7Xxv3D7RthApDfAlCXQ2aBONAqxgNahSynXSylnSCmnSSl/0fe2O6WU6/pe3iylLJZSpkgps6WUI5+6q4TFwaZuuhweFk4eenTu9rp5oOIBilOLE/y8UB9U/gss6ePeSDSakqwkcq1mth5uC2yDTQLLScrhp6f/lN0tu1m7Y+3IFxfM09rrVr+rfb2UkFA7RROElJKth9tISzJSlj10I66n9z5NVUcVq05Zldjrzhu2QXcTTDsvpCtbhiKE4KQpmbR0u6hpmbhLGP0unHIhl0+9nMd2PDbyqhedHqaeo32d6lWPl1BRCT1BVDf3UN/u4JTSrCF3htp6bfxh+x84u/hszi45OwoRRoirV6vNZk7RWrdGwIx8K1aLgS2H2iLyfLFu1amryEnK4Ufv/YhO1wjLOnNnQlaZNkpXnRhDQiX0BCCl5IODLWQkG5kzzFLFNRVr8Pg83H7y7RGOLsJq3gePC8ovCMmu0EDodYJFkzM40trLkVY1Sk8zpXH/2ffT0N3ATzb+ZPhSlBAw/SKt5HLwrcgGmaBUQk8Aexu7aO5y8m/TctAPMTqvaKxgffV6rp17LSVpJUPcIUF01msdFSctCvp4ufGaX5yB1WLg/QPNE76WDrAobxG3Lr6Vt4+8zRO7nhj+wuQsmHwaHN2tLTFVxkUl9Djn9Uk+OthCrtXMjPzjd3z2unu568O7KEot4pvzvhmFCCPE44I9fwezFcrOivjTG/U6lpTncLTTwZ4GVT4A+Nrsr3HRlIt4cOuDbGrYNPyFk0/XJkgPvKF9HZUxUwk9zu2s66DD7mZJec6Q2/x/vfnXHOk6ws+X/Jwkw/BtdOPewbfA3gaz/h2M0VmOOavASkG6hQ8PNuOe4OvSQZswXr1kNVPSpvCDd39ATUfN0BfqDTDzEu3rV7khojEmGpXQ41ivy8NHVS0UZSZRmn38js83D73JCwde4JvzvsnigvAu34uq5kqt1FJ8MmSWRi0MIQRnzcily+FRE6R9UowpPHzew+iEjhs33Dj8sXWZpVrppeFTrfyijIlK6HHsrb02XB4f583KO2503tTbxN0f3c3srNl8d8F3oxRhBDi7Yd+rkJoLZdFfvVOUkcT0/FQqalrpsKvTeQAmp03m4fMeptXRyk1v3kSve5iJ49IzIb0I9r8Gva2RDTJBqIQep/Yf7eLA0W5On5ZNzqBdoW6vm9vfvx2Hx8F9Z92XuGvOvW7Y+Tx4XTB7ufaneww4c3ouQghe39k4ofulDzQvdx73n3U/e1v38v13vo/D4zj+Ip0eZi8DBOx+RR1XNwYqocehHqeHt/baKEi3cNLkzGPeJ6Vk9cer2dy4mTtPv5Op6eM/oScmSalNgnY1ask8NXa6d6YnGTlvVh517XY+qVYjTb+zS87m7tPv5qP6j1j51sqhR+pJGTD7cug+qiV1tYs0KCqhxxkpJW/2lVoumpN/3CaiP+/8My9XvsyNC27k8mmXRynKCKh6WzsndNp5kDsj2tEcZ3ZhGrMLrXxS3UJ9uz3a4cSML07/Ij9b8jM2N27mOxu+Q4+75/iLcqZD+YXQfAAOvK4aeAVBJfQ48+HBFg7aullSnnNcA65/1vyTB7c+yNKypYldNz/8MRz+RFtvXnxytKMZ1rmz8kizGHltZyMO98TumT7Q8vLl/OrMX/Fp06dc//r1NPUOcdhN8Ukw5XSo3651zVQCohJ6HNlZ18Gm6lbmFaVz4qAGXOur1rPqvVUsylvEz5b8bNiTiuKalFD1Lhx8G/JmabsMY/jjNBv0LJ1XQI/Tw8vb6nB5VPnA75KyS/jtOb/lYMdBVry6gl3NQzRoLTsbCudrCb3qXTVSD4BK6HHiUEsPb+6xMSU7mXMHrWp5fv/zrHpfS+Z/vOCPmPXDnyMat6TU1igf+lDrpz17Oehi/9u3MD2JS+cV0tjp4B876id83/SBzp18Lk8tfQq90HPNP6/h1apXj71ACJixFCYt1L7ue18Fn/pLZySx/xOhUNPcwz92NJCVauLf5xf2b++XUvLnz/7MPR/dw5KiJfzxgj+SYhy602Jcc9th5wtQWwElJ8PMpXGRzP3K81K5cE4+h1p6eU2tfDnGrKxZPHvZs8zNmcuq91ex6v1VdDg7Pr9Ap4MZl0DZmdD4GXz2PLiHWCGjACqhx7yddR28sr2e9CQjX1xUhNmgHSvX4ezge29/j99t/R0Xl17M78/9fWIeWNFRBxVPaIdVTL8Qpp0f02WW4ZwwKZ2zZ+ZSaevmpW11E/4c0oGyLFmsvWgt313wXV6vfp0rXrmC92rf+/wCIaD0DO0XeVsNVPxZO8BEOY6IViOhxYsXy4qKiqg8dzzw+SQfV7XwSXUrpTnJXDqvsD+Z72jawY/e+xFHe47y/ZO+z9fnfD3xauZeNxz+CA59pPVnOeELkDYp2lGN2676Dt7cYyPVbODyBZPItSZgeWwcdrfs5o6Nd1DZXsnZxWdz60m3MjVjwNLbznptuaq9DUpO0TYjJeo+i2EIIbZIKYfc+q0Segxq6nKyYc9RGjsczC1K57xZeeh1glZHKw9te4gX9r9AYUoh9599P/Nz50c73NCSUluOePBNcHRC/hyYfnHU+rOEQ0OHnX982oDL62NJeQ7zi9KH7GE/Ubm8Lv53z/+ydsda7B47V0y/QusUau3rFOpxad8f9du1s0nLzoL8uXH5l9tYqIQeJ5weL1sOtbG5ug2LUce5s/KYnpdKr6eXv+37G4/teAy7x86KWSv4zsLvkGYauvd5XPL5oHkfHPlEO2syNVdbxZIxOdqRhUW308PrOxs53NpLrtXMubPyKMpI4OZpY9DmaONPn/6J5/Y/h0/6OH/y+Xx9ztdZmLtQ+4u07ZDWlK2rEaz5WtfGnBnajtMEphJ6jOt1edh+uJ3tte043T5mF1o5e0Yezc56ntn7DC8deIludzdLipbwo5N/lFi7P+1tYNurNddydGhtVCefCgUL4mricyyklBywdfPe/ia6HB7KclJYWJLBlOzkxCuhjYOt18Yze5/huX3P0enqZEraFC4tu5RLyy6lNG0K2HZD9fva95I5VdufkD9X23WagFRCj0Euj4/q5h72H+2iprkHr5RMzUmhKK+HT1s3suHQBj5r/gyDMHBR6UV8bfbXmJc7L9phj5/PB92N2uiqeb9WEwXIKIHiUyC7POET+WAuj49th9v4tLadHqeXrBQTswvTmJqbQnaKSSX3Pr3uXv5Z809erXqVzY2bkUimpE3h9MLT+bfC01lkzCCj6YA2gQ7aqD1nBmRNhdT8hBm5jzuhCyEuAR4E9MDjUsr7Br3fDDwFnAS0AF+VUtaMdM+JlNCllHQ7PTR3u2hot1PXbqexw0GXux2nqEeYG2jzHmBny3ZsdhsAJ2SfwAVTLuDyqZeTn5If5Y9gjLxusLdDT5PWm6PbBp21nx9iYM2HvDmQOythR1PB8Pok+492saO2nfp2bWleepKRkqxkCtIs5KebyU4xD3kq1URztOcoGw5v4IO6D6g4WoHdo7VXKLGWMDdjBjOM6ZR5fEx1eyg2pGA0WCCtCKwF2mlWKbnaX4NxOKE6roQuhNAD+4ELgVpgM3CllHL3gGu+C8yXUt4ohFgBfFFK+dWR7hvPCd3nk3h8Eq9P4vL6cHo89LqcdDp76XTY6XT20urooq23i1ZHB029rXS723H4Ouj1tuCghS6PjW5Pe/8985PzOTH/RE7MO5Ezi8+kKLUoih/hAFJqmzl8HvC5tX+9bq3DocfZ979dWxvs7tUO+3X1gKNda23rp9NDcra2UiVjilYbNx9/wpKi6XZ6qG7qoaq5m/p2R3/rAJ0QWC0GMlOMpFmMJJsMpJj1JJv0mA16zAYdJoMOg16HQScw6nXoBAk9ynd5XXza9Ck7mnaws3knO1t20tjT2P9+gSDHaKXQkEyuMJKtM5Ols5ChN2M1pmK1ZJJqySDZnEGSOZ0kSzpGYwpmUyomUypGYzI6vUlL/jrD5/9H6XM63oR+OnC3lPLivtd/DCClvHfANa/3XfOREMIANAK5coSbjzWh/+mtX/NS7br+1yXBlYwGXy39d5Gfv0X2vV32v6z95+v719v3sg8fHnz4AozBIgwU5Z4gIQAABvBJREFUGq39/5eZMik3Z1NuzibPkDK2H7oRv34D3ifl568P9bL0aS9L34CXvcFttzaYwGTVErU5TRsBJWVAcg6k5CTMn7yRJqWkw+6msdNBa7eLdrubtl4X3Q4Pdrc3oC+RXifQ6wRCaL8UdEJLdP5vOSEEgmNz1MDvxsHfm7H++8Hp7aXVVUuLu5YO91G63E10eGz0etro9bRh93UHlTsEYECHDoEegU777KEb8LLou1LX/9Lnn6SBnz8BfK3sSq458z/H9LGNlNADaSBdBBwZ8HotcOpw10gpPUKIDiAbOOZ4EiHEDcANAJMnj231QmZyNkXGQQcAB/nNdcwnesDb+t/a983d/0UTff8j0AkdeqHD0Pe/Segx6QyY9QaS9EaS9UZSDSbSjUmk6Eyk6i1kGpLJNCaTpDONEFQof0IG3UuIY98uhPZy/0+z7vPXhW7Av3rtX53+2JGJf7SiN4HBoi0pNCTFTD/yRCOEICPZREby8d8/Xp+k16Uldqfbh9Pjw+Xx4fH5cHslHq8Pr5T4fGj/Sonse12i/bLQ/oVjBzbHDn7GO9UW7MBr/EwUkgHMHfK9XunF4e3B4e3G7u3G6e3F5XPg9vTg8fbg89rxeHvx+pz4fC68Pjde6UJKLz7pQUptWOeTvr6X+4Z+UvYPAPuHiwMGUP7PQlZyeNo9B/ITOFSmGfzVCeQapJSPAY+BNkIP4LmP89XTvslXT0vgw44VJQh6ncBqMWK1xF8tWAm9QJYT1AIlA14vBuqHu6av5JIOqM7+iqIoERRIQt8MTBdClAkhTMAKYN2ga9YB1/S9/GXgrZHq54qiKErojVpy6auJrwReR1u2+Bcp5S4hxGqgQkq5Dvgz8D9CiEq0kfmKcAatKIqiHC+gWSwp5Xpg/aC33TngZQfwH6ENTVEURQnGxNqSpyiKksBUQlcURUkQKqEriqIkCJXQFUVREkTUui0KIZqAsZ4jlcOgXagxQsUVHBVX8GI1NhVXcMYT1xQp5ZBbTaOW0MdDCFExXC+DaFJxBUfFFbxYjU3FFZxwxaVKLoqiKAlCJXRFUZQEEa8J/bFoBzAMFVdwVFzBi9XYVFzBCUtccVlDVxRFUY4XryN0RVEUZRCV0BVFURJE3Cd0IcQPhRBSCJET7VgAhBA/E0LsEEJsF0K8IYSYFO2YAIQQ9wsh9vbF9pIQIiZOZRZC/IcQYpcQwieEiPryMiHEJUKIfUKISiHEqmjHAyCE+IsQwiaE2BntWAYSQpQIId4WQuzp+xreEu2YAIQQFiHEJiHEp31x3RPtmAYSQuiFENuEEP8I9b3jOqELIUrQDq8+HO1YBrhfSjlfSrkQ+Adw52gPiJB/AXOllPPRDv3+cZTj8dsJXAG8F+1A+g5EfwRYCswBrhRCzIluVAA8CVwS7SCG4AF+IKWcDZwG3BQjny8ncJ6UcgGwELhECHFalGMa6BZgTzhuHNcJHfgt8COGOO4uWqSUnQNeTSFGYpNSviGl9PS9+jHayVNRJ6XcI6XcF+04+pwCVEopq6SULuBZYHmUY0JK+R4xeAKYlLJBSrm17+UutCRVFN2oQGq6+1419v0fEz+HQohi4N+Bx8Nx/7hN6EKIZUCdlPLTaMcymBDiF0KII8BVxM4IfaDrgNeiHUQMGupA9KgnqHgghCgFFgGfRDcSTV9ZYztgA/4lpYyJuIDfoQ1CfeG4eUwf0y6E2AAUDPGuO4D/Ai6KbESakeKSUr4ipbwDuEMI8WNgJXBXLMTVd80daH8q/zUSMQUaV4wI6LBz5VhCiFTgBeB7g/5CjRoppRdY2DdX9JIQYq6UMqpzEEKIywCblHKLEOKccDxHTCd0KeUFQ71dCDEPKAM+FUKAVj7YKoQ4RUrZGK24hvA08CoRSuijxSWEuAa4DDg/kme+BvH5irZADkRXBhBCGNGS+V+llC9GO57BpJTtQoh30OYgoj2pvARYJoS4FLAAaUKI/5VSfi1UTxCXJRf5/9u7X5WIgjiK498TDUYFwbBF7DaxiWHTgs1i8iHENzCZDBazYDeIsEaDRfzD+gD7DNZjuHNhm4bFuQ7n02474c5hmPu7jP1me932yPaIbiHu/EWZ/0TS1sLjBPislWWRpDFwCkxsf9XOM1C/uRA9CnW7qWtgZvuidp6epLV+ikvSCnDAANah7TPbm6WzjoDpMssc/mmhD9y5pHdJr3RHQoMY5QIugVXgoYxUXtUOBCDpUNIc2AXuJN3XylI+GvcXos+AW9sftfL0JN0AT8C2pLmkk9qZij3gGNgv79RL2X3WtgE8ljX4THeGvvQRwSHKr/8REY3IDj0iohEp9IiIRqTQIyIakUKPiGhECj0iohEp9IiIRqTQIyIa8Q0euHwr1swI/AAAAABJRU5ErkJggg==\n",
          "text/plain": "<Figure size 432x288 with 1 Axes>"
         },
         "metadata": {
          "needs_background": "light"
         },
         "output_type": "display_data"
        }
       ]
      }
     },
     "01eaaf61d0e749199e6650280acc1103": {
      "model_module": "@jupyter-widgets/controls",
      "model_module_version": "1.5.0",
      "model_name": "SliderStyleModel",
      "state": {
       "description_width": ""
      }
     },
     "109ce2aae0f24c69bbb6220b8334009b": {
      "model_module": "@jupyter-widgets/base",
      "model_module_version": "1.2.0",
      "model_name": "LayoutModel",
      "state": {}
     },
     "1288c463d73b4d61970e094c28c7a87d": {
      "model_module": "@jupyter-widgets/base",
      "model_module_version": "1.2.0",
      "model_name": "LayoutModel",
      "state": {}
     },
     "14536d795e1a4c8da14850425e07bfef": {
      "model_module": "@jupyter-widgets/controls",
      "model_module_version": "1.5.0",
      "model_name": "SliderStyleModel",
      "state": {
       "description_width": ""
      }
     },
     "155c22a6de8d4cb09096df7df017c500": {
      "model_module": "@jupyter-widgets/controls",
      "model_module_version": "1.5.0",
      "model_name": "FloatSliderModel",
      "state": {
       "description": "s1",
       "layout": "IPY_MODEL_f9bbd321301445c5aa55b851eafd5393",
       "max": 2,
       "min": 0.1,
       "step": 0.1,
       "style": "IPY_MODEL_1d77b4dce3be4346a380878026a32097",
       "value": 0.6
      }
     },
     "18059cd04d1546e8b003a59ab25c05f9": {
      "model_module": "@jupyter-widgets/controls",
      "model_module_version": "1.5.0",
      "model_name": "FloatSliderModel",
      "state": {
       "description": "p1",
       "layout": "IPY_MODEL_b59fe26ef5174b7d9fa6c9f46485e47f",
       "max": 1,
       "step": 0.1,
       "style": "IPY_MODEL_ab2da2deb5594702b06283dacda3c3b5",
       "value": 0.5
      }
     },
     "1917a82566d447129d84a0a0e525c32e": {
      "model_module": "@jupyter-widgets/base",
      "model_module_version": "1.2.0",
      "model_name": "LayoutModel",
      "state": {}
     },
     "194bb6dd3cf749c6a6271b1a282da3bc": {
      "model_module": "@jupyter-widgets/controls",
      "model_module_version": "1.5.0",
      "model_name": "FloatSliderModel",
      "state": {
       "description": "s2",
       "layout": "IPY_MODEL_ea6b25a7969749afbcfacb45e67825b3",
       "max": 2,
       "min": 0.1,
       "step": 0.1,
       "style": "IPY_MODEL_a39c8211a8a54f26a105d5181b8197a7",
       "value": 0.7
      }
     },
     "19d043c1fee441e1bc14bf507c5d64ba": {
      "model_module": "@jupyter-widgets/base",
      "model_module_version": "1.2.0",
      "model_name": "LayoutModel",
      "state": {}
     },
     "1c1e4948f86148a692c7d4c7f59ca65c": {
      "model_module": "@jupyter-widgets/base",
      "model_module_version": "1.2.0",
      "model_name": "LayoutModel",
      "state": {}
     },
     "1d77b4dce3be4346a380878026a32097": {
      "model_module": "@jupyter-widgets/controls",
      "model_module_version": "1.5.0",
      "model_name": "SliderStyleModel",
      "state": {
       "description_width": ""
      }
     },
     "1e82a26a9ec446e69c3bd9476c153eab": {
      "model_module": "@jupyter-widgets/base",
      "model_module_version": "1.2.0",
      "model_name": "LayoutModel",
      "state": {}
     },
     "1f0a42efea474003873488e845e7aa78": {
      "model_module": "@jupyter-widgets/base",
      "model_module_version": "1.2.0",
      "model_name": "LayoutModel",
      "state": {}
     },
     "21e7a95284a14786abe138e0539b41d2": {
      "model_module": "@jupyter-widgets/controls",
      "model_module_version": "1.5.0",
      "model_name": "SliderStyleModel",
      "state": {
       "description_width": ""
      }
     },
     "2579e34c46e24ad393dab7dcfb60c222": {
      "model_module": "@jupyter-widgets/controls",
      "model_module_version": "1.5.0",
      "model_name": "VBoxModel",
      "state": {
       "_dom_classes": [
        "widget-interact"
       ],
       "children": [
        "IPY_MODEL_4a01434a473c4d7089b65c13bdd38721",
        "IPY_MODEL_c0d0338d5bde4e42950e4b56b996e5b6",
        "IPY_MODEL_cd1e145522404a4ea0c40ecb23fbc043",
        "IPY_MODEL_a249ddf9200f48ca83a2b314c715cd86",
        "IPY_MODEL_18059cd04d1546e8b003a59ab25c05f9",
        "IPY_MODEL_43af4af19d0b4a0c8e127296a36258c3"
       ],
       "layout": "IPY_MODEL_4a9455328e4c40489acc1f4f13c686aa"
      }
     },
     "259b297cce9e468cb0be1e92c9f2d259": {
      "model_module": "@jupyter-widgets/controls",
      "model_module_version": "1.5.0",
      "model_name": "SliderStyleModel",
      "state": {
       "description_width": ""
      }
     },
     "2825ceceb0114a258cd1ae14e476cee1": {
      "model_module": "@jupyter-widgets/controls",
      "model_module_version": "1.5.0",
      "model_name": "SliderStyleModel",
      "state": {
       "description_width": ""
      }
     },
     "2b0bfc22a8e344f091d0bb3fa2c3ff88": {
      "model_module": "@jupyter-widgets/base",
      "model_module_version": "1.2.0",
      "model_name": "LayoutModel",
      "state": {}
     },
     "2d5afb7275bf45ed91bd72b4af063999": {
      "model_module": "@jupyter-widgets/controls",
      "model_module_version": "1.5.0",
      "model_name": "SliderStyleModel",
      "state": {
       "description_width": ""
      }
     },
     "2d90343bcc3342728dc1ac3938562716": {
      "model_module": "@jupyter-widgets/controls",
      "model_module_version": "1.5.0",
      "model_name": "FloatSliderModel",
      "state": {
       "description": "s2",
       "layout": "IPY_MODEL_1e82a26a9ec446e69c3bd9476c153eab",
       "max": 2,
       "min": 0.1,
       "step": 0.1,
       "style": "IPY_MODEL_96c65575d5d6471b84d062b8560f3f16",
       "value": 0.1
      }
     },
     "2ee265bf105c4f67b63af1d60728cafe": {
      "model_module": "@jupyter-widgets/base",
      "model_module_version": "1.2.0",
      "model_name": "LayoutModel",
      "state": {}
     },
     "2f68324d57d24cbca98db80ec54c7f46": {
      "model_module": "@jupyter-widgets/base",
      "model_module_version": "1.2.0",
      "model_name": "LayoutModel",
      "state": {}
     },
     "32dd8e688f3a4578acd428b6b07e68d5": {
      "model_module": "@jupyter-widgets/controls",
      "model_module_version": "1.5.0",
      "model_name": "SliderStyleModel",
      "state": {
       "description_width": ""
      }
     },
     "3749c177bb12487ab50ceb94158ea0d5": {
      "model_module": "@jupyter-widgets/controls",
      "model_module_version": "1.5.0",
      "model_name": "FloatSliderModel",
      "state": {
       "description": "s2",
       "layout": "IPY_MODEL_d468ee0c453a4ccb9db3cda5fbe9331a",
       "max": 2,
       "min": 0.1,
       "step": 0.1,
       "style": "IPY_MODEL_bfbd596063114f02acffecea264903f1",
       "value": 0.4
      }
     },
     "3a627426f9af4b30a9e709502f8f4db1": {
      "model_module": "@jupyter-widgets/controls",
      "model_module_version": "1.5.0",
      "model_name": "FloatSliderModel",
      "state": {
       "description": "m1",
       "layout": "IPY_MODEL_dd9767d9c6324848be162d1a131645b9",
       "max": 1,
       "min": -1,
       "step": 0.1,
       "style": "IPY_MODEL_2825ceceb0114a258cd1ae14e476cee1",
       "value": -1
      }
     },
     "3ccef307e4324b11a0ca3764603dc077": {
      "model_module": "@jupyter-widgets/controls",
      "model_module_version": "1.5.0",
      "model_name": "SliderStyleModel",
      "state": {
       "description_width": ""
      }
     },
     "3dbd6527e80049e0ba1e87541c6e0d59": {
      "model_module": "@jupyter-widgets/base",
      "model_module_version": "1.2.0",
      "model_name": "LayoutModel",
      "state": {}
     },
     "41d209579ee8439497cb7071d7f7fce5": {
      "model_module": "@jupyter-widgets/base",
      "model_module_version": "1.2.0",
      "model_name": "LayoutModel",
      "state": {}
     },
     "42d6c2c1358d44e4aa530a876dae538b": {
      "model_module": "@jupyter-widgets/controls",
      "model_module_version": "1.5.0",
      "model_name": "FloatSliderModel",
      "state": {
       "description": "p1",
       "layout": "IPY_MODEL_1f0a42efea474003873488e845e7aa78",
       "max": 1,
       "step": 0.1,
       "style": "IPY_MODEL_01eaaf61d0e749199e6650280acc1103",
       "value": 0.5
      }
     },
     "43af4af19d0b4a0c8e127296a36258c3": {
      "model_module": "@jupyter-widgets/output",
      "model_module_version": "1.0.0",
      "model_name": "OutputModel",
      "state": {
       "layout": "IPY_MODEL_941b01d424ab44c48a7d4e2b55254748",
       "outputs": [
        {
         "data": {
          "image/png": "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\n",
          "text/plain": "<Figure size 432x288 with 1 Axes>"
         },
         "metadata": {
          "needs_background": "light"
         },
         "output_type": "display_data"
        }
       ]
      }
     },
     "4540727ca4cf49ee8ae62d1b3b670808": {
      "model_module": "@jupyter-widgets/controls",
      "model_module_version": "1.5.0",
      "model_name": "FloatSliderModel",
      "state": {
       "description": "s2",
       "layout": "IPY_MODEL_c723cfa4c7654bcabf134c25d61e4144",
       "max": 2,
       "min": 0.1,
       "step": 0.1,
       "style": "IPY_MODEL_c5d3bb353e144b4fa680aaf577106748",
       "value": 1
      }
     },
     "45e7f0a812aa45998c7fb9009e526c79": {
      "model_module": "@jupyter-widgets/base",
      "model_module_version": "1.2.0",
      "model_name": "LayoutModel",
      "state": {}
     },
     "491be73936274a5c855e263a1bfbd2fa": {
      "model_module": "@jupyter-widgets/controls",
      "model_module_version": "1.5.0",
      "model_name": "SliderStyleModel",
      "state": {
       "description_width": ""
      }
     },
     "4a01434a473c4d7089b65c13bdd38721": {
      "model_module": "@jupyter-widgets/controls",
      "model_module_version": "1.5.0",
      "model_name": "FloatSliderModel",
      "state": {
       "description": "m1",
       "layout": "IPY_MODEL_c5d5429b864748caa3091317f89b9c58",
       "max": 1,
       "min": -1,
       "step": 0.1,
       "style": "IPY_MODEL_491be73936274a5c855e263a1bfbd2fa"
      }
     },
     "4a9455328e4c40489acc1f4f13c686aa": {
      "model_module": "@jupyter-widgets/base",
      "model_module_version": "1.2.0",
      "model_name": "LayoutModel",
      "state": {}
     },
     "4e07cde246f2476da009c4a20278d77c": {
      "model_module": "@jupyter-widgets/controls",
      "model_module_version": "1.5.0",
      "model_name": "SliderStyleModel",
      "state": {
       "description_width": ""
      }
     },
     "50e87e3188aa44b4aa342d1fb60a2002": {
      "model_module": "@jupyter-widgets/controls",
      "model_module_version": "1.5.0",
      "model_name": "FloatSliderModel",
      "state": {
       "description": "s1",
       "layout": "IPY_MODEL_75d0769650b047e0b137b2d0948d0e77",
       "max": 2,
       "min": 0.1,
       "step": 0.1,
       "style": "IPY_MODEL_4e07cde246f2476da009c4a20278d77c",
       "value": 0.5
      }
     },
     "570662505d3f4a81b2dd56c104a4b9a2": {
      "model_module": "@jupyter-widgets/controls",
      "model_module_version": "1.5.0",
      "model_name": "SliderStyleModel",
      "state": {
       "description_width": ""
      }
     },
     "58cc8823f5da45f59cb108cf855e0a2c": {
      "model_module": "@jupyter-widgets/controls",
      "model_module_version": "1.5.0",
      "model_name": "VBoxModel",
      "state": {
       "_dom_classes": [
        "widget-interact"
       ],
       "children": [
        "IPY_MODEL_d893b482933d40e096127528b299e3c4",
        "IPY_MODEL_8584a56129e04b1ab91482edeaec7042",
        "IPY_MODEL_155c22a6de8d4cb09096df7df017c500",
        "IPY_MODEL_2d90343bcc3342728dc1ac3938562716",
        "IPY_MODEL_0075ef13f48e45b08022d2db089efda7",
        "IPY_MODEL_d32988fd257b4889af3682798314bad2"
       ],
       "layout": "IPY_MODEL_94c66cbb37e6452ea906772d034ed9a8"
      }
     },
     "5a8cc2871d934683b1ee47abb58780d4": {
      "model_module": "@jupyter-widgets/controls",
      "model_module_version": "1.5.0",
      "model_name": "SliderStyleModel",
      "state": {
       "description_width": ""
      }
     },
     "5b58b63dbff64c2397318ebb435d4f67": {
      "model_module": "@jupyter-widgets/base",
      "model_module_version": "1.2.0",
      "model_name": "LayoutModel",
      "state": {}
     },
     "5f38cf1074bb42b3bfacf4fb8979942d": {
      "model_module": "@jupyter-widgets/base",
      "model_module_version": "1.2.0",
      "model_name": "LayoutModel",
      "state": {}
     },
     "62d62a6d69504c998aa5d3dad9c93e57": {
      "model_module": "@jupyter-widgets/controls",
      "model_module_version": "1.5.0",
      "model_name": "VBoxModel",
      "state": {
       "_dom_classes": [
        "widget-interact"
       ],
       "children": [
        "IPY_MODEL_e36c522634504eec8a6c20ed30ba9bd4",
        "IPY_MODEL_7d8ce47a340a4cb884666981f4d18bee",
        "IPY_MODEL_9a86fbcf67684d4fbbbb1bb22ba3badc",
        "IPY_MODEL_4540727ca4cf49ee8ae62d1b3b670808",
        "IPY_MODEL_42d6c2c1358d44e4aa530a876dae538b",
        "IPY_MODEL_d6c6878f160f4198a23f72067cf57395"
       ],
       "layout": "IPY_MODEL_da6b0cd35f4c4e7d8b83b282c34a2162"
      }
     },
     "651dcdd8da174972bed17e114625e7be": {
      "model_module": "@jupyter-widgets/output",
      "model_module_version": "1.0.0",
      "model_name": "OutputModel",
      "state": {
       "layout": "IPY_MODEL_1c1e4948f86148a692c7d4c7f59ca65c",
       "outputs": [
        {
         "data": {
          "image/png": "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\n",
          "text/plain": "<Figure size 432x288 with 1 Axes>"
         },
         "metadata": {
          "needs_background": "light"
         },
         "output_type": "display_data"
        }
       ]
      }
     },
     "716844f9c76548139853ecdbc0b5a190": {
      "model_module": "@jupyter-widgets/base",
      "model_module_version": "1.2.0",
      "model_name": "LayoutModel",
      "state": {}
     },
     "7555b94804e64bed8452e9336ad496d4": {
      "model_module": "@jupyter-widgets/controls",
      "model_module_version": "1.5.0",
      "model_name": "FloatSliderModel",
      "state": {
       "description": "m2",
       "layout": "IPY_MODEL_c79d3739bb4240ec9cf604b84af2188e",
       "max": 1,
       "min": -1,
       "step": 0.1,
       "style": "IPY_MODEL_2d5afb7275bf45ed91bd72b4af063999",
       "value": 0.8
      }
     },
     "75d0769650b047e0b137b2d0948d0e77": {
      "model_module": "@jupyter-widgets/base",
      "model_module_version": "1.2.0",
      "model_name": "LayoutModel",
      "state": {}
     },
     "7c2f1b34288744ae9272409b781935c3": {
      "model_module": "@jupyter-widgets/controls",
      "model_module_version": "1.5.0",
      "model_name": "SliderStyleModel",
      "state": {
       "description_width": ""
      }
     },
     "7d8ce47a340a4cb884666981f4d18bee": {
      "model_module": "@jupyter-widgets/controls",
      "model_module_version": "1.5.0",
      "model_name": "FloatSliderModel",
      "state": {
       "description": "m2",
       "layout": "IPY_MODEL_1917a82566d447129d84a0a0e525c32e",
       "max": 1,
       "min": -1,
       "step": 0.1,
       "style": "IPY_MODEL_f6f0bf60dab0445492a3dcf785e47e20",
       "value": 0.6
      }
     },
     "7e4999549bb24acab695d652c8957bc7": {
      "model_module": "@jupyter-widgets/controls",
      "model_module_version": "1.5.0",
      "model_name": "SliderStyleModel",
      "state": {
       "description_width": ""
      }
     },
     "821e6ec9ec1840128be0439c71054fea": {
      "model_module": "@jupyter-widgets/base",
      "model_module_version": "1.2.0",
      "model_name": "LayoutModel",
      "state": {}
     },
     "8240e1b5987e444380846879622f4daf": {
      "model_module": "@jupyter-widgets/base",
      "model_module_version": "1.2.0",
      "model_name": "LayoutModel",
      "state": {}
     },
     "8584a56129e04b1ab91482edeaec7042": {
      "model_module": "@jupyter-widgets/controls",
      "model_module_version": "1.5.0",
      "model_name": "FloatSliderModel",
      "state": {
       "description": "m2",
       "layout": "IPY_MODEL_821e6ec9ec1840128be0439c71054fea",
       "max": 1,
       "min": -1,
       "step": 0.1,
       "style": "IPY_MODEL_21e7a95284a14786abe138e0539b41d2",
       "value": -0.7
      }
     },
     "883f43d6d1064138a0635265b335bd73": {
      "model_module": "@jupyter-widgets/base",
      "model_module_version": "1.2.0",
      "model_name": "LayoutModel",
      "state": {}
     },
     "8ee0c2e7c615434a91bc3ac9cd375c7f": {
      "model_module": "@jupyter-widgets/controls",
      "model_module_version": "1.5.0",
      "model_name": "VBoxModel",
      "state": {
       "_dom_classes": [
        "widget-interact"
       ],
       "children": [
        "IPY_MODEL_ef43b737cc894c39aee01c1c0ca7251d",
        "IPY_MODEL_a2a51fff10b443d8b04fdb3115142e46",
        "IPY_MODEL_eaf71e36e7f94f878bcd32f2e64d7196",
        "IPY_MODEL_194bb6dd3cf749c6a6271b1a282da3bc",
        "IPY_MODEL_e01c985ef5af4dce8469990a91c7869c",
        "IPY_MODEL_015a60e3fb6941f38775c23e906df98a"
       ],
       "layout": "IPY_MODEL_19d043c1fee441e1bc14bf507c5d64ba"
      }
     },
     "941b01d424ab44c48a7d4e2b55254748": {
      "model_module": "@jupyter-widgets/base",
      "model_module_version": "1.2.0",
      "model_name": "LayoutModel",
      "state": {}
     },
     "94c66cbb37e6452ea906772d034ed9a8": {
      "model_module": "@jupyter-widgets/base",
      "model_module_version": "1.2.0",
      "model_name": "LayoutModel",
      "state": {}
     },
     "96c65575d5d6471b84d062b8560f3f16": {
      "model_module": "@jupyter-widgets/controls",
      "model_module_version": "1.5.0",
      "model_name": "SliderStyleModel",
      "state": {
       "description_width": ""
      }
     },
     "98474e195c5c45838c8a43b5e281068b": {
      "model_module": "@jupyter-widgets/controls",
      "model_module_version": "1.5.0",
      "model_name": "VBoxModel",
      "state": {
       "_dom_classes": [
        "widget-interact"
       ],
       "children": [
        "IPY_MODEL_3a627426f9af4b30a9e709502f8f4db1",
        "IPY_MODEL_7555b94804e64bed8452e9336ad496d4",
        "IPY_MODEL_50e87e3188aa44b4aa342d1fb60a2002",
        "IPY_MODEL_3749c177bb12487ab50ceb94158ea0d5",
        "IPY_MODEL_be5b774a7a144dfc9e48a0eb50dc1253",
        "IPY_MODEL_651dcdd8da174972bed17e114625e7be"
       ],
       "layout": "IPY_MODEL_716844f9c76548139853ecdbc0b5a190"
      }
     },
     "9a86fbcf67684d4fbbbb1bb22ba3badc": {
      "model_module": "@jupyter-widgets/controls",
      "model_module_version": "1.5.0",
      "model_name": "FloatSliderModel",
      "state": {
       "description": "s1",
       "layout": "IPY_MODEL_cac720784e084f88b28502306fa1dee0",
       "max": 2,
       "min": 0.1,
       "step": 0.1,
       "style": "IPY_MODEL_259b297cce9e468cb0be1e92c9f2d259",
       "value": 1
      }
     },
     "9bfb188b53e7480eb230cfc64490027c": {
      "model_module": "@jupyter-widgets/base",
      "model_module_version": "1.2.0",
      "model_name": "LayoutModel",
      "state": {}
     },
     "a249ddf9200f48ca83a2b314c715cd86": {
      "model_module": "@jupyter-widgets/controls",
      "model_module_version": "1.5.0",
      "model_name": "FloatSliderModel",
      "state": {
       "description": "s2",
       "layout": "IPY_MODEL_2f68324d57d24cbca98db80ec54c7f46",
       "max": 2,
       "min": 0.1,
       "step": 0.1,
       "style": "IPY_MODEL_7e4999549bb24acab695d652c8957bc7",
       "value": 1
      }
     },
     "a2a51fff10b443d8b04fdb3115142e46": {
      "model_module": "@jupyter-widgets/controls",
      "model_module_version": "1.5.0",
      "model_name": "FloatSliderModel",
      "state": {
       "description": "m2",
       "layout": "IPY_MODEL_2b0bfc22a8e344f091d0bb3fa2c3ff88",
       "max": 1,
       "min": -1,
       "step": 0.1,
       "style": "IPY_MODEL_570662505d3f4a81b2dd56c104a4b9a2",
       "value": 1
      }
     },
     "a39c8211a8a54f26a105d5181b8197a7": {
      "model_module": "@jupyter-widgets/controls",
      "model_module_version": "1.5.0",
      "model_name": "SliderStyleModel",
      "state": {
       "description_width": ""
      }
     },
     "ab2da2deb5594702b06283dacda3c3b5": {
      "model_module": "@jupyter-widgets/controls",
      "model_module_version": "1.5.0",
      "model_name": "SliderStyleModel",
      "state": {
       "description_width": ""
      }
     },
     "affead2c3d8341d788c98c68567e43de": {
      "model_module": "@jupyter-widgets/base",
      "model_module_version": "1.2.0",
      "model_name": "LayoutModel",
      "state": {}
     },
     "b59fe26ef5174b7d9fa6c9f46485e47f": {
      "model_module": "@jupyter-widgets/base",
      "model_module_version": "1.2.0",
      "model_name": "LayoutModel",
      "state": {}
     },
     "be5b774a7a144dfc9e48a0eb50dc1253": {
      "model_module": "@jupyter-widgets/controls",
      "model_module_version": "1.5.0",
      "model_name": "FloatSliderModel",
      "state": {
       "description": "p1",
       "layout": "IPY_MODEL_1288c463d73b4d61970e094c28c7a87d",
       "max": 1,
       "step": 0.1,
       "style": "IPY_MODEL_fb8eff9143554d2eb3e0277f74dd9f5a",
       "value": 0.5
      }
     },
     "bede83d7a7fd47128615eb519b7568c5": {
      "model_module": "@jupyter-widgets/controls",
      "model_module_version": "1.5.0",
      "model_name": "SliderStyleModel",
      "state": {
       "description_width": ""
      }
     },
     "bfbd596063114f02acffecea264903f1": {
      "model_module": "@jupyter-widgets/controls",
      "model_module_version": "1.5.0",
      "model_name": "SliderStyleModel",
      "state": {
       "description_width": ""
      }
     },
     "c0d0338d5bde4e42950e4b56b996e5b6": {
      "model_module": "@jupyter-widgets/controls",
      "model_module_version": "1.5.0",
      "model_name": "FloatSliderModel",
      "state": {
       "description": "m2",
       "layout": "IPY_MODEL_affead2c3d8341d788c98c68567e43de",
       "max": 1,
       "min": -1,
       "step": 0.1,
       "style": "IPY_MODEL_7c2f1b34288744ae9272409b781935c3"
      }
     },
     "c5d3bb353e144b4fa680aaf577106748": {
      "model_module": "@jupyter-widgets/controls",
      "model_module_version": "1.5.0",
      "model_name": "SliderStyleModel",
      "state": {
       "description_width": ""
      }
     },
     "c5d5429b864748caa3091317f89b9c58": {
      "model_module": "@jupyter-widgets/base",
      "model_module_version": "1.2.0",
      "model_name": "LayoutModel",
      "state": {}
     },
     "c723cfa4c7654bcabf134c25d61e4144": {
      "model_module": "@jupyter-widgets/base",
      "model_module_version": "1.2.0",
      "model_name": "LayoutModel",
      "state": {}
     },
     "c79d3739bb4240ec9cf604b84af2188e": {
      "model_module": "@jupyter-widgets/base",
      "model_module_version": "1.2.0",
      "model_name": "LayoutModel",
      "state": {}
     },
     "cac720784e084f88b28502306fa1dee0": {
      "model_module": "@jupyter-widgets/base",
      "model_module_version": "1.2.0",
      "model_name": "LayoutModel",
      "state": {}
     },
     "cd1e145522404a4ea0c40ecb23fbc043": {
      "model_module": "@jupyter-widgets/controls",
      "model_module_version": "1.5.0",
      "model_name": "FloatSliderModel",
      "state": {
       "description": "s1",
       "layout": "IPY_MODEL_41d209579ee8439497cb7071d7f7fce5",
       "max": 2,
       "min": 0.1,
       "step": 0.1,
       "style": "IPY_MODEL_5a8cc2871d934683b1ee47abb58780d4",
       "value": 1
      }
     },
     "d2ed1857981f4f2994f8d0f2b75724e0": {
      "model_module": "@jupyter-widgets/controls",
      "model_module_version": "1.5.0",
      "model_name": "SliderStyleModel",
      "state": {
       "description_width": ""
      }
     },
     "d32988fd257b4889af3682798314bad2": {
      "model_module": "@jupyter-widgets/output",
      "model_module_version": "1.0.0",
      "model_name": "OutputModel",
      "state": {
       "layout": "IPY_MODEL_109ce2aae0f24c69bbb6220b8334009b",
       "outputs": [
        {
         "data": {
          "image/png": "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\n",
          "text/plain": "<Figure size 432x288 with 1 Axes>"
         },
         "metadata": {
          "needs_background": "light"
         },
         "output_type": "display_data"
        }
       ]
      }
     },
     "d468ee0c453a4ccb9db3cda5fbe9331a": {
      "model_module": "@jupyter-widgets/base",
      "model_module_version": "1.2.0",
      "model_name": "LayoutModel",
      "state": {}
     },
     "d6c6878f160f4198a23f72067cf57395": {
      "model_module": "@jupyter-widgets/output",
      "model_module_version": "1.0.0",
      "model_name": "OutputModel",
      "state": {
       "layout": "IPY_MODEL_45e7f0a812aa45998c7fb9009e526c79",
       "outputs": [
        {
         "data": {
          "image/png": "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\n",
          "text/plain": "<Figure size 432x288 with 1 Axes>"
         },
         "metadata": {
          "needs_background": "light"
         },
         "output_type": "display_data"
        }
       ]
      }
     },
     "d893b482933d40e096127528b299e3c4": {
      "model_module": "@jupyter-widgets/controls",
      "model_module_version": "1.5.0",
      "model_name": "FloatSliderModel",
      "state": {
       "description": "m1",
       "layout": "IPY_MODEL_3dbd6527e80049e0ba1e87541c6e0d59",
       "max": 1,
       "min": -1,
       "step": 0.1,
       "style": "IPY_MODEL_bede83d7a7fd47128615eb519b7568c5",
       "value": 0.6
      }
     },
     "da6b0cd35f4c4e7d8b83b282c34a2162": {
      "model_module": "@jupyter-widgets/base",
      "model_module_version": "1.2.0",
      "model_name": "LayoutModel",
      "state": {}
     },
     "dd9767d9c6324848be162d1a131645b9": {
      "model_module": "@jupyter-widgets/base",
      "model_module_version": "1.2.0",
      "model_name": "LayoutModel",
      "state": {}
     },
     "e01c985ef5af4dce8469990a91c7869c": {
      "model_module": "@jupyter-widgets/controls",
      "model_module_version": "1.5.0",
      "model_name": "FloatSliderModel",
      "state": {
       "description": "p1",
       "layout": "IPY_MODEL_5b58b63dbff64c2397318ebb435d4f67",
       "max": 1,
       "step": 0.1,
       "style": "IPY_MODEL_3ccef307e4324b11a0ca3764603dc077",
       "value": 0.5
      }
     },
     "e146ad25bf184e10acd55ec599b65340": {
      "model_module": "@jupyter-widgets/controls",
      "model_module_version": "1.5.0",
      "model_name": "SliderStyleModel",
      "state": {
       "description_width": ""
      }
     },
     "e36c522634504eec8a6c20ed30ba9bd4": {
      "model_module": "@jupyter-widgets/controls",
      "model_module_version": "1.5.0",
      "model_name": "FloatSliderModel",
      "state": {
       "description": "m1",
       "layout": "IPY_MODEL_8240e1b5987e444380846879622f4daf",
       "max": 1,
       "min": -1,
       "step": 0.1,
       "style": "IPY_MODEL_d2ed1857981f4f2994f8d0f2b75724e0",
       "value": -0.8
      }
     },
     "ea6b25a7969749afbcfacb45e67825b3": {
      "model_module": "@jupyter-widgets/base",
      "model_module_version": "1.2.0",
      "model_name": "LayoutModel",
      "state": {}
     },
     "eaf71e36e7f94f878bcd32f2e64d7196": {
      "model_module": "@jupyter-widgets/controls",
      "model_module_version": "1.5.0",
      "model_name": "FloatSliderModel",
      "state": {
       "description": "s1",
       "layout": "IPY_MODEL_2ee265bf105c4f67b63af1d60728cafe",
       "max": 2,
       "min": 0.1,
       "step": 0.1,
       "style": "IPY_MODEL_e146ad25bf184e10acd55ec599b65340",
       "value": 0.6
      }
     },
     "ef43b737cc894c39aee01c1c0ca7251d": {
      "model_module": "@jupyter-widgets/controls",
      "model_module_version": "1.5.0",
      "model_name": "FloatSliderModel",
      "state": {
       "description": "m1",
       "layout": "IPY_MODEL_5f38cf1074bb42b3bfacf4fb8979942d",
       "max": 1,
       "min": -1,
       "step": 0.1,
       "style": "IPY_MODEL_32dd8e688f3a4578acd428b6b07e68d5",
       "value": -0.9
      }
     },
     "f6f0bf60dab0445492a3dcf785e47e20": {
      "model_module": "@jupyter-widgets/controls",
      "model_module_version": "1.5.0",
      "model_name": "SliderStyleModel",
      "state": {
       "description_width": ""
      }
     },
     "f9bbd321301445c5aa55b851eafd5393": {
      "model_module": "@jupyter-widgets/base",
      "model_module_version": "1.2.0",
      "model_name": "LayoutModel",
      "state": {}
     },
     "fb8eff9143554d2eb3e0277f74dd9f5a": {
      "model_module": "@jupyter-widgets/controls",
      "model_module_version": "1.5.0",
      "model_name": "SliderStyleModel",
      "state": {
       "description_width": ""
      }
     }
    },
    "version_major": 2,
    "version_minor": 0
   }
  }
 },
 "nbformat": 4,
 "nbformat_minor": 2
}
