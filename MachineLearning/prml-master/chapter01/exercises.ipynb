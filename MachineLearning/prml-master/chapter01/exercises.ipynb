{
 "cells": [
  {
   "cell_type": "markdown",
   "metadata": {},
   "source": [
    "# Pattern Recognition and Machine Learning"
   ]
  },
  {
   "cell_type": "code",
   "execution_count": 1,
   "metadata": {},
   "outputs": [],
   "source": [
    "import numpy as np\n",
    "import matplotlib.pyplot as plt\n",
    "from scipy.stats import norm\n",
    "from scipy.special import gamma\n",
    "plt.style.use(\"seaborn\")\n",
    "\n",
    "from itertools import product"
   ]
  },
  {
   "cell_type": "code",
   "execution_count": 2,
   "metadata": {},
   "outputs": [],
   "source": [
    "from itertools import combinations_with_replacement\n",
    "import sympy\n",
    "sympy.init_printing()"
   ]
  },
  {
   "cell_type": "markdown",
   "metadata": {},
   "source": [
    "### Exercise 1.15\n",
    "The $M$-th order term for a $D$-dimensional polynomial is given by\n",
    "$$\n",
    "    \\sum_{i_1=1}^D \\sum_{i_2=1}^D \\dots \\sum_{i_M=1}^D w_{i_1,i_2,\\ldots,i_M}x_{i_1}x_{i_2}\\ldots x_{i_M}\n",
    "$$\n",
    "Show that we can rewrite the last expresion by removing redundant terms in the form:\n",
    "$$\n",
    "    \\sum_{i_1=1}^D \\sum_{i_2=1}^{i_1} \\dots \\sum_{i_M=1}^{i_{M-1}} \\tilde w_{i_1,i_2,\\ldots,i_M}x_{i_1}x_{i_2}\\ldots x_{i_M}\n",
    "$$\n",
    "\n",
    "Note: the number of independent parameters is significantly fewer due to the many interchange symmetries of the factor $x_{i_1}x_{i_2}\\ldots x_{i_M}$"
   ]
  },
  {
   "cell_type": "code",
   "execution_count": 2,
   "metadata": {},
   "outputs": [],
   "source": [
    "terms = range(1, 4)\n",
    "i, j, k = symbols(\"i j k\", integer=True)\n",
    "what = IndexedBase(\"\\hat{w}\")\n",
    "x = IndexedBase(\"x\")"
   ]
  },
  {
   "cell_type": "code",
   "execution_count": 3,
   "metadata": {},
   "outputs": [],
   "source": [
    "def extract(iterable: list, elements: list) -> list:\n",
    "    \"\"\"\n",
    "    Extract and convert elements from a multi-level\n",
    "    list into a 1D list\n",
    "    \"\"\"\n",
    "    for el in iterable:\n",
    "        if type(el) == list:\n",
    "            extract(el, elements)\n",
    "        else:\n",
    "            elements.append(el)\n",
    "    return elements"
   ]
  },
  {
   "cell_type": "code",
   "execution_count": 4,
   "metadata": {},
   "outputs": [],
   "source": [
    "def term2d(i, j): return Indexed(\"\\hat{w}\", i, j) * Indexed(\"x\", i) * Indexed(\"x\", j)\n",
    "def term3d(i, j, k): return Indexed(\"\\hat{w}\", i, j, k) * Indexed(\"x\", i) * Indexed(\"x\", j) * Indexed(\"x\", k)"
   ]
  },
  {
   "cell_type": "markdown",
   "metadata": {},
   "source": [
    "#### For $D=2$, $M=3$"
   ]
  },
  {
   "cell_type": "code",
   "execution_count": 5,
   "metadata": {},
   "outputs": [
    {
     "data": {
      "image/png": "[encoded data removed]",
      "text/latex": [
       "$$\\sum_{\\substack{1 \\leq i \\leq 3\\\\1 \\leq j \\leq i}} {\\hat{w}}_{i,j} {x}_{i} {x}_{j}$$"
      ],
      "text/plain": [
       "  i     3                          \n",
       " ___   ___                         \n",
       " ╲     ╲                           \n",
       "  ╲     ╲   \\hat{w}[i, j]⋅x[i]⋅x[j]\n",
       "  ╱     ╱                          \n",
       " ╱     ╱                           \n",
       " ‾‾‾   ‾‾‾                         \n",
       "j = 1 i = 1                        "
      ]
     },
     "execution_count": 5,
     "metadata": {},
     "output_type": "execute_result"
    }
   ],
   "source": [
    "Sum(term2d(i, j), (i, 1, 3), (j, 1, i))"
   ]
  },
  {
   "cell_type": "code",
   "execution_count": 6,
   "metadata": {},
   "outputs": [
    {
     "data": {
      "image/png": "[encoded data removed]",
      "text/latex": [
       "$${\\hat{w}}_{1,1} {x}_{1}^{2} + {\\hat{w}}_{2,1} {x}_{1} {x}_{2} + {\\hat{w}}_{2,2} {x}_{2}^{2} + {\\hat{w}}_{3,1} {x}_{1} {x}_{3} + {\\hat{w}}_{3,2} {x}_{2} {x}_{3} + {\\hat{w}}_{3,3} {x}_{3}^{2}$$"
      ],
      "text/plain": [
       "                  2                                               2           \n",
       "\\hat{w}[1, 1]⋅x[1]  + \\hat{w}[2, 1]⋅x[1]⋅x[2] + \\hat{w}[2, 2]⋅x[2]  + \\hat{w}[\n",
       "\n",
       "                                                              2\n",
       "3, 1]⋅x[1]⋅x[3] + \\hat{w}[3, 2]⋅x[2]⋅x[3] + \\hat{w}[3, 3]⋅x[3] "
      ]
     },
     "execution_count": 6,
     "metadata": {},
     "output_type": "execute_result"
    }
   ],
   "source": [
    "elements = [[term2d(i, j) for j in range(1, i + 1)] for i in terms]\n",
    "simple_term = sum(extract(elements, []))\n",
    "simple_term"
   ]
  },
  {
   "cell_type": "code",
   "execution_count": 17,
   "metadata": {},
   "outputs": [
    {
     "data": {
      "image/png": "[encoded data removed]",
      "text/latex": [
       "$$\\sum_{\\substack{1 \\leq i \\leq 3\\\\1 \\leq j \\leq 3}} {\\hat{w}}_{i,j} {x}_{i} {x}_{j}$$"
      ],
      "text/plain": [
       "  3     3                          \n",
       " ___   ___                         \n",
       " ╲     ╲                           \n",
       "  ╲     ╲   \\hat{w}[i, j]⋅x[i]⋅x[j]\n",
       "  ╱     ╱                          \n",
       " ╱     ╱                           \n",
       " ‾‾‾   ‾‾‾                         \n",
       "j = 1 i = 1                        "
      ]
     },
     "execution_count": 17,
     "metadata": {},
     "output_type": "execute_result"
    }
   ],
   "source": [
    "Sum(term2d(i, j), (i, 1, 3), (j, 1, 3))"
   ]
  },
  {
   "cell_type": "code",
   "execution_count": 8,
   "metadata": {},
   "outputs": [
    {
     "data": {
      "image/png": "[encoded data removed]",
      "text/latex": [
       "$${\\hat{w}}_{1,1} {x}_{1}^{2} + {\\hat{w}}_{1,2} {x}_{1} {x}_{2} + {\\hat{w}}_{1,3} {x}_{1} {x}_{3} + {\\hat{w}}_{2,1} {x}_{1} {x}_{2} + {\\hat{w}}_{2,2} {x}_{2}^{2} + {\\hat{w}}_{2,3} {x}_{2} {x}_{3} + {\\hat{w}}_{3,1} {x}_{1} {x}_{3} + {\\hat{w}}_{3,2} {x}_{2} {x}_{3} + {\\hat{w}}_{3,3} {x}_{3}^{2}$$"
      ],
      "text/plain": [
       "                  2                                                           \n",
       "\\hat{w}[1, 1]⋅x[1]  + \\hat{w}[1, 2]⋅x[1]⋅x[2] + \\hat{w}[1, 3]⋅x[1]⋅x[3] + \\hat\n",
       "\n",
       "                                        2                                     \n",
       "{w}[2, 1]⋅x[1]⋅x[2] + \\hat{w}[2, 2]⋅x[2]  + \\hat{w}[2, 3]⋅x[2]⋅x[3] + \\hat{w}[\n",
       "\n",
       "                                                              2\n",
       "3, 1]⋅x[1]⋅x[3] + \\hat{w}[3, 2]⋅x[2]⋅x[3] + \\hat{w}[3, 3]⋅x[3] "
      ]
     },
     "execution_count": 8,
     "metadata": {},
     "output_type": "execute_result"
    }
   ],
   "source": [
    "full_term =  summation(term2d(i, j), (i, 1, 3), (j, 1, 3))\n",
    "full_term"
   ]
  },
  {
   "cell_type": "code",
   "execution_count": 9,
   "metadata": {},
   "outputs": [
    {
     "data": {
      "image/png": "[encoded data removed]",
      "text/latex": [
       "$${\\hat{w}}_{1,1} {x}_{1}^{2} + 2 {\\hat{w}}_{1,2} {x}_{1} {x}_{2} + 2 {\\hat{w}}_{1,3} {x}_{1} {x}_{3} + {\\hat{w}}_{2,2} {x}_{2}^{2} + 2 {\\hat{w}}_{2,3} {x}_{2} {x}_{3} + {\\hat{w}}_{3,3} {x}_{3}^{2}$$"
      ],
      "text/plain": [
       "                  2                                                           \n",
       "\\hat{w}[1, 1]⋅x[1]  + 2⋅\\hat{w}[1, 2]⋅x[1]⋅x[2] + 2⋅\\hat{w}[1, 3]⋅x[1]⋅x[3] + \n",
       "\n",
       "                  2                                                 2\n",
       "\\hat{w}[2, 2]⋅x[2]  + 2⋅\\hat{w}[2, 3]⋅x[2]⋅x[3] + \\hat{w}[3, 3]⋅x[3] "
      ]
     },
     "execution_count": 9,
     "metadata": {},
     "output_type": "execute_result"
    }
   ],
   "source": [
    "replacement = {what[x, y]: what[y, x] for x, y in ([2, 1], [3, 1], [3, 2])}\n",
    "full_term.xreplace(replacement) "
   ]
  },
  {
   "cell_type": "code",
   "execution_count": 10,
   "metadata": {},
   "outputs": [
    {
     "data": {
      "image/png": "[encoded data removed]",
      "text/latex": [
       "$$\\left({\\hat{w}}_{1,2} + {\\hat{w}}_{2,1}\\right) {x}_{1} {x}_{2} + \\left({\\hat{w}}_{1,3} + {\\hat{w}}_{3,1}\\right) {x}_{1} {x}_{3} + \\left({\\hat{w}}_{2,3} + {\\hat{w}}_{3,2}\\right) {x}_{2} {x}_{3} + {\\hat{w}}_{1,1} {x}_{1}^{2} + {\\hat{w}}_{2,2} {x}_{2}^{2} + {\\hat{w}}_{3,3} {x}_{3}^{2}$$"
      ],
      "text/plain": [
       "                                                                              \n",
       "(\\hat{w}[1, 2] + \\hat{w}[2, 1])⋅x[1]⋅x[2] + (\\hat{w}[1, 3] + \\hat{w}[3, 1])⋅x[\n",
       "\n",
       "                                                                        2     \n",
       "1]⋅x[3] + (\\hat{w}[2, 3] + \\hat{w}[3, 2])⋅x[2]⋅x[3] + \\hat{w}[1, 1]⋅x[1]  + \\h\n",
       "\n",
       "                2                     2\n",
       "at{w}[2, 2]⋅x[2]  + \\hat{w}[3, 3]⋅x[3] "
      ]
     },
     "execution_count": 10,
     "metadata": {},
     "output_type": "execute_result"
    }
   ],
   "source": [
    "collect(full_term, [x[1]*x[2], x[1] * x[3], x[2] * x[3]])"
   ]
  },
  {
   "cell_type": "markdown",
   "metadata": {},
   "source": [
    "-------"
   ]
  },
  {
   "cell_type": "markdown",
   "metadata": {},
   "source": [
    "#### For $D=3$, $M=3$"
   ]
  },
  {
   "cell_type": "code",
   "execution_count": 11,
   "metadata": {},
   "outputs": [
    {
     "data": {
      "image/png": "[encoded data removed]",
      "text/latex": [
       "$$\\sum_{\\substack{1 \\leq i \\leq 3\\\\1 \\leq j \\leq i\\\\1 \\leq k \\leq j}} {\\hat{w}}_{i,j,k} {x}_{i} {x}_{j} {x}_{k}$$"
      ],
      "text/plain": [
       "  j     i     3                                  \n",
       " ___   ___   ___                                 \n",
       " ╲     ╲     ╲                                   \n",
       "  ╲     ╲     ╲   \\hat{w}[i, j, k]⋅x[i]⋅x[j]⋅x[k]\n",
       "  ╱     ╱     ╱                                  \n",
       " ╱     ╱     ╱                                   \n",
       " ‾‾‾   ‾‾‾   ‾‾‾                                 \n",
       "k = 1 j = 1 i = 1                                "
      ]
     },
     "execution_count": 11,
     "metadata": {},
     "output_type": "execute_result"
    }
   ],
   "source": [
    "Sum(term3d(i, j, k), (i, 1, 3), (j, 1, i), (k, 1, j))"
   ]
  },
  {
   "cell_type": "code",
   "execution_count": 12,
   "metadata": {},
   "outputs": [
    {
     "data": {
      "image/png": "[encoded data removed]",
      "text/latex": [
       "$${\\hat{w}}_{1,1,1} {x}_{1}^{3} + {\\hat{w}}_{2,1,1} {x}_{1}^{2} {x}_{2} + {\\hat{w}}_{2,2,1} {x}_{1} {x}_{2}^{2} + {\\hat{w}}_{2,2,2} {x}_{2}^{3} + {\\hat{w}}_{3,1,1} {x}_{1}^{2} {x}_{3} + {\\hat{w}}_{3,2,1} {x}_{1} {x}_{2} {x}_{3} + {\\hat{w}}_{3,2,2} {x}_{2}^{2} {x}_{3} + {\\hat{w}}_{3,3,1} {x}_{1} {x}_{3}^{2} + {\\hat{w}}_{3,3,2} {x}_{2} {x}_{3}^{2} + {\\hat{w}}_{3,3,3} {x}_{3}^{3}$$"
      ],
      "text/plain": [
       "                     3                        2                               \n",
       "\\hat{w}[1, 1, 1]⋅x[1]  + \\hat{w}[2, 1, 1]⋅x[1] ⋅x[2] + \\hat{w}[2, 2, 1]⋅x[1]⋅x\n",
       "\n",
       "   2                        3                        2                        \n",
       "[2]  + \\hat{w}[2, 2, 2]⋅x[2]  + \\hat{w}[3, 1, 1]⋅x[1] ⋅x[3] + \\hat{w}[3, 2, 1]\n",
       "\n",
       "                                       2                                  2   \n",
       "⋅x[1]⋅x[2]⋅x[3] + \\hat{w}[3, 2, 2]⋅x[2] ⋅x[3] + \\hat{w}[3, 3, 1]⋅x[1]⋅x[3]  + \n",
       "\n",
       "                          2                        3\n",
       "\\hat{w}[3, 3, 2]⋅x[2]⋅x[3]  + \\hat{w}[3, 3, 3]⋅x[3] "
      ]
     },
     "execution_count": 12,
     "metadata": {},
     "output_type": "execute_result"
    }
   ],
   "source": [
    "elements = [[[term3d(i, j, k) for k in range(1, j + 1)] for j in range(1 + i)] for i in terms]\n",
    "simple_term = sum(extract(elements, []))\n",
    "simple_term"
   ]
  },
  {
   "cell_type": "code",
   "execution_count": 13,
   "metadata": {},
   "outputs": [
    {
     "data": {
      "image/png": "[encoded data removed]",
      "text/latex": [
       "$$\\sum_{\\substack{1 \\leq i \\leq 3\\\\1 \\leq j \\leq 3\\\\1 \\leq k \\leq 3}} {\\hat{w}}_{i,j,k} {x}_{i} {x}_{j} {x}_{k}$$"
      ],
      "text/plain": [
       "  3     3     3                                  \n",
       " ___   ___   ___                                 \n",
       " ╲     ╲     ╲                                   \n",
       "  ╲     ╲     ╲   \\hat{w}[i, j, k]⋅x[i]⋅x[j]⋅x[k]\n",
       "  ╱     ╱     ╱                                  \n",
       " ╱     ╱     ╱                                   \n",
       " ‾‾‾   ‾‾‾   ‾‾‾                                 \n",
       "k = 1 j = 1 i = 1                                "
      ]
     },
     "execution_count": 13,
     "metadata": {},
     "output_type": "execute_result"
    }
   ],
   "source": [
    "Sum(term3d(i, j, k), (i, 1, 3), (j, 1, 3), (k, 1, 3))"
   ]
  },
  {
   "cell_type": "code",
   "execution_count": 14,
   "metadata": {},
   "outputs": [
    {
     "data": {
      "image/png": "[encoded data removed]",
      "text/latex": [
       "$${\\hat{w}}_{1,1,1} {x}_{1}^{3} + {\\hat{w}}_{1,1,2} {x}_{1}^{2} {x}_{2} + {\\hat{w}}_{1,1,3} {x}_{1}^{2} {x}_{3} + {\\hat{w}}_{1,2,1} {x}_{1}^{2} {x}_{2} + {\\hat{w}}_{1,2,2} {x}_{1} {x}_{2}^{2} + {\\hat{w}}_{1,2,3} {x}_{1} {x}_{2} {x}_{3} + {\\hat{w}}_{1,3,1} {x}_{1}^{2} {x}_{3} + {\\hat{w}}_{1,3,2} {x}_{1} {x}_{2} {x}_{3} + {\\hat{w}}_{1,3,3} {x}_{1} {x}_{3}^{2} + {\\hat{w}}_{2,1,1} {x}_{1}^{2} {x}_{2} + {\\hat{w}}_{2,1,2} {x}_{1} {x}_{2}^{2} + {\\hat{w}}_{2,1,3} {x}_{1} {x}_{2} {x}_{3} + {\\hat{w}}_{2,2,1} {x}_{1} {x}_{2}^{2} + {\\hat{w}}_{2,2,2} {x}_{2}^{3} + {\\hat{w}}_{2,2,3} {x}_{2}^{2} {x}_{3} + {\\hat{w}}_{2,3,1} {x}_{1} {x}_{2} {x}_{3} + {\\hat{w}}_{2,3,2} {x}_{2}^{2} {x}_{3} + {\\hat{w}}_{2,3,3} {x}_{2} {x}_{3}^{2} + {\\hat{w}}_{3,1,1} {x}_{1}^{2} {x}_{3} + {\\hat{w}}_{3,1,2} {x}_{1} {x}_{2} {x}_{3} + {\\hat{w}}_{3,1,3} {x}_{1} {x}_{3}^{2} + {\\hat{w}}_{3,2,1} {x}_{1} {x}_{2} {x}_{3} + {\\hat{w}}_{3,2,2} {x}_{2}^{2} {x}_{3} + {\\hat{w}}_{3,2,3} {x}_{2} {x}_{3}^{2} + {\\hat{w}}_{3,3,1} {x}_{1} {x}_{3}^{2} + {\\hat{w}}_{3,3,2} {x}_{2} {x}_{3}^{2} + {\\hat{w}}_{3,3,3} {x}_{3}^{3}$$"
      ],
      "text/plain": [
       "                     3                        2                             2 \n",
       "\\hat{w}[1, 1, 1]⋅x[1]  + \\hat{w}[1, 1, 2]⋅x[1] ⋅x[2] + \\hat{w}[1, 1, 3]⋅x[1] ⋅\n",
       "\n",
       "                            2                                  2              \n",
       "x[3] + \\hat{w}[1, 2, 1]⋅x[1] ⋅x[2] + \\hat{w}[1, 2, 2]⋅x[1]⋅x[2]  + \\hat{w}[1, \n",
       "\n",
       "                                            2                                 \n",
       "2, 3]⋅x[1]⋅x[2]⋅x[3] + \\hat{w}[1, 3, 1]⋅x[1] ⋅x[3] + \\hat{w}[1, 3, 2]⋅x[1]⋅x[2\n",
       "\n",
       "                                   2                        2                 \n",
       "]⋅x[3] + \\hat{w}[1, 3, 3]⋅x[1]⋅x[3]  + \\hat{w}[2, 1, 1]⋅x[1] ⋅x[2] + \\hat{w}[2\n",
       "\n",
       "                 2                                                            \n",
       ", 1, 2]⋅x[1]⋅x[2]  + \\hat{w}[2, 1, 3]⋅x[1]⋅x[2]⋅x[3] + \\hat{w}[2, 2, 1]⋅x[1]⋅x\n",
       "\n",
       "   2                        3                        2                        \n",
       "[2]  + \\hat{w}[2, 2, 2]⋅x[2]  + \\hat{w}[2, 2, 3]⋅x[2] ⋅x[3] + \\hat{w}[2, 3, 1]\n",
       "\n",
       "                                       2                                  2   \n",
       "⋅x[1]⋅x[2]⋅x[3] + \\hat{w}[2, 3, 2]⋅x[2] ⋅x[3] + \\hat{w}[2, 3, 3]⋅x[2]⋅x[3]  + \n",
       "\n",
       "                     2                                                        \n",
       "\\hat{w}[3, 1, 1]⋅x[1] ⋅x[3] + \\hat{w}[3, 1, 2]⋅x[1]⋅x[2]⋅x[3] + \\hat{w}[3, 1, \n",
       "\n",
       "            2                                                          2      \n",
       "3]⋅x[1]⋅x[3]  + \\hat{w}[3, 2, 1]⋅x[1]⋅x[2]⋅x[3] + \\hat{w}[3, 2, 2]⋅x[2] ⋅x[3] \n",
       "\n",
       "                            2                             2                   \n",
       "+ \\hat{w}[3, 2, 3]⋅x[2]⋅x[3]  + \\hat{w}[3, 3, 1]⋅x[1]⋅x[3]  + \\hat{w}[3, 3, 2]\n",
       "\n",
       "          2                        3\n",
       "⋅x[2]⋅x[3]  + \\hat{w}[3, 3, 3]⋅x[3] "
      ]
     },
     "execution_count": 14,
     "metadata": {},
     "output_type": "execute_result"
    }
   ],
   "source": [
    "full_term = summation(term3d(i, j, k), (i, 1, 3), (j, 1, 3), (k, 1, 3))\n",
    "full_term"
   ]
  },
  {
   "cell_type": "code",
   "execution_count": 16,
   "metadata": {},
   "outputs": [
    {
     "data": {
      "image/png": "[encoded data removed]",
      "text/latex": [
       "$$\\left({\\hat{w}}_{1,1,2} + {\\hat{w}}_{1,2,1} + {\\hat{w}}_{2,1,1}\\right) {x}_{1}^{2} {x}_{2} + \\left({\\hat{w}}_{1,1,3} + {\\hat{w}}_{1,3,1} + {\\hat{w}}_{3,1,1}\\right) {x}_{1}^{2} {x}_{3} + \\left({\\hat{w}}_{1,2,2} + {\\hat{w}}_{2,1,2} + {\\hat{w}}_{2,2,1}\\right) {x}_{1} {x}_{2}^{2} + \\left({\\hat{w}}_{1,3,3} + {\\hat{w}}_{3,1,3} + {\\hat{w}}_{3,3,1}\\right) {x}_{1} {x}_{3}^{2} + \\left({\\hat{w}}_{2,2,3} + {\\hat{w}}_{2,3,2} + {\\hat{w}}_{3,2,2}\\right) {x}_{2}^{2} {x}_{3} + \\left({\\hat{w}}_{2,3,3} + {\\hat{w}}_{3,2,3} + {\\hat{w}}_{3,3,2}\\right) {x}_{2} {x}_{3}^{2} + \\left({\\hat{w}}_{1,2,3} + {\\hat{w}}_{1,3,2} + {\\hat{w}}_{2,1,3} + {\\hat{w}}_{2,3,1} + {\\hat{w}}_{3,1,2} + {\\hat{w}}_{3,2,1}\\right) {x}_{1} {x}_{2} {x}_{3} + {\\hat{w}}_{1,1,1} {x}_{1}^{3} + {\\hat{w}}_{2,2,2} {x}_{2}^{3} + {\\hat{w}}_{3,3,3} {x}_{3}^{3}$$"
      ],
      "text/plain": [
       "                                                             2                \n",
       "(\\hat{w}[1, 1, 2] + \\hat{w}[1, 2, 1] + \\hat{w}[2, 1, 1])⋅x[1] ⋅x[2] + (\\hat{w}\n",
       "\n",
       "                                                     2                        \n",
       "[1, 1, 3] + \\hat{w}[1, 3, 1] + \\hat{w}[3, 1, 1])⋅x[1] ⋅x[3] + (\\hat{w}[1, 2, 2\n",
       "\n",
       "                                                  2                           \n",
       "] + \\hat{w}[2, 1, 2] + \\hat{w}[2, 2, 1])⋅x[1]⋅x[2]  + (\\hat{w}[1, 3, 3] + \\hat\n",
       "\n",
       "                                          2                                   \n",
       "{w}[3, 1, 3] + \\hat{w}[3, 3, 1])⋅x[1]⋅x[3]  + (\\hat{w}[2, 2, 3] + \\hat{w}[2, 3\n",
       "\n",
       "                             2                                                \n",
       ", 2] + \\hat{w}[3, 2, 2])⋅x[2] ⋅x[3] + (\\hat{w}[2, 3, 3] + \\hat{w}[3, 2, 3] + \\\n",
       "\n",
       "                          2                                                   \n",
       "hat{w}[3, 3, 2])⋅x[2]⋅x[3]  + (\\hat{w}[1, 2, 3] + \\hat{w}[1, 3, 2] + \\hat{w}[2\n",
       "\n",
       "                                                                              \n",
       ", 1, 3] + \\hat{w}[2, 3, 1] + \\hat{w}[3, 1, 2] + \\hat{w}[3, 2, 1])⋅x[1]⋅x[2]⋅x[\n",
       "\n",
       "                          3                        3                        3\n",
       "3] + \\hat{w}[1, 1, 1]⋅x[1]  + \\hat{w}[2, 2, 2]⋅x[2]  + \\hat{w}[3, 3, 3]⋅x[3] "
      ]
     },
     "execution_count": 16,
     "metadata": {},
     "output_type": "execute_result"
    }
   ],
   "source": [
    "groupping = [x[a] *  x[b] * x[c] for a, b, c in combinations_with_replacement([1, 2, 3], r=3)]\n",
    "collect(full_term, groupping, exact=True)"
   ]
  },
  {
   "cell_type": "markdown",
   "metadata": {},
   "source": [
    "### Exercise 1.18\n",
    "By considering\n",
    "$$\n",
    "    \\prod_{i=1}^D \\int_{-\\infty}^{\\infty}e^{-x_i^2} dx_i = S_D \\int_{0}^\\infty e^{-r^2}r^{D-1}dr\n",
    "$$\n",
    "\n",
    "We can show that the surface area $S_D$ and the volume $V_D$ of a unit radius in $D$ dimensions is given by\n",
    "\n",
    "$$\n",
    "    S_D = \\frac{2\\pi^{D/2}}{\\Gamma(D/2)}\n",
    "$$\n",
    "\n",
    "$$\n",
    "    V_D = \\frac{S_D}{D}\n",
    "$$"
   ]
  },
  {
   "cell_type": "code",
   "execution_count": 2,
   "metadata": {},
   "outputs": [],
   "source": [
    "D = np.linspace(0.1, 20, 1000)\n",
    "Sd = 2 * np.pi * D / gamma(D / 2)\n",
    "Vd = Sd / D"
   ]
  },
  {
   "cell_type": "code",
   "execution_count": 9,
   "metadata": {},
   "outputs": [
    {
     "data": {
      "image/png": "[encoded data removed]",
      "text/plain": [
       "<Figure size 1080x360 with 2 Axes>"
      ]
     },
     "metadata": {},
     "output_type": "display_data"
    }
   ],
   "source": [
    "fig = plt.figure(figsize=(15, 5))\n",
    "\n",
    "ax = fig.add_subplot(1, 2, 1)\n",
    "ax.plot(D, Sd)\n",
    "ax.set_title(\"Surface Area for unit sphere in $D$ dimensions\")\n",
    "ax.set_xlabel(\"$D$\")\n",
    "ax.set_ylabel(\"$S_D$\")\n",
    "ax.grid(alpha=0.6)\n",
    "\n",
    "ax = fig.add_subplot(1, 2, 2)\n",
    "ax.plot(D, Vd)\n",
    "ax.set_title(\"Volume of a unit sphere in $D$ dimensions\")\n",
    "ax.set_xlabel(\"$D$\")\n",
    "ax.set_ylabel(\"$V_D$\")\n",
    "ax.grid(alpha=0.6)"
   ]
  },
  {
   "cell_type": "markdown",
   "metadata": {},
   "source": [
    "### Exercise 1.20\n",
    "By considering\n",
    "$$\n",
    "    p(\\mathbf{x}) = \\frac{1}{\\left(2\\pi\\sigma^2\\right)^{D/2}}\\exp{\\left(-\\frac{||\\mathbf{x}||^2}{2\\sigma^2}\\right)}\n",
    "$$\n",
    "\n",
    "Show that the integralof the probability density over a thin shell of radius $r$ and thickness $\\varepsilon$, where $\\varepsilon \\ll 1$, is given by $p(r)\\varepsilon$ where\n",
    "\n",
    "$$\n",
    "    p(r) = \\frac{S_Dr^{D-1}}{\\left(2\\pi\\sigma^2\\right)^{D/2}}\\exp\\left(-\\frac{-r^2}{2\\sigma^2}\\right)\n",
    "$$"
   ]
  },
  {
   "cell_type": "code",
   "execution_count": 2,
   "metadata": {},
   "outputs": [],
   "source": [
    "import sympy\n",
    "from sympy import cos, sin\n",
    "t1, t2, t3, r = sympy.symbols(\"theta1 theta2 theta3 r\")\n",
    "x1 = r * cos(t1)\n",
    "x2 = r * sin(t1) * cos(t2)\n",
    "x3 = r * sin(t1) * sin(t2) * cos(t3)\n",
    "x4 = r * sin(t1) * sin(t2) * sin(t3)"
   ]
  },
  {
   "cell_type": "code",
   "execution_count": 3,
   "metadata": {},
   "outputs": [
    {
     "data": {
      "text/plain": [
       "r**2*sin(theta1)**2*sin(theta2)**2*sin(theta3)**2 + r**2*sin(theta1)**2*sin(theta2)**2*cos(theta3)**2 + r**2*sin(theta1)**2*cos(theta2)**2 + r**2*cos(theta1)**2"
      ]
     },
     "execution_count": 3,
     "metadata": {},
     "output_type": "execute_result"
    }
   ],
   "source": [
    "X2 = sum([x**2 for x in [x1, x2, x3, x4]])\n",
    "X2"
   ]
  },
  {
   "cell_type": "code",
   "execution_count": 4,
   "metadata": {},
   "outputs": [
    {
     "data": {
      "text/plain": [
       "r**2"
      ]
     },
     "execution_count": 4,
     "metadata": {},
     "output_type": "execute_result"
    }
   ],
   "source": [
    "X2.simplify()"
   ]
  },
  {
   "cell_type": "markdown",
   "metadata": {},
   "source": [
    "### Exercise 1.27\n",
    "Consider the expected loss for regression problems underr the $L_q$ loss function\n",
    "$$\n",
    "    \\mathbb{E}[L_q] = \\int\\int |y(x) - t|^q p(x, t) \\ dx dt\n",
    "$$\n",
    "\n",
    "----\n",
    "Since we can choose $y(x)$ independently of $x$, the minimum of $\\mathbb{E}[L_q]$ can be found by minimizing the function in a pointwise manner\n",
    "\n",
    "$$\n",
    "\\begin{align}\n",
    "\\arg\\min\\mathbb{E}[L_q] &= \\arg\\min \\int |y(x) - t|^q p(x, t) dt \\\\\n",
    "                        &= \\arg\\min \\int |y(x) - t|^q p(t|x)p(x) dt \\\\\n",
    "                        &= \\arg\\min \\int |y(x) - t|^q p(t|x) dt \\\\\n",
    "\\end{align}\n",
    "$$"
   ]
  },
  {
   "cell_type": "code",
   "execution_count": 6,
   "metadata": {},
   "outputs": [
    {
     "data": {
      "image/png": "[encoded data removed]",
      "text/plain": [
       "<Figure size 720x540 with 1 Axes>"
      ]
     },
     "metadata": {
      "needs_background": "light"
     },
     "output_type": "display_data"
    }
   ],
   "source": [
    "t = np.linspace(-0.5, 0.5, 10000)\n",
    "plt.figure(figsize=(10, 7.5))\n",
    "plt.title(r\"$|t|^q \\phi(t)$\", size=20)\n",
    "for q in [1, 2, 4, 16]:\n",
    "    plt.plot(t, np.abs(t) ** (1 / q) * norm.pdf(t) , label=f\"1/{q}\")\n",
    "plt.legend()\n",
    "plt.grid(alpha=0.3)\n",
    "plt.show()"
   ]
  },
  {
   "cell_type": "markdown",
   "metadata": {},
   "source": [
    "### Exercise 1.30\n",
    "\n",
    "Evaluate the Kullback-Leibler divergence between two gaussians.\n",
    "\n",
    "$$\n",
    "    KL(p||q) = -\\int p(x) \\log{\\frac{q(x)}{p(x)}} dx\n",
    "$$\n",
    "\n",
    "where \n",
    "* $p(x) = \\frac{1}{\\sqrt{2\\pi\\sigma^2}}e^{-\\frac{1}{2\\sigma^2}(x - \\mu)^2}$\n",
    "* $q(x) = \\frac{1}{\\sqrt{2\\pi s^2}}e^{-\\frac{1}{2 s^2}(x - m)^2}$\n",
    "\n",
    "We can divide up $-p(x) \\log{\\frac{q(x)}{p(x)}}$ into $\\frac{1}{2}(A + B + C)$; where\n",
    "\n",
    "$$\n",
    "    A = -\\log\\left(\\frac{\\sigma^2}{s^2}\\right)\\mathcal{N}(x | \\mu, \\sigma^2)\n",
    "$$\n",
    "\n",
    "$$\n",
    "    B = -\\mathcal{N}(x | \\mu, \\sigma^2)\\left(\\frac{1}{\\sigma^2}(x - \\mu)^2\\right)\n",
    "$$\n",
    "\n",
    "$$\n",
    "    C = \\mathcal{N}(x | \\mu, \\sigma^2)\\left(\\frac{1}{s^2}(x - m)^2\\right)\n",
    "$$"
   ]
  },
  {
   "cell_type": "code",
   "execution_count": 1,
   "metadata": {},
   "outputs": [],
   "source": [
    "from ipywidgets import interact, FloatSlider, Dropdown\n",
    "from scipy.integrate import quad\n",
    "from scipy.stats import norm\n",
    "\n",
    "mu, sigma2 = 1, 1\n",
    "m, s2 = 2, 2"
   ]
  },
  {
   "cell_type": "markdown",
   "metadata": {},
   "source": [
    "After integrating all terms, we conclude:\n",
    "$$\n",
    "    KL\\left(\\mathcal{N}(\\mu, \\sigma^2)||\\mathcal{N}(m, s^2)\\right) = \\frac{1}{2}\\left(\\frac{1}{s^2}\\left(\\sigma^2 + (\\mu - m)^2\\right) - \\log\\left(\\frac{\\sigma^2}{s^2}\\right) - 1\\right)\n",
    "$$"
   ]
  },
  {
   "cell_type": "code",
   "execution_count": 6,
   "metadata": {},
   "outputs": [
    {
     "data": {
      "text/plain": [
       "(0.34657359027997275, 1.1377960462583034e-09)"
      ]
     },
     "execution_count": 6,
     "metadata": {},
     "output_type": "execute_result"
    }
   ],
   "source": [
    "# Integral approximation\n",
    "def kl(x, mu, sigma2, m, s2): return -norm.pdf(x, loc=mu, scale=np.sqrt(sigma2)) * \\\n",
    "                                      np.log(norm.pdf(x, loc=m, scale=np.sqrt(s2)) / \\\n",
    "                                             norm.pdf(x, loc=mu, scale=np.sqrt(sigma2)))\n",
    "quad(kl, -10, 10, (mu, sigma2, m, s2))"
   ]
  },
  {
   "cell_type": "code",
   "execution_count": 7,
   "metadata": {},
   "outputs": [
    {
     "data": {
      "text/plain": [
       "0.3465735902799727"
      ]
     },
     "execution_count": 7,
     "metadata": {},
     "output_type": "execute_result"
    }
   ],
   "source": [
    "# Exact solution\n",
    "def kld(mu, sigma2, m, s2): return ((sigma2 + (mu - m) ** 2) / s2 - np.log(sigma2 / s2) - 1) / 2\n",
    "kld(mu, sigma2, m, s2)"
   ]
  },
  {
   "cell_type": "code",
   "execution_count": 8,
   "metadata": {},
   "outputs": [
    {
     "data": {
      "application/vnd.jupyter.widget-view+json": {
       "model_id": "0038fac3296f4dbd93c1849b1244d24b",
       "version_major": 2,
       "version_minor": 0
      },
      "text/plain": [
       "interactive(children=(FloatSlider(value=0.0, description='mu', max=2.0, min=-2.0), FloatSlider(value=1.0, desc…"
      ]
     },
     "metadata": {},
     "output_type": "display_data"
    }
   ],
   "source": [
    "def plot_kld(mu, sigma2, m, s2, along):\n",
    "    figure, ax = plt.subplots(1, 2, figsize=(20, 7))\n",
    "    if along in [\"mu\", \"m\"]:\n",
    "        xrange = np.linspace(-2, 2)\n",
    "        yrange = kld(xrange, sigma2, m, s2) if along == \"mu\" else kld(mu, sigma2, xrange, s2)\n",
    "    elif along in [\"sigma2\", \"s2\"]:\n",
    "        xrange = np.linspace(0.1, 2)\n",
    "        yrange = kld(mu, xrange, m, s2) if along == \"sigma2\" else kld(mu, sigma2, m, xrange)\n",
    "\n",
    "    xmin = -2 if along in [\"mu\", \"m\"] else 0\n",
    "    ax[0].vlines(x=eval(along), ymin=0, ymax=2, linestyle=\"dashed\")\n",
    "    ax[0].hlines(y=kld(mu, sigma2, m, s2), xmin=xmin, xmax=2, linestyle=\"dashed\")\n",
    "        \n",
    "    ax[0].set_xlabel(along)\n",
    "    ax[0].plot(xrange, yrange)\n",
    "    ax[0].set_ylim(0, 2)\n",
    "    ax[0].set_title(f\"$KL(p||q)={kld(mu, sigma2, m, s2):0.3f}$\")\n",
    "    xrange = np.linspace(-3, 3, 100)\n",
    "    ax[1].plot(xrange, norm.pdf(xrange, mu, sigma2), label=f\"mu={mu}  sigma2={sigma2}\")\n",
    "    ax[1].plot(xrange, norm.pdf(xrange, m, s2), label=f\"mu={m}  sigma2={s2}\")\n",
    "    ax[1].legend(fontsize=\"x-large\")\n",
    "    \n",
    "interact(plot_kld,\n",
    "         mu=FloatSlider(value=0, min=-2, max=2, step=0.1),\n",
    "         sigma2=FloatSlider(value=1, min=0.1, max=2, step=0.1),\n",
    "         m=FloatSlider(value=0, min=-2, max=2, step=0.1),\n",
    "         s2=FloatSlider(value=1, min=0.1, max=2, step=0.1),\n",
    "         along=Dropdown(options=[\"mu\", \"m\", \"sigma2\", \"s2\"]));"
   ]
  },
  {
   "cell_type": "markdown",
   "metadata": {},
   "source": [
    "Using proof by induction, show that the inequality \n",
    "$$\n",
    "    f\\left(\\theta x + (1 - \\theta) y\\right) \\leq \\theta f(x) + (1 - \\theta) f(y)\n",
    "$$\n",
    "for convex functions implies\n",
    "$$\n",
    "    f\\left(\\sum_i \\theta_i x_i\\right) \\leq \\sum_i\\theta_i f(x_i)\n",
    "$$\n",
    "\n",
    "\n",
    "For $\\{x_i\\}_i \\in \\text{dom}(f)$ and $\\sum_i \\theta_i = 1$"
   ]
  },
  {
   "cell_type": "code",
   "execution_count": 26,
   "metadata": {},
   "outputs": [],
   "source": [
    "plt.style.use(\"seaborn\")"
   ]
  },
  {
   "cell_type": "code",
   "execution_count": 27,
   "metadata": {},
   "outputs": [
    {
     "data": {
      "text/plain": [
       "<matplotlib.colorbar.Colorbar at 0x1a1d98d978>"
      ]
     },
     "execution_count": 27,
     "metadata": {},
     "output_type": "execute_result"
    },
    {
     "data": {
      "image/png": "[encoded data removed]",
      "text/plain": [
       "<Figure size 576x396 with 2 Axes>"
      ]
     },
     "metadata": {},
     "output_type": "display_data"
    }
   ],
   "source": [
    "kdef f(x): return x**2\n",
    "x1 = np.linspace(-2, 2, 100)\n",
    "x2 = np.linspace(-2, 2, 100)\n",
    "\n",
    "x1, x2 = np.mgrid[-2:2:0.1, -2:2:0.1]\n",
    "plt.contourf(x1, x2, f(x1 - x2) <= f(x1) - f(x2))\n",
    "plt.colorbar()"
   ]
  },
  {
   "cell_type": "markdown",
   "metadata": {},
   "source": [
    "### Exercise 1.39\n",
    "Consider the two binary variables $x$ and $y$ having the following joint relationship\n",
    "\n",
    "x\\y | 0 | 1\n",
    "---|---|----\n",
    "0 | 0 | 1 / 3\n",
    "1 | 1/3 | 1/3\n",
    "\n",
    "Evaluate the following quantities:\n",
    "* $H[x]$\n",
    "* $H[y]$\n",
    "* $H[y|x]$\n",
    "* $H[x|y]$\n",
    "* $H[x, y]$\n",
    "* $I[x, y]$\n",
    "\n",
    "We first note that"
   ]
  },
  {
   "cell_type": "code",
   "execution_count": 12,
   "metadata": {},
   "outputs": [],
   "source": [
    "def P(x, y):\n",
    "    if x == 0 and y == 0:\n",
    "        return 0\n",
    "    if x == 1 and y == 1:\n",
    "        return 1 / 3\n",
    "    if x == 1 and y == 0:\n",
    "        return 1 / 3\n",
    "    if x == 0 and y == 1:\n",
    "        return 1 / 3\n",
    "    \n",
    "# Since P(x=x.) = P(x=x., y=0) + P(x=x., y=1) \n",
    "def Px(x): return P(x=x, y=0) + P(x=x, y=1)\n",
    "def Py(y): return P(x=0, y=y) + P(x=1, y=y)\n",
    "def Px_giv_y(x, y): return P(x=x, y=y)  / Py(y=y)\n",
    "def Py_giv_x(x, y): return P(x=x, y=y)  / Px(x=x)"
   ]
  },
  {
   "cell_type": "code",
   "execution_count": 13,
   "metadata": {},
   "outputs": [
    {
     "name": "stdout",
     "output_type": "stream",
     "text": [
      "P(x=0) = 33.333%\n",
      "P(x=1) = 66.667%\n",
      "\n",
      "P(y=0) = 33.333%\n",
      "P(y=1) = 66.667%\n",
      "\n",
      "P(x=0|y=0) = 0.000%\n",
      "P(x=1|y=0) = 100.000%\n",
      "\n",
      "P(y=0|x=1) = 50.000%\n",
      "P(y=1|x=1) = 50.000%\n"
     ]
    }
   ],
   "source": [
    "print(f\"P(x=0) = {Px(x=0):0.3%}\")\n",
    "print(f\"P(x=1) = {Px(x=1):0.3%}\")\n",
    "print()\n",
    "print(f\"P(y=0) = {Py(y=0):0.3%}\")\n",
    "print(f\"P(y=1) = {Py(y=1):0.3%}\")\n",
    "print()\n",
    "print(f\"P(x=0|y=0) = {Px_giv_y(x=0, y=0):0.3%}\")\n",
    "print(f\"P(x=1|y=0) = {Px_giv_y(x=1, y=0):0.3%}\")\n",
    "print()\n",
    "print(f\"P(y=0|x=1) = {Py_giv_x(y=0, x=1):0.3%}\")\n",
    "print(f\"P(y=1|x=1) = {Py_giv_x(y=1, x=1):0.3%}\")"
   ]
  },
  {
   "cell_type": "code",
   "execution_count": 14,
   "metadata": {},
   "outputs": [
    {
     "data": {
      "text/plain": [
       "0.6365141682948128"
      ]
     },
     "execution_count": 14,
     "metadata": {},
     "output_type": "execute_result"
    }
   ],
   "source": [
    "Hx = -(np.log(Px(0)) * Px(0) + np.log(Px(1)) * Px(1)); Hx"
   ]
  },
  {
   "cell_type": "code",
   "execution_count": 15,
   "metadata": {},
   "outputs": [
    {
     "data": {
      "text/plain": [
       "0.6365141682948128"
      ]
     },
     "execution_count": 15,
     "metadata": {},
     "output_type": "execute_result"
    }
   ],
   "source": [
    "Hy = -(np.log(Py(0)) * Py(0) + np.log(Py(1)) * Py(1)); Hx"
   ]
  },
  {
   "cell_type": "markdown",
   "metadata": {},
   "source": [
    "$$\n",
    "\\begin{align}\n",
    "    H[x|y] &= -\\sum_i\\sum_j P(x=i, y=j) \\log P(x=i|y=j) \\\\\n",
    "\\end{align}\n",
    "$$"
   ]
  },
  {
   "cell_type": "code",
   "execution_count": 16,
   "metadata": {},
   "outputs": [],
   "source": [
    "def log(x): return 0 if x == 0 else np.log(x)"
   ]
  },
  {
   "cell_type": "code",
   "execution_count": 21,
   "metadata": {},
   "outputs": [
    {
     "data": {
      "text/plain": [
       "2.1972245773362196"
      ]
     },
     "execution_count": 21,
     "metadata": {},
     "output_type": "execute_result"
    }
   ],
   "source": [
    "Hx_giv_y = -(log(P(x=0, y=0)) * Px_giv_y(x=0, y=0) +\\\n",
    "             log(P(x=1, y=0)) * Px_giv_y(x=1, y=0) +\\\n",
    "             log(P(x=0, y=1)) * Px_giv_y(x=0, y=1) +\\\n",
    "             log(P(x=1, y=1)) * Px_giv_y(x=1, y=1))\n",
    "Hx_giv_y"
   ]
  },
  {
   "cell_type": "code",
   "execution_count": 24,
   "metadata": {},
   "outputs": [
    {
     "data": {
      "text/plain": [
       "2.1972245773362196"
      ]
     },
     "execution_count": 24,
     "metadata": {},
     "output_type": "execute_result"
    }
   ],
   "source": [
    "Hy_giv_x = -(log(P(x=0, y=0)) * Py_giv_x(x=0, y=0) +\\\n",
    "             log(P(x=1, y=0)) * Py_giv_x(x=1, y=0) +\\\n",
    "             log(P(x=0, y=1)) * Py_giv_x(x=0, y=1) +\\\n",
    "             log(P(x=1, y=1)) * Py_giv_x(x=1, y=1))\n",
    "Hy_giv_x"
   ]
  },
  {
   "cell_type": "code",
   "execution_count": 25,
   "metadata": {},
   "outputs": [
    {
     "data": {
      "text/plain": [
       "1.0986122886681096"
      ]
     },
     "execution_count": 25,
     "metadata": {},
     "output_type": "execute_result"
    }
   ],
   "source": [
    "Hxy = -(log(P(x=0, y=0)) * P(x=0, y=0) +\\\n",
    "        log(P(x=1, y=0)) * P(x=1, y=0) +\\\n",
    "        log(P(x=0, y=1)) * P(x=0, y=1) +\\\n",
    "        log(P(x=1, y=1)) * P(x=1, y=1))\n",
    "Hxy"
   ]
  },
  {
   "cell_type": "markdown",
   "metadata": {},
   "source": [
    "We define the mutual information between two r.vs $x$ and $y$ as\n",
    "$$\n",
    "I[x, y] = \\text{KL}(p(x, y)||p(x)p(y))\n",
    "$$\n",
    "Where,\n",
    "$$\n",
    "    \\text{KL}(p, q) = -\\int p(x) \\log\\frac{q(x)}{p(x)} dx\n",
    "$$\n",
    "\n",
    "Then,\n",
    "$$\n",
    "\\text{KL}(p(x,y)||p(x)p(y)) = -\\int\\int p(x, y) \\log\\left(\\frac{p(x)p(y)}{p(x, y)}\\right)dx dy\n",
    "$$"
   ]
  },
  {
   "cell_type": "code",
   "execution_count": 26,
   "metadata": {},
   "outputs": [
    {
     "data": {
      "text/plain": [
       "0.174416047921516"
      ]
     },
     "execution_count": 26,
     "metadata": {},
     "output_type": "execute_result"
    }
   ],
   "source": [
    "Ixy = -sum([P(x=x, y=y) * log(Px(x=x) * Py(y=y) / P(x=x, y=y)) for x, y in product([0,1],[0,1]) if P(x, y) != 0])\n",
    "Ixy"
   ]
  }
 ],
 "metadata": {
  "kernelspec": {
   "display_name": "Python 3",
   "language": "python",
   "name": "python3"
  },
  "language_info": {
   "codemirror_mode": {
    "name": "ipython",
    "version": 3
   },
   "file_extension": ".py",
   "mimetype": "text/x-python",
   "name": "python",
   "nbconvert_exporter": "python",
   "pygments_lexer": "ipython3",
   "version": "3.6.6"
  }
 },
 "nbformat": 4,
 "nbformat_minor": 2
}
