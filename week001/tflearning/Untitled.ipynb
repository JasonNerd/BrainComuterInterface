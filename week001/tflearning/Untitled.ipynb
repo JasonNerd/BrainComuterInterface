{
 "cells": [
  {
   "cell_type": "markdown",
   "id": "9998d3c7",
   "metadata": {
    "deletable": true,
    "editable": true
   },
   "source": [
    "# 基础知识训练\n",
    "主要是tensorflow的一些基本api以及timeWarp中的一些函数、数据理解"
   ]
  },
  {
   "cell_type": "code",
   "execution_count": 1,
   "id": "a8b39f3a",
   "metadata": {
    "collapsed": false,
    "deletable": true,
    "editable": true
   },
   "outputs": [
    {
     "data": {
      "text/plain": [
       "<tf.Tensor 'add:0' shape=(3,) dtype=float32>"
      ]
     },
     "execution_count": 1,
     "metadata": {},
     "output_type": "execute_result"
    }
   ],
   "source": [
    "import tensorflow as tf\n",
    "import os\n",
    "a = tf.constant([1.2,2.3,3.6], shape=[3],name='a')\n",
    "b = tf.constant([1.2,2.3,3.6], shape=[3],name='b')\n",
    "c = a+b\n",
    "c"
   ]
  },
  {
   "cell_type": "code",
   "execution_count": 4,
   "id": "f2b9fac1",
   "metadata": {
    "collapsed": false,
    "deletable": true,
    "editable": true
   },
   "outputs": [
    {
     "name": "stdout",
     "output_type": "stream",
     "text": [
      "WARNING:tensorflow:From c:\\users\\mrrai\\desktop\\braincomuterinterface\\week001\\experiments\\twpca\\twpca\\model.py:27: The name tf.train.AdamOptimizer is deprecated. Please use tf.compat.v1.train.AdamOptimizer instead.\n",
      "\n"
     ]
    }
   ],
   "source": [
    "# 导入../experiments/handwritingBCI/中的py文件\n",
    "import sys\n",
    "sys.path.append(\"../experiments/handwritingBCI/\")\n",
    "from twpca import TWPCA\n",
    "from twpca.regularizers import curvature\n",
    "from characterDefinitions import getHandwritingCharacterDefinitions\n"
   ]
  },
  {
   "cell_type": "code",
   "execution_count": null,
   "id": "744ad0fa",
   "metadata": {
    "collapsed": true,
    "deletable": true,
    "editable": true
   },
   "outputs": [],
   "source": []
  }
 ],
 "metadata": {
  "kernelspec": {
   "display_name": "Python 3",
   "language": "python",
   "name": "python3"
  },
  "language_info": {
   "codemirror_mode": {
    "name": "ipython",
    "version": 3
   },
   "file_extension": ".py",
   "mimetype": "text/x-python",
   "name": "python",
   "nbconvert_exporter": "python",
   "pygments_lexer": "ipython3",
   "version": "3.6.13"
  }
 },
 "nbformat": 4,
 "nbformat_minor": 5
}
